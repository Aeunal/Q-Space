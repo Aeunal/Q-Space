{
 "cells": [
  {
   "cell_type": "code",
   "execution_count": 1,
   "metadata": {},
   "outputs": [
    {
     "name": "stdout",
     "output_type": "stream",
     "text": [
      "Env: BreakoutNoFrameskip-v4\n",
      "Obs: Box(210, 160, 3)\n",
      "Actions: Discrete(4) - ['NOOP', 'FIRE', 'RIGHT', 'LEFT']\n",
      "Reward range: (-inf, inf)\n"
     ]
    }
   ],
   "source": [
    "import matplotlib.pyplot as plt\n",
    "import skimage.measure\n",
    "import numpy as np\n",
    "import cv2\n",
    "import PIL\n",
    "\n",
    "import random\n",
    "import time\n",
    "\n",
    "from keras.layers import Dense,Conv2D,MaxPooling2D,UpSampling2D\n",
    "from keras import Input, Model\n",
    "import tensorflow as tf\n",
    "from tensorflow.keras import regularizers\n",
    "\n",
    "from q_space import Environment\n",
    "env = Environment.make_env()"
   ]
  },
  {
   "cell_type": "code",
   "execution_count": 2,
   "metadata": {},
   "outputs": [
    {
     "data": {
      "text/plain": [
       "(41, 36)"
      ]
     },
     "execution_count": 2,
     "metadata": {},
     "output_type": "execute_result"
    }
   ],
   "source": [
    "obs = Environment.reset(env)\n",
    "obs.shape"
   ]
  },
  {
   "cell_type": "code",
   "execution_count": 4,
   "metadata": {},
   "outputs": [],
   "source": [
    "for i in range(640-1):\n",
    "    act = random.randint(1,3)\n",
    "    obs, reward, done = Environment.step(env, act)\n",
    "\n",
    "    if done:\n",
    "        Environment.reset(env)\n",
    "    #img1 = PIL.Image.fromarray(obs_g)\n",
    "    #clear_output(wait=False)\n",
    "    #display(img1.resize((200,200)))\n",
    "    #img1.save(f\"images/test{i}.png\")\n",
    "    #time.sleep(0.1)\n",
    "    #clear_output(wait=False)"
   ]
  },
  {
   "cell_type": "code",
   "execution_count": 5,
   "metadata": {},
   "outputs": [],
   "source": [
    "Environment.close(env)"
   ]
  },
  {
   "cell_type": "code",
   "execution_count": null,
   "metadata": {},
   "outputs": [],
   "source": [
    "in_size = np.prod(Environment.OBS_SHAPE)\n",
    "encoding_dim = 32\n",
    "hidden_dim = 64\n",
    "input_img = Input(shape=(in_size,))\n",
    "# hidden representation of input\n",
    "hidden = Dense(hidden_dim, activation='relu', \n",
    "    kernel_regularizer=regularizers.L1L2(l1=1e-6, l2=1e-5),\n",
    "    bias_regularizer=regularizers.L2(1e-5),\n",
    "    activity_regularizer=regularizers.L2(1e-6))(input_img)\n",
    "# encoded representation of input\n",
    "encoded = Dense(encoding_dim, activation='relu',\n",
    "    kernel_regularizer=regularizers.L1L2(l1=1e-6, l2=1e-5),\n",
    "    bias_regularizer=regularizers.L2(1e-5),\n",
    "    activity_regularizer=regularizers.L2(1e-6))(hidden)\n",
    "# hidden representation of code \n",
    "hidden = Dense(hidden_dim, activation='relu',\n",
    "    kernel_regularizer=regularizers.L1L2(l1=1e-6, l2=1e-5),\n",
    "    bias_regularizer=regularizers.L2(1e-5),\n",
    "    activity_regularizer=regularizers.L2(1e-6))(encoded)\n",
    "# decoded representation of code \n",
    "decoded = Dense(in_size, activation='sigmoid',\n",
    "    kernel_regularizer=regularizers.L1L2(l1=1e-6, l2=1e-5),\n",
    "    bias_regularizer=regularizers.L2(1e-5),\n",
    "    activity_regularizer=regularizers.L2(1e-6))(hidden)\n",
    "# Model which take input image and shows decoded images\n",
    "autoencoder = Model(input_img, decoded)\n",
    "\n",
    "\n",
    "# This model shows encoded images\n",
    "encoder = Model(input_img, encoded)\n",
    "# Creating a decoder model\n",
    "encoded_input = Input(shape=(encoding_dim,))\n",
    "# last layer of the autoencoder model\n",
    "hidden_layer = autoencoder.layers[-2]\n",
    "decoder_layer = autoencoder.layers[-1]#from encoding to end\n",
    "# decoder model\n",
    "decoder = Model(encoded_input, decoder_layer(hidden_layer(encoded_input)))"
   ]
  },
  {
   "cell_type": "code",
   "execution_count": 49,
   "metadata": {},
   "outputs": [],
   "source": [
    "in_size = np.prod(Environment.OBS_SHAPE)\n",
    "encoding_dim = 32\n",
    "hidden_dim = 64\n",
    "input_img = Input(shape=(in_size,))\n",
    "# encoded representation of input\n",
    "encoded = Dense(encoding_dim, activation='relu')(input_img)\n",
    "# decoded representation of code \n",
    "decoded = Dense(in_size, activation='sigmoid')(encoded)\n",
    "# Model which take input image and shows decoded images\n",
    "autoencoder = Model(input_img, decoded)\n",
    "\n",
    "\n",
    "# This model shows encoded images\n",
    "encoder = Model(input_img, encoded)\n",
    "# Creating a decoder model\n",
    "encoded_input = Input(shape=(encoding_dim,))\n",
    "# last layer of the autoencoder model\n",
    "decoder_layer = autoencoder.layers[-1]#from encoding to end\n",
    "# decoder model\n",
    "decoder = Model(encoded_input, decoder_layer(encoded_input))"
   ]
  },
  {
   "cell_type": "code",
   "execution_count": 3,
   "metadata": {},
   "outputs": [],
   "source": [
    "in_size = np.prod((25,36))\n",
    "encoding_dim = 32\n",
    "hidden_dim = 64\n",
    "input_img = Input(shape=(in_size,))\n",
    "# encoded representation of input\n",
    "encoded = Dense(encoding_dim, activation='relu')(input_img)\n",
    "# decoded representation of code \n",
    "decoded = Dense(in_size, activation='sigmoid')(encoded)\n",
    "# Model which take input image and shows decoded images\n",
    "autoencoder = Model(input_img, decoded)\n",
    "\n",
    "\n",
    "# This model shows encoded images\n",
    "encoder = Model(input_img, encoded)\n",
    "# Creating a decoder model\n",
    "encoded_input = Input(shape=(encoding_dim,))\n",
    "# last layer of the autoencoder model\n",
    "decoder_layer = autoencoder.layers[-1]#from encoding to end\n",
    "# decoder model\n",
    "decoder = Model(encoded_input, decoder_layer(encoded_input))"
   ]
  },
  {
   "cell_type": "code",
   "execution_count": 17,
   "metadata": {},
   "outputs": [],
   "source": [
    "in_size = np.prod((23,36))\n",
    "encoding_dim = 32\n",
    "hidden_dim = 64\n",
    "input_img = Input(shape=(in_size,))\n",
    "# encoded representation of input\n",
    "encoded = Dense(encoding_dim, activation='relu')(input_img)\n",
    "# decoded representation of code \n",
    "decoded = Dense(in_size, activation='sigmoid')(encoded)\n",
    "# Model which take input image and shows decoded images\n",
    "autoencoder = Model(input_img, decoded)\n",
    "\n",
    "\n",
    "# This model shows encoded images\n",
    "encoder = Model(input_img, encoded)\n",
    "# Creating a decoder model\n",
    "encoded_input = Input(shape=(encoding_dim,))\n",
    "# last layer of the autoencoder model\n",
    "decoder_layer = autoencoder.layers[-1]#from encoding to end\n",
    "# decoder model\n",
    "decoder = Model(encoded_input, decoder_layer(encoded_input))"
   ]
  },
  {
   "cell_type": "code",
   "execution_count": 18,
   "metadata": {},
   "outputs": [],
   "source": [
    "autoencoder.compile(optimizer='adam', loss='binary_crossentropy')"
   ]
  },
  {
   "cell_type": "code",
   "execution_count": null,
   "metadata": {},
   "outputs": [],
   "source": [
    "batch_size = 32\n",
    "train_ds = tf.keras.utils.image_dataset_from_directory(\n",
    "  \"./images\",\n",
    "  validation_split=0.5,\n",
    "  subset=\"training\",\n",
    "  seed=123,\n",
    "  image_size=Environment.OBS_SHAPE,\n",
    "  color_mode='grayscale',\n",
    "  batch_size=batch_size)\n",
    "\n",
    "val_ds = tf.keras.utils.image_dataset_from_directory(\n",
    "  \"./images\",\n",
    "  validation_split=0.5,\n",
    "  subset=\"validation\",\n",
    "  seed=123,\n",
    "  image_size=Environment.OBS_SHAPE,\n",
    "  color_mode='grayscale',\n",
    "  batch_size=batch_size)\n",
    "\n",
    "normalization_layer = tf.keras.layers.Rescaling(1./255)\n",
    "\n",
    "def change_inputs(images, labels):\n",
    "    x = normalization_layer(images)\n",
    "    #x = tf.image.resize(x, [28, 28], method=tf.image.ResizeMethod.NEAREST_NEIGHBOR)\n",
    "    #x = x.reshape(np.prod(x.shape))\n",
    "    print(x.shape)\n",
    "    batch = x.shape[0] if x.shape[0] else batch_size\n",
    "    x = tf.reshape(x, [batch,in_size])\n",
    "    return x, x\n",
    "\n",
    "normalized_ds = train_ds.map(change_inputs)\n",
    "normalized_val_ds = val_ds.map(change_inputs)\n"
   ]
  },
  {
   "cell_type": "code",
   "execution_count": 9,
   "metadata": {},
   "outputs": [
    {
     "name": "stdout",
     "output_type": "stream",
     "text": [
      "Found 640 files belonging to 1 classes.\n",
      "Using 320 files for training.\n",
      "Found 640 files belonging to 1 classes.\n",
      "Using 320 files for validation.\n",
      "(None, 41, 36, 1)\n",
      "(32, 900)\n",
      "(None, 41, 36, 1)\n",
      "(32, 900)\n"
     ]
    }
   ],
   "source": [
    "batch_size = 32\n",
    "train_ds = tf.keras.utils.image_dataset_from_directory(\n",
    "  \"./images\",\n",
    "  validation_split=0.5,\n",
    "  subset=\"training\",\n",
    "  seed=123,\n",
    "  image_size=Environment.OBS_SHAPE,\n",
    "  color_mode='grayscale',\n",
    "  batch_size=batch_size)\n",
    "\n",
    "val_ds = tf.keras.utils.image_dataset_from_directory(\n",
    "  \"./images\",\n",
    "  validation_split=0.5,\n",
    "  subset=\"validation\",\n",
    "  seed=123,\n",
    "  image_size=Environment.OBS_SHAPE,\n",
    "  color_mode='grayscale',\n",
    "  batch_size=batch_size)\n",
    "\n",
    "normalization_layer = tf.keras.layers.Rescaling(1./255)\n",
    "\n",
    "def change_inputs(images, labels):\n",
    "    x = normalization_layer(images)\n",
    "    #x = tf.image.resize(x, [28, 28], method=tf.image.ResizeMethod.NEAREST_NEIGHBOR)\n",
    "    #x = x.reshape(np.prod(x.shape))\n",
    "    print(x.shape)\n",
    "    x = tf.image.crop_to_bounding_box(\n",
    "        x, 16, 0, 41-16, 36\n",
    "    )\n",
    "    batch = x.shape[0] if x.shape[0] else batch_size\n",
    "    x = tf.reshape(x, [batch,in_size])\n",
    "    print(x.shape)\n",
    "    return x, x\n",
    "\n",
    "normalized_ds = train_ds.map(change_inputs)\n",
    "normalized_val_ds = val_ds.map(change_inputs)\n"
   ]
  },
  {
   "cell_type": "code",
   "execution_count": 19,
   "metadata": {},
   "outputs": [
    {
     "name": "stdout",
     "output_type": "stream",
     "text": [
      "Found 640 files belonging to 1 classes.\n",
      "Using 320 files for training.\n",
      "Found 640 files belonging to 1 classes.\n",
      "Using 320 files for validation.\n",
      "(None, 41, 36, 1)\n",
      "(32, 828)\n",
      "(None, 41, 36, 1)\n",
      "(32, 828)\n"
     ]
    }
   ],
   "source": [
    "batch_size = 32\n",
    "train_ds = tf.keras.utils.image_dataset_from_directory(\n",
    "  \"./images\",\n",
    "  validation_split=0.5,\n",
    "  subset=\"training\",\n",
    "  seed=123,\n",
    "  image_size=Environment.OBS_SHAPE,\n",
    "  color_mode='grayscale',\n",
    "  batch_size=batch_size)\n",
    "\n",
    "val_ds = tf.keras.utils.image_dataset_from_directory(\n",
    "  \"./images\",\n",
    "  validation_split=0.5,\n",
    "  subset=\"validation\",\n",
    "  seed=123,\n",
    "  image_size=Environment.OBS_SHAPE,\n",
    "  color_mode='grayscale',\n",
    "  batch_size=batch_size)\n",
    "\n",
    "normalization_layer = tf.keras.layers.Rescaling(1./255)\n",
    "\n",
    "def change_inputs(images, labels):\n",
    "    x = normalization_layer(images)\n",
    "    #x = tf.image.resize(x, [28, 28], method=tf.image.ResizeMethod.NEAREST_NEIGHBOR)\n",
    "    #x = x.reshape(np.prod(x.shape))\n",
    "    print(x.shape)\n",
    "    x = tf.image.crop_to_bounding_box(\n",
    "        x, 16, 0, 41-16-2, 36\n",
    "    )\n",
    "    batch = x.shape[0] if x.shape[0] else batch_size\n",
    "    x = tf.reshape(x, [batch,in_size])\n",
    "    print(x.shape)\n",
    "    return x, x\n",
    "\n",
    "normalized_ds = train_ds.map(change_inputs)\n",
    "normalized_val_ds = val_ds.map(change_inputs)\n"
   ]
  },
  {
   "cell_type": "code",
   "execution_count": 20,
   "metadata": {},
   "outputs": [
    {
     "name": "stdout",
     "output_type": "stream",
     "text": [
      "Epoch 1/500\n",
      "10/10 [==============================] - 1s 32ms/step - loss: 0.6896 - val_loss: 0.6845\n",
      "Epoch 2/500\n",
      "10/10 [==============================] - 0s 19ms/step - loss: 0.6792 - val_loss: 0.6727\n",
      "Epoch 3/500\n",
      "10/10 [==============================] - 0s 21ms/step - loss: 0.6648 - val_loss: 0.6559\n",
      "Epoch 4/500\n",
      "10/10 [==============================] - 0s 17ms/step - loss: 0.6436 - val_loss: 0.6322\n",
      "Epoch 5/500\n",
      "10/10 [==============================] - 0s 18ms/step - loss: 0.6142 - val_loss: 0.5999\n",
      "Epoch 6/500\n",
      "10/10 [==============================] - 0s 19ms/step - loss: 0.5750 - val_loss: 0.5587\n",
      "Epoch 7/500\n",
      "10/10 [==============================] - 0s 19ms/step - loss: 0.5266 - val_loss: 0.5090\n",
      "Epoch 8/500\n",
      "10/10 [==============================] - 0s 18ms/step - loss: 0.4708 - val_loss: 0.4536\n",
      "Epoch 9/500\n",
      "10/10 [==============================] - 0s 19ms/step - loss: 0.4115 - val_loss: 0.3962\n",
      "Epoch 10/500\n",
      "10/10 [==============================] - 0s 18ms/step - loss: 0.3523 - val_loss: 0.3406\n",
      "Epoch 11/500\n",
      "10/10 [==============================] - 0s 22ms/step - loss: 0.2977 - val_loss: 0.2899\n",
      "Epoch 12/500\n",
      "10/10 [==============================] - 0s 18ms/step - loss: 0.2498 - val_loss: 0.2457\n",
      "Epoch 13/500\n",
      "10/10 [==============================] - 0s 17ms/step - loss: 0.2097 - val_loss: 0.2086\n",
      "Epoch 14/500\n",
      "10/10 [==============================] - 0s 17ms/step - loss: 0.1767 - val_loss: 0.1782\n",
      "Epoch 15/500\n",
      "10/10 [==============================] - 0s 18ms/step - loss: 0.1502 - val_loss: 0.1535\n",
      "Epoch 16/500\n",
      "10/10 [==============================] - 0s 18ms/step - loss: 0.1293 - val_loss: 0.1334\n",
      "Epoch 17/500\n",
      "10/10 [==============================] - 0s 18ms/step - loss: 0.1123 - val_loss: 0.1171\n",
      "Epoch 18/500\n",
      "10/10 [==============================] - 0s 18ms/step - loss: 0.0987 - val_loss: 0.1039\n",
      "Epoch 19/500\n",
      "10/10 [==============================] - 0s 19ms/step - loss: 0.0877 - val_loss: 0.0930\n",
      "Epoch 20/500\n",
      "10/10 [==============================] - 0s 17ms/step - loss: 0.0788 - val_loss: 0.0839\n",
      "Epoch 21/500\n",
      "10/10 [==============================] - 0s 19ms/step - loss: 0.0713 - val_loss: 0.0763\n",
      "Epoch 22/500\n",
      "10/10 [==============================] - 0s 23ms/step - loss: 0.0652 - val_loss: 0.0699\n",
      "Epoch 23/500\n",
      "10/10 [==============================] - 0s 23ms/step - loss: 0.0599 - val_loss: 0.0644\n",
      "Epoch 24/500\n",
      "10/10 [==============================] - 0s 24ms/step - loss: 0.0554 - val_loss: 0.0598\n",
      "Epoch 25/500\n",
      "10/10 [==============================] - 0s 21ms/step - loss: 0.0517 - val_loss: 0.0558\n",
      "Epoch 26/500\n",
      "10/10 [==============================] - 0s 20ms/step - loss: 0.0484 - val_loss: 0.0523\n",
      "Epoch 27/500\n",
      "10/10 [==============================] - 0s 16ms/step - loss: 0.0456 - val_loss: 0.0492\n",
      "Epoch 28/500\n",
      "10/10 [==============================] - 0s 17ms/step - loss: 0.0431 - val_loss: 0.0465\n",
      "Epoch 29/500\n",
      "10/10 [==============================] - 0s 18ms/step - loss: 0.0409 - val_loss: 0.0441\n",
      "Epoch 30/500\n",
      "10/10 [==============================] - 0s 19ms/step - loss: 0.0389 - val_loss: 0.0419\n",
      "Epoch 31/500\n",
      "10/10 [==============================] - 0s 16ms/step - loss: 0.0372 - val_loss: 0.0400\n",
      "Epoch 32/500\n",
      "10/10 [==============================] - 0s 19ms/step - loss: 0.0357 - val_loss: 0.0383\n",
      "Epoch 33/500\n",
      "10/10 [==============================] - 0s 19ms/step - loss: 0.0343 - val_loss: 0.0368\n",
      "Epoch 34/500\n",
      "10/10 [==============================] - 0s 16ms/step - loss: 0.0331 - val_loss: 0.0354\n",
      "Epoch 35/500\n",
      "10/10 [==============================] - 0s 17ms/step - loss: 0.0320 - val_loss: 0.0341\n",
      "Epoch 36/500\n",
      "10/10 [==============================] - 0s 16ms/step - loss: 0.0310 - val_loss: 0.0330\n",
      "Epoch 37/500\n",
      "10/10 [==============================] - 0s 17ms/step - loss: 0.0300 - val_loss: 0.0320\n",
      "Epoch 38/500\n",
      "10/10 [==============================] - 0s 17ms/step - loss: 0.0292 - val_loss: 0.0310\n",
      "Epoch 39/500\n",
      "10/10 [==============================] - 0s 18ms/step - loss: 0.0284 - val_loss: 0.0301\n",
      "Epoch 40/500\n",
      "10/10 [==============================] - 0s 19ms/step - loss: 0.0277 - val_loss: 0.0293\n",
      "Epoch 41/500\n",
      "10/10 [==============================] - 0s 16ms/step - loss: 0.0271 - val_loss: 0.0286\n",
      "Epoch 42/500\n",
      "10/10 [==============================] - 0s 17ms/step - loss: 0.0265 - val_loss: 0.0279\n",
      "Epoch 43/500\n",
      "10/10 [==============================] - 0s 18ms/step - loss: 0.0259 - val_loss: 0.0273\n",
      "Epoch 44/500\n",
      "10/10 [==============================] - 0s 16ms/step - loss: 0.0254 - val_loss: 0.0267\n",
      "Epoch 45/500\n",
      "10/10 [==============================] - 0s 18ms/step - loss: 0.0249 - val_loss: 0.0262\n",
      "Epoch 46/500\n",
      "10/10 [==============================] - 0s 19ms/step - loss: 0.0245 - val_loss: 0.0257\n",
      "Epoch 47/500\n",
      "10/10 [==============================] - 0s 16ms/step - loss: 0.0240 - val_loss: 0.0252\n",
      "Epoch 48/500\n",
      "10/10 [==============================] - 0s 17ms/step - loss: 0.0236 - val_loss: 0.0248\n",
      "Epoch 49/500\n",
      "10/10 [==============================] - 0s 17ms/step - loss: 0.0233 - val_loss: 0.0244\n",
      "Epoch 50/500\n",
      "10/10 [==============================] - 0s 19ms/step - loss: 0.0229 - val_loss: 0.0240\n",
      "Epoch 51/500\n",
      "10/10 [==============================] - 0s 18ms/step - loss: 0.0226 - val_loss: 0.0236\n",
      "Epoch 52/500\n",
      "10/10 [==============================] - 0s 16ms/step - loss: 0.0223 - val_loss: 0.0233\n",
      "Epoch 53/500\n",
      "10/10 [==============================] - 0s 19ms/step - loss: 0.0220 - val_loss: 0.0230\n",
      "Epoch 54/500\n",
      "10/10 [==============================] - 0s 16ms/step - loss: 0.0218 - val_loss: 0.0227\n",
      "Epoch 55/500\n",
      "10/10 [==============================] - 0s 16ms/step - loss: 0.0215 - val_loss: 0.0224\n",
      "Epoch 56/500\n",
      "10/10 [==============================] - 0s 18ms/step - loss: 0.0213 - val_loss: 0.0221\n",
      "Epoch 57/500\n",
      "10/10 [==============================] - 0s 16ms/step - loss: 0.0210 - val_loss: 0.0219\n",
      "Epoch 58/500\n",
      "10/10 [==============================] - 0s 17ms/step - loss: 0.0208 - val_loss: 0.0216\n",
      "Epoch 59/500\n",
      "10/10 [==============================] - 0s 17ms/step - loss: 0.0206 - val_loss: 0.0214\n",
      "Epoch 60/500\n",
      "10/10 [==============================] - 0s 17ms/step - loss: 0.0204 - val_loss: 0.0212\n",
      "Epoch 61/500\n",
      "10/10 [==============================] - 0s 18ms/step - loss: 0.0202 - val_loss: 0.0210\n",
      "Epoch 62/500\n",
      "10/10 [==============================] - 0s 19ms/step - loss: 0.0200 - val_loss: 0.0208\n",
      "Epoch 63/500\n",
      "10/10 [==============================] - 0s 16ms/step - loss: 0.0199 - val_loss: 0.0206\n",
      "Epoch 64/500\n",
      "10/10 [==============================] - 0s 17ms/step - loss: 0.0197 - val_loss: 0.0204\n",
      "Epoch 65/500\n",
      "10/10 [==============================] - 0s 20ms/step - loss: 0.0195 - val_loss: 0.0203\n",
      "Epoch 66/500\n",
      "10/10 [==============================] - 0s 16ms/step - loss: 0.0194 - val_loss: 0.0201\n",
      "Epoch 67/500\n",
      "10/10 [==============================] - 0s 18ms/step - loss: 0.0192 - val_loss: 0.0200\n",
      "Epoch 68/500\n",
      "10/10 [==============================] - 0s 16ms/step - loss: 0.0191 - val_loss: 0.0198\n",
      "Epoch 69/500\n",
      "10/10 [==============================] - 0s 18ms/step - loss: 0.0190 - val_loss: 0.0197\n",
      "Epoch 70/500\n",
      "10/10 [==============================] - 0s 17ms/step - loss: 0.0188 - val_loss: 0.0195\n",
      "Epoch 71/500\n",
      "10/10 [==============================] - 0s 23ms/step - loss: 0.0187 - val_loss: 0.0194\n",
      "Epoch 72/500\n",
      "10/10 [==============================] - 0s 17ms/step - loss: 0.0186 - val_loss: 0.0193\n",
      "Epoch 73/500\n",
      "10/10 [==============================] - 0s 17ms/step - loss: 0.0185 - val_loss: 0.0192\n",
      "Epoch 74/500\n",
      "10/10 [==============================] - 0s 17ms/step - loss: 0.0184 - val_loss: 0.0191\n",
      "Epoch 75/500\n",
      "10/10 [==============================] - 0s 18ms/step - loss: 0.0183 - val_loss: 0.0190\n",
      "Epoch 76/500\n",
      "10/10 [==============================] - 0s 17ms/step - loss: 0.0182 - val_loss: 0.0189\n",
      "Epoch 77/500\n",
      "10/10 [==============================] - 0s 17ms/step - loss: 0.0181 - val_loss: 0.0188\n",
      "Epoch 78/500\n",
      "10/10 [==============================] - 0s 16ms/step - loss: 0.0180 - val_loss: 0.0187\n",
      "Epoch 79/500\n",
      "10/10 [==============================] - 0s 18ms/step - loss: 0.0179 - val_loss: 0.0186\n",
      "Epoch 80/500\n",
      "10/10 [==============================] - 0s 18ms/step - loss: 0.0178 - val_loss: 0.0185\n",
      "Epoch 81/500\n",
      "10/10 [==============================] - 0s 16ms/step - loss: 0.0177 - val_loss: 0.0184\n",
      "Epoch 82/500\n",
      "10/10 [==============================] - 0s 16ms/step - loss: 0.0176 - val_loss: 0.0183\n",
      "Epoch 83/500\n",
      "10/10 [==============================] - 0s 17ms/step - loss: 0.0175 - val_loss: 0.0182\n",
      "Epoch 84/500\n",
      "10/10 [==============================] - 0s 17ms/step - loss: 0.0174 - val_loss: 0.0182\n",
      "Epoch 85/500\n",
      "10/10 [==============================] - 0s 18ms/step - loss: 0.0173 - val_loss: 0.0181\n",
      "Epoch 86/500\n",
      "10/10 [==============================] - 0s 17ms/step - loss: 0.0173 - val_loss: 0.0180\n",
      "Epoch 87/500\n",
      "10/10 [==============================] - 0s 17ms/step - loss: 0.0172 - val_loss: 0.0179\n",
      "Epoch 88/500\n",
      "10/10 [==============================] - 0s 19ms/step - loss: 0.0171 - val_loss: 0.0179\n",
      "Epoch 89/500\n",
      "10/10 [==============================] - 0s 19ms/step - loss: 0.0170 - val_loss: 0.0178\n",
      "Epoch 90/500\n",
      "10/10 [==============================] - 0s 17ms/step - loss: 0.0170 - val_loss: 0.0177\n",
      "Epoch 91/500\n",
      "10/10 [==============================] - 0s 17ms/step - loss: 0.0169 - val_loss: 0.0177\n",
      "Epoch 92/500\n",
      "10/10 [==============================] - 0s 20ms/step - loss: 0.0168 - val_loss: 0.0176\n",
      "Epoch 93/500\n",
      "10/10 [==============================] - 0s 22ms/step - loss: 0.0168 - val_loss: 0.0176\n",
      "Epoch 94/500\n",
      "10/10 [==============================] - 0s 22ms/step - loss: 0.0167 - val_loss: 0.0175\n",
      "Epoch 95/500\n",
      "10/10 [==============================] - 0s 21ms/step - loss: 0.0167 - val_loss: 0.0175\n",
      "Epoch 96/500\n",
      "10/10 [==============================] - 0s 21ms/step - loss: 0.0166 - val_loss: 0.0174\n",
      "Epoch 97/500\n",
      "10/10 [==============================] - 0s 17ms/step - loss: 0.0165 - val_loss: 0.0174\n",
      "Epoch 98/500\n",
      "10/10 [==============================] - 0s 17ms/step - loss: 0.0165 - val_loss: 0.0173\n",
      "Epoch 99/500\n",
      "10/10 [==============================] - 0s 18ms/step - loss: 0.0164 - val_loss: 0.0173\n",
      "Epoch 100/500\n",
      "10/10 [==============================] - 0s 17ms/step - loss: 0.0164 - val_loss: 0.0172\n",
      "Epoch 101/500\n",
      "10/10 [==============================] - 0s 19ms/step - loss: 0.0163 - val_loss: 0.0172\n",
      "Epoch 102/500\n",
      "10/10 [==============================] - 0s 17ms/step - loss: 0.0162 - val_loss: 0.0171\n",
      "Epoch 103/500\n",
      "10/10 [==============================] - 0s 17ms/step - loss: 0.0162 - val_loss: 0.0171\n",
      "Epoch 104/500\n",
      "10/10 [==============================] - 0s 18ms/step - loss: 0.0161 - val_loss: 0.0170\n",
      "Epoch 105/500\n",
      "10/10 [==============================] - 0s 18ms/step - loss: 0.0161 - val_loss: 0.0170\n",
      "Epoch 106/500\n",
      "10/10 [==============================] - 0s 17ms/step - loss: 0.0160 - val_loss: 0.0169\n",
      "Epoch 107/500\n",
      "10/10 [==============================] - 0s 17ms/step - loss: 0.0160 - val_loss: 0.0169\n",
      "Epoch 108/500\n",
      "10/10 [==============================] - 0s 17ms/step - loss: 0.0159 - val_loss: 0.0169\n",
      "Epoch 109/500\n",
      "10/10 [==============================] - 0s 19ms/step - loss: 0.0159 - val_loss: 0.0168\n",
      "Epoch 110/500\n",
      "10/10 [==============================] - 0s 17ms/step - loss: 0.0158 - val_loss: 0.0168\n",
      "Epoch 111/500\n",
      "10/10 [==============================] - 0s 16ms/step - loss: 0.0158 - val_loss: 0.0167\n",
      "Epoch 112/500\n",
      "10/10 [==============================] - 0s 17ms/step - loss: 0.0157 - val_loss: 0.0167\n",
      "Epoch 113/500\n",
      "10/10 [==============================] - 0s 18ms/step - loss: 0.0157 - val_loss: 0.0167\n",
      "Epoch 114/500\n",
      "10/10 [==============================] - 0s 17ms/step - loss: 0.0157 - val_loss: 0.0166\n",
      "Epoch 115/500\n",
      "10/10 [==============================] - 0s 17ms/step - loss: 0.0156 - val_loss: 0.0166\n",
      "Epoch 116/500\n",
      "10/10 [==============================] - 0s 17ms/step - loss: 0.0156 - val_loss: 0.0166\n",
      "Epoch 117/500\n",
      "10/10 [==============================] - 0s 18ms/step - loss: 0.0155 - val_loss: 0.0165\n",
      "Epoch 118/500\n",
      "10/10 [==============================] - 0s 18ms/step - loss: 0.0155 - val_loss: 0.0165\n",
      "Epoch 119/500\n",
      "10/10 [==============================] - 0s 18ms/step - loss: 0.0154 - val_loss: 0.0165\n",
      "Epoch 120/500\n",
      "10/10 [==============================] - 0s 16ms/step - loss: 0.0154 - val_loss: 0.0164\n",
      "Epoch 121/500\n",
      "10/10 [==============================] - 0s 17ms/step - loss: 0.0154 - val_loss: 0.0164\n",
      "Epoch 122/500\n",
      "10/10 [==============================] - 0s 17ms/step - loss: 0.0153 - val_loss: 0.0164\n",
      "Epoch 123/500\n",
      "10/10 [==============================] - 0s 18ms/step - loss: 0.0153 - val_loss: 0.0163\n",
      "Epoch 124/500\n",
      "10/10 [==============================] - 0s 17ms/step - loss: 0.0152 - val_loss: 0.0163\n",
      "Epoch 125/500\n",
      "10/10 [==============================] - 0s 18ms/step - loss: 0.0152 - val_loss: 0.0163\n",
      "Epoch 126/500\n",
      "10/10 [==============================] - 0s 16ms/step - loss: 0.0152 - val_loss: 0.0163\n",
      "Epoch 127/500\n",
      "10/10 [==============================] - 0s 19ms/step - loss: 0.0151 - val_loss: 0.0162\n",
      "Epoch 128/500\n",
      "10/10 [==============================] - 0s 17ms/step - loss: 0.0151 - val_loss: 0.0162\n",
      "Epoch 129/500\n",
      "10/10 [==============================] - 0s 16ms/step - loss: 0.0150 - val_loss: 0.0162\n",
      "Epoch 130/500\n",
      "10/10 [==============================] - 0s 17ms/step - loss: 0.0150 - val_loss: 0.0161\n",
      "Epoch 131/500\n",
      "10/10 [==============================] - 0s 20ms/step - loss: 0.0150 - val_loss: 0.0161\n",
      "Epoch 132/500\n",
      "10/10 [==============================] - 0s 17ms/step - loss: 0.0149 - val_loss: 0.0161\n",
      "Epoch 133/500\n",
      "10/10 [==============================] - 0s 18ms/step - loss: 0.0149 - val_loss: 0.0161\n",
      "Epoch 134/500\n",
      "10/10 [==============================] - 0s 17ms/step - loss: 0.0148 - val_loss: 0.0160\n",
      "Epoch 135/500\n",
      "10/10 [==============================] - 0s 18ms/step - loss: 0.0148 - val_loss: 0.0160\n",
      "Epoch 136/500\n",
      "10/10 [==============================] - 0s 16ms/step - loss: 0.0148 - val_loss: 0.0160\n",
      "Epoch 137/500\n",
      "10/10 [==============================] - 0s 17ms/step - loss: 0.0147 - val_loss: 0.0159\n",
      "Epoch 138/500\n",
      "10/10 [==============================] - 0s 17ms/step - loss: 0.0147 - val_loss: 0.0159\n",
      "Epoch 139/500\n",
      "10/10 [==============================] - 0s 18ms/step - loss: 0.0147 - val_loss: 0.0159\n",
      "Epoch 140/500\n",
      "10/10 [==============================] - 0s 17ms/step - loss: 0.0146 - val_loss: 0.0159\n",
      "Epoch 141/500\n",
      "10/10 [==============================] - 0s 20ms/step - loss: 0.0146 - val_loss: 0.0158\n",
      "Epoch 142/500\n",
      "10/10 [==============================] - 0s 17ms/step - loss: 0.0146 - val_loss: 0.0158\n",
      "Epoch 143/500\n",
      "10/10 [==============================] - 0s 17ms/step - loss: 0.0145 - val_loss: 0.0158\n",
      "Epoch 144/500\n",
      "10/10 [==============================] - 0s 17ms/step - loss: 0.0145 - val_loss: 0.0158\n",
      "Epoch 145/500\n",
      "10/10 [==============================] - 0s 22ms/step - loss: 0.0144 - val_loss: 0.0157\n",
      "Epoch 146/500\n",
      "10/10 [==============================] - 0s 17ms/step - loss: 0.0144 - val_loss: 0.0157\n",
      "Epoch 147/500\n",
      "10/10 [==============================] - 0s 21ms/step - loss: 0.0144 - val_loss: 0.0157\n",
      "Epoch 148/500\n",
      "10/10 [==============================] - 0s 17ms/step - loss: 0.0143 - val_loss: 0.0157\n",
      "Epoch 149/500\n",
      "10/10 [==============================] - 0s 17ms/step - loss: 0.0143 - val_loss: 0.0157\n",
      "Epoch 150/500\n",
      "10/10 [==============================] - 0s 16ms/step - loss: 0.0143 - val_loss: 0.0156\n",
      "Epoch 151/500\n",
      "10/10 [==============================] - 0s 19ms/step - loss: 0.0142 - val_loss: 0.0156\n",
      "Epoch 152/500\n",
      "10/10 [==============================] - 0s 16ms/step - loss: 0.0142 - val_loss: 0.0156\n",
      "Epoch 153/500\n",
      " 1/10 [==>...........................] - ETA: 0s - loss: 0.0126"
     ]
    },
    {
     "ename": "KeyboardInterrupt",
     "evalue": "",
     "output_type": "error",
     "traceback": [
      "\u001b[1;31m---------------------------------------------------------------------------\u001b[0m",
      "\u001b[1;31mKeyboardInterrupt\u001b[0m                         Traceback (most recent call last)",
      "\u001b[1;32m~\\AppData\\Local\\Temp\\ipykernel_19324\\1501038248.py\u001b[0m in \u001b[0;36m<module>\u001b[1;34m\u001b[0m\n\u001b[0;32m      2\u001b[0m                 \u001b[0mepochs\u001b[0m\u001b[1;33m=\u001b[0m\u001b[1;36m500\u001b[0m\u001b[1;33m,\u001b[0m\u001b[1;33m\u001b[0m\u001b[1;33m\u001b[0m\u001b[0m\n\u001b[0;32m      3\u001b[0m                 \u001b[0mbatch_size\u001b[0m\u001b[1;33m=\u001b[0m\u001b[1;36m256\u001b[0m\u001b[1;33m,\u001b[0m\u001b[1;33m\u001b[0m\u001b[1;33m\u001b[0m\u001b[0m\n\u001b[1;32m----> 4\u001b[1;33m                 validation_data=normalized_val_ds)\n\u001b[0m",
      "\u001b[1;32md:\\SDK\\anaconda3\\envs\\ai_project\\lib\\site-packages\\keras\\utils\\traceback_utils.py\u001b[0m in \u001b[0;36merror_handler\u001b[1;34m(*args, **kwargs)\u001b[0m\n\u001b[0;32m     63\u001b[0m         \u001b[0mfiltered_tb\u001b[0m \u001b[1;33m=\u001b[0m \u001b[1;32mNone\u001b[0m\u001b[1;33m\u001b[0m\u001b[1;33m\u001b[0m\u001b[0m\n\u001b[0;32m     64\u001b[0m         \u001b[1;32mtry\u001b[0m\u001b[1;33m:\u001b[0m\u001b[1;33m\u001b[0m\u001b[1;33m\u001b[0m\u001b[0m\n\u001b[1;32m---> 65\u001b[1;33m             \u001b[1;32mreturn\u001b[0m \u001b[0mfn\u001b[0m\u001b[1;33m(\u001b[0m\u001b[1;33m*\u001b[0m\u001b[0margs\u001b[0m\u001b[1;33m,\u001b[0m \u001b[1;33m**\u001b[0m\u001b[0mkwargs\u001b[0m\u001b[1;33m)\u001b[0m\u001b[1;33m\u001b[0m\u001b[1;33m\u001b[0m\u001b[0m\n\u001b[0m\u001b[0;32m     66\u001b[0m         \u001b[1;32mexcept\u001b[0m \u001b[0mException\u001b[0m \u001b[1;32mas\u001b[0m \u001b[0me\u001b[0m\u001b[1;33m:\u001b[0m\u001b[1;33m\u001b[0m\u001b[1;33m\u001b[0m\u001b[0m\n\u001b[0;32m     67\u001b[0m             \u001b[0mfiltered_tb\u001b[0m \u001b[1;33m=\u001b[0m \u001b[0m_process_traceback_frames\u001b[0m\u001b[1;33m(\u001b[0m\u001b[0me\u001b[0m\u001b[1;33m.\u001b[0m\u001b[0m__traceback__\u001b[0m\u001b[1;33m)\u001b[0m\u001b[1;33m\u001b[0m\u001b[1;33m\u001b[0m\u001b[0m\n",
      "\u001b[1;32md:\\SDK\\anaconda3\\envs\\ai_project\\lib\\site-packages\\keras\\engine\\training.py\u001b[0m in \u001b[0;36mfit\u001b[1;34m(self, x, y, batch_size, epochs, verbose, callbacks, validation_split, validation_data, shuffle, class_weight, sample_weight, initial_epoch, steps_per_epoch, validation_steps, validation_batch_size, validation_freq, max_queue_size, workers, use_multiprocessing)\u001b[0m\n\u001b[0;32m   1615\u001b[0m                         \u001b[0muse_multiprocessing\u001b[0m\u001b[1;33m=\u001b[0m\u001b[0muse_multiprocessing\u001b[0m\u001b[1;33m,\u001b[0m\u001b[1;33m\u001b[0m\u001b[1;33m\u001b[0m\u001b[0m\n\u001b[0;32m   1616\u001b[0m                         \u001b[0mreturn_dict\u001b[0m\u001b[1;33m=\u001b[0m\u001b[1;32mTrue\u001b[0m\u001b[1;33m,\u001b[0m\u001b[1;33m\u001b[0m\u001b[1;33m\u001b[0m\u001b[0m\n\u001b[1;32m-> 1617\u001b[1;33m                         \u001b[0m_use_cached_eval_dataset\u001b[0m\u001b[1;33m=\u001b[0m\u001b[1;32mTrue\u001b[0m\u001b[1;33m,\u001b[0m\u001b[1;33m\u001b[0m\u001b[1;33m\u001b[0m\u001b[0m\n\u001b[0m\u001b[0;32m   1618\u001b[0m                     )\n\u001b[0;32m   1619\u001b[0m                     val_logs = {\n",
      "\u001b[1;32md:\\SDK\\anaconda3\\envs\\ai_project\\lib\\site-packages\\keras\\utils\\traceback_utils.py\u001b[0m in \u001b[0;36merror_handler\u001b[1;34m(*args, **kwargs)\u001b[0m\n\u001b[0;32m     63\u001b[0m         \u001b[0mfiltered_tb\u001b[0m \u001b[1;33m=\u001b[0m \u001b[1;32mNone\u001b[0m\u001b[1;33m\u001b[0m\u001b[1;33m\u001b[0m\u001b[0m\n\u001b[0;32m     64\u001b[0m         \u001b[1;32mtry\u001b[0m\u001b[1;33m:\u001b[0m\u001b[1;33m\u001b[0m\u001b[1;33m\u001b[0m\u001b[0m\n\u001b[1;32m---> 65\u001b[1;33m             \u001b[1;32mreturn\u001b[0m \u001b[0mfn\u001b[0m\u001b[1;33m(\u001b[0m\u001b[1;33m*\u001b[0m\u001b[0margs\u001b[0m\u001b[1;33m,\u001b[0m \u001b[1;33m**\u001b[0m\u001b[0mkwargs\u001b[0m\u001b[1;33m)\u001b[0m\u001b[1;33m\u001b[0m\u001b[1;33m\u001b[0m\u001b[0m\n\u001b[0m\u001b[0;32m     66\u001b[0m         \u001b[1;32mexcept\u001b[0m \u001b[0mException\u001b[0m \u001b[1;32mas\u001b[0m \u001b[0me\u001b[0m\u001b[1;33m:\u001b[0m\u001b[1;33m\u001b[0m\u001b[1;33m\u001b[0m\u001b[0m\n\u001b[0;32m     67\u001b[0m             \u001b[0mfiltered_tb\u001b[0m \u001b[1;33m=\u001b[0m \u001b[0m_process_traceback_frames\u001b[0m\u001b[1;33m(\u001b[0m\u001b[0me\u001b[0m\u001b[1;33m.\u001b[0m\u001b[0m__traceback__\u001b[0m\u001b[1;33m)\u001b[0m\u001b[1;33m\u001b[0m\u001b[1;33m\u001b[0m\u001b[0m\n",
      "\u001b[1;32md:\\SDK\\anaconda3\\envs\\ai_project\\lib\\site-packages\\keras\\engine\\training.py\u001b[0m in \u001b[0;36mevaluate\u001b[1;34m(self, x, y, batch_size, verbose, sample_weight, steps, callbacks, max_queue_size, workers, use_multiprocessing, return_dict, **kwargs)\u001b[0m\n\u001b[0;32m   1937\u001b[0m             \u001b[0mself\u001b[0m\u001b[1;33m.\u001b[0m\u001b[0m_test_counter\u001b[0m\u001b[1;33m.\u001b[0m\u001b[0massign\u001b[0m\u001b[1;33m(\u001b[0m\u001b[1;36m0\u001b[0m\u001b[1;33m)\u001b[0m\u001b[1;33m\u001b[0m\u001b[1;33m\u001b[0m\u001b[0m\n\u001b[0;32m   1938\u001b[0m             \u001b[0mcallbacks\u001b[0m\u001b[1;33m.\u001b[0m\u001b[0mon_test_begin\u001b[0m\u001b[1;33m(\u001b[0m\u001b[1;33m)\u001b[0m\u001b[1;33m\u001b[0m\u001b[1;33m\u001b[0m\u001b[0m\n\u001b[1;32m-> 1939\u001b[1;33m             \u001b[1;32mfor\u001b[0m \u001b[0m_\u001b[0m\u001b[1;33m,\u001b[0m \u001b[0miterator\u001b[0m \u001b[1;32min\u001b[0m \u001b[0mdata_handler\u001b[0m\u001b[1;33m.\u001b[0m\u001b[0menumerate_epochs\u001b[0m\u001b[1;33m(\u001b[0m\u001b[1;33m)\u001b[0m\u001b[1;33m:\u001b[0m  \u001b[1;31m# Single epoch.\u001b[0m\u001b[1;33m\u001b[0m\u001b[1;33m\u001b[0m\u001b[0m\n\u001b[0m\u001b[0;32m   1940\u001b[0m                 \u001b[0mself\u001b[0m\u001b[1;33m.\u001b[0m\u001b[0mreset_metrics\u001b[0m\u001b[1;33m(\u001b[0m\u001b[1;33m)\u001b[0m\u001b[1;33m\u001b[0m\u001b[1;33m\u001b[0m\u001b[0m\n\u001b[0;32m   1941\u001b[0m                 \u001b[1;32mwith\u001b[0m \u001b[0mdata_handler\u001b[0m\u001b[1;33m.\u001b[0m\u001b[0mcatch_stop_iteration\u001b[0m\u001b[1;33m(\u001b[0m\u001b[1;33m)\u001b[0m\u001b[1;33m:\u001b[0m\u001b[1;33m\u001b[0m\u001b[1;33m\u001b[0m\u001b[0m\n",
      "\u001b[1;32md:\\SDK\\anaconda3\\envs\\ai_project\\lib\\site-packages\\keras\\engine\\data_adapter.py\u001b[0m in \u001b[0;36menumerate_epochs\u001b[1;34m(self)\u001b[0m\n\u001b[0;32m   1305\u001b[0m         \u001b[1;34m\"\"\"Yields `(epoch, tf.data.Iterator)`.\"\"\"\u001b[0m\u001b[1;33m\u001b[0m\u001b[1;33m\u001b[0m\u001b[0m\n\u001b[0;32m   1306\u001b[0m         \u001b[1;32mwith\u001b[0m \u001b[0mself\u001b[0m\u001b[1;33m.\u001b[0m\u001b[0m_truncate_execution_to_epoch\u001b[0m\u001b[1;33m(\u001b[0m\u001b[1;33m)\u001b[0m\u001b[1;33m:\u001b[0m\u001b[1;33m\u001b[0m\u001b[1;33m\u001b[0m\u001b[0m\n\u001b[1;32m-> 1307\u001b[1;33m             \u001b[0mdata_iterator\u001b[0m \u001b[1;33m=\u001b[0m \u001b[0miter\u001b[0m\u001b[1;33m(\u001b[0m\u001b[0mself\u001b[0m\u001b[1;33m.\u001b[0m\u001b[0m_dataset\u001b[0m\u001b[1;33m)\u001b[0m\u001b[1;33m\u001b[0m\u001b[1;33m\u001b[0m\u001b[0m\n\u001b[0m\u001b[0;32m   1308\u001b[0m             \u001b[1;32mfor\u001b[0m \u001b[0mepoch\u001b[0m \u001b[1;32min\u001b[0m \u001b[0mrange\u001b[0m\u001b[1;33m(\u001b[0m\u001b[0mself\u001b[0m\u001b[1;33m.\u001b[0m\u001b[0m_initial_epoch\u001b[0m\u001b[1;33m,\u001b[0m \u001b[0mself\u001b[0m\u001b[1;33m.\u001b[0m\u001b[0m_epochs\u001b[0m\u001b[1;33m)\u001b[0m\u001b[1;33m:\u001b[0m\u001b[1;33m\u001b[0m\u001b[1;33m\u001b[0m\u001b[0m\n\u001b[0;32m   1309\u001b[0m                 \u001b[1;32mif\u001b[0m \u001b[0mself\u001b[0m\u001b[1;33m.\u001b[0m\u001b[0m_insufficient_data\u001b[0m\u001b[1;33m:\u001b[0m  \u001b[1;31m# Set by `catch_stop_iteration`.\u001b[0m\u001b[1;33m\u001b[0m\u001b[1;33m\u001b[0m\u001b[0m\n",
      "\u001b[1;32md:\\SDK\\anaconda3\\envs\\ai_project\\lib\\site-packages\\tensorflow\\python\\data\\ops\\dataset_ops.py\u001b[0m in \u001b[0;36m__iter__\u001b[1;34m(self)\u001b[0m\n\u001b[0;32m    497\u001b[0m     \u001b[1;32mif\u001b[0m \u001b[0mcontext\u001b[0m\u001b[1;33m.\u001b[0m\u001b[0mexecuting_eagerly\u001b[0m\u001b[1;33m(\u001b[0m\u001b[1;33m)\u001b[0m \u001b[1;32mor\u001b[0m \u001b[0mops\u001b[0m\u001b[1;33m.\u001b[0m\u001b[0minside_function\u001b[0m\u001b[1;33m(\u001b[0m\u001b[1;33m)\u001b[0m\u001b[1;33m:\u001b[0m\u001b[1;33m\u001b[0m\u001b[1;33m\u001b[0m\u001b[0m\n\u001b[0;32m    498\u001b[0m       \u001b[1;32mwith\u001b[0m \u001b[0mops\u001b[0m\u001b[1;33m.\u001b[0m\u001b[0mcolocate_with\u001b[0m\u001b[1;33m(\u001b[0m\u001b[0mself\u001b[0m\u001b[1;33m.\u001b[0m\u001b[0m_variant_tensor\u001b[0m\u001b[1;33m)\u001b[0m\u001b[1;33m:\u001b[0m\u001b[1;33m\u001b[0m\u001b[1;33m\u001b[0m\u001b[0m\n\u001b[1;32m--> 499\u001b[1;33m         \u001b[1;32mreturn\u001b[0m \u001b[0miterator_ops\u001b[0m\u001b[1;33m.\u001b[0m\u001b[0mOwnedIterator\u001b[0m\u001b[1;33m(\u001b[0m\u001b[0mself\u001b[0m\u001b[1;33m)\u001b[0m\u001b[1;33m\u001b[0m\u001b[1;33m\u001b[0m\u001b[0m\n\u001b[0m\u001b[0;32m    500\u001b[0m     \u001b[1;32melse\u001b[0m\u001b[1;33m:\u001b[0m\u001b[1;33m\u001b[0m\u001b[1;33m\u001b[0m\u001b[0m\n\u001b[0;32m    501\u001b[0m       raise RuntimeError(\"`tf.data.Dataset` only supports Python-style \"\n",
      "\u001b[1;32md:\\SDK\\anaconda3\\envs\\ai_project\\lib\\site-packages\\tensorflow\\python\\data\\ops\\iterator_ops.py\u001b[0m in \u001b[0;36m__init__\u001b[1;34m(self, dataset, components, element_spec)\u001b[0m\n\u001b[0;32m    694\u001b[0m             \u001b[1;34m\"When `dataset` is provided, `element_spec` and `components` must \"\u001b[0m\u001b[1;33m\u001b[0m\u001b[1;33m\u001b[0m\u001b[0m\n\u001b[0;32m    695\u001b[0m             \"not be specified.\")\n\u001b[1;32m--> 696\u001b[1;33m       \u001b[0mself\u001b[0m\u001b[1;33m.\u001b[0m\u001b[0m_create_iterator\u001b[0m\u001b[1;33m(\u001b[0m\u001b[0mdataset\u001b[0m\u001b[1;33m)\u001b[0m\u001b[1;33m\u001b[0m\u001b[1;33m\u001b[0m\u001b[0m\n\u001b[0m\u001b[0;32m    697\u001b[0m \u001b[1;33m\u001b[0m\u001b[0m\n\u001b[0;32m    698\u001b[0m     \u001b[0mself\u001b[0m\u001b[1;33m.\u001b[0m\u001b[0m_get_next_call_count\u001b[0m \u001b[1;33m=\u001b[0m \u001b[1;36m0\u001b[0m\u001b[1;33m\u001b[0m\u001b[1;33m\u001b[0m\u001b[0m\n",
      "\u001b[1;32md:\\SDK\\anaconda3\\envs\\ai_project\\lib\\site-packages\\tensorflow\\python\\data\\ops\\iterator_ops.py\u001b[0m in \u001b[0;36m_create_iterator\u001b[1;34m(self, dataset)\u001b[0m\n\u001b[0;32m    719\u001b[0m               \u001b[0moutput_types\u001b[0m\u001b[1;33m=\u001b[0m\u001b[0mself\u001b[0m\u001b[1;33m.\u001b[0m\u001b[0m_flat_output_types\u001b[0m\u001b[1;33m,\u001b[0m\u001b[1;33m\u001b[0m\u001b[1;33m\u001b[0m\u001b[0m\n\u001b[0;32m    720\u001b[0m               output_shapes=self._flat_output_shapes))\n\u001b[1;32m--> 721\u001b[1;33m       \u001b[0mgen_dataset_ops\u001b[0m\u001b[1;33m.\u001b[0m\u001b[0mmake_iterator\u001b[0m\u001b[1;33m(\u001b[0m\u001b[0mds_variant\u001b[0m\u001b[1;33m,\u001b[0m \u001b[0mself\u001b[0m\u001b[1;33m.\u001b[0m\u001b[0m_iterator_resource\u001b[0m\u001b[1;33m)\u001b[0m\u001b[1;33m\u001b[0m\u001b[1;33m\u001b[0m\u001b[0m\n\u001b[0m\u001b[0;32m    722\u001b[0m \u001b[1;33m\u001b[0m\u001b[0m\n\u001b[0;32m    723\u001b[0m   \u001b[1;32mdef\u001b[0m \u001b[0m__iter__\u001b[0m\u001b[1;33m(\u001b[0m\u001b[0mself\u001b[0m\u001b[1;33m)\u001b[0m\u001b[1;33m:\u001b[0m\u001b[1;33m\u001b[0m\u001b[1;33m\u001b[0m\u001b[0m\n",
      "\u001b[1;32md:\\SDK\\anaconda3\\envs\\ai_project\\lib\\site-packages\\tensorflow\\python\\ops\\gen_dataset_ops.py\u001b[0m in \u001b[0;36mmake_iterator\u001b[1;34m(dataset, iterator, name)\u001b[0m\n\u001b[0;32m   3407\u001b[0m     \u001b[1;32mtry\u001b[0m\u001b[1;33m:\u001b[0m\u001b[1;33m\u001b[0m\u001b[1;33m\u001b[0m\u001b[0m\n\u001b[0;32m   3408\u001b[0m       _result = pywrap_tfe.TFE_Py_FastPathExecute(\n\u001b[1;32m-> 3409\u001b[1;33m         _ctx, \"MakeIterator\", name, dataset, iterator)\n\u001b[0m\u001b[0;32m   3410\u001b[0m       \u001b[1;32mreturn\u001b[0m \u001b[0m_result\u001b[0m\u001b[1;33m\u001b[0m\u001b[1;33m\u001b[0m\u001b[0m\n\u001b[0;32m   3411\u001b[0m     \u001b[1;32mexcept\u001b[0m \u001b[0m_core\u001b[0m\u001b[1;33m.\u001b[0m\u001b[0m_NotOkStatusException\u001b[0m \u001b[1;32mas\u001b[0m \u001b[0me\u001b[0m\u001b[1;33m:\u001b[0m\u001b[1;33m\u001b[0m\u001b[1;33m\u001b[0m\u001b[0m\n",
      "\u001b[1;31mKeyboardInterrupt\u001b[0m: "
     ]
    }
   ],
   "source": [
    "autoencoder.fit(normalized_ds,\n",
    "                epochs=500,\n",
    "                batch_size=256,\n",
    "                validation_data=normalized_val_ds)"
   ]
  },
  {
   "cell_type": "code",
   "execution_count": 10,
   "metadata": {},
   "outputs": [
    {
     "name": "stdout",
     "output_type": "stream",
     "text": [
      "Epoch 1/500\n",
      "10/10 [==============================] - 0s 35ms/step - loss: 0.6108 - val_loss: 0.5722\n",
      "Epoch 2/500\n",
      "10/10 [==============================] - 0s 20ms/step - loss: 0.5251 - val_loss: 0.4709\n",
      "Epoch 3/500\n",
      "10/10 [==============================] - 0s 18ms/step - loss: 0.4108 - val_loss: 0.3523\n",
      "Epoch 4/500\n",
      "10/10 [==============================] - 0s 17ms/step - loss: 0.2938 - val_loss: 0.2458\n",
      "Epoch 5/500\n",
      "10/10 [==============================] - 0s 17ms/step - loss: 0.2005 - val_loss: 0.1700\n",
      "Epoch 6/500\n",
      "10/10 [==============================] - 0s 17ms/step - loss: 0.1396 - val_loss: 0.1240\n",
      "Epoch 7/500\n",
      "10/10 [==============================] - 0s 18ms/step - loss: 0.1047 - val_loss: 0.0970\n",
      "Epoch 8/500\n",
      "10/10 [==============================] - 0s 17ms/step - loss: 0.0844 - val_loss: 0.0810\n",
      "Epoch 9/500\n",
      "10/10 [==============================] - 0s 16ms/step - loss: 0.0724 - val_loss: 0.0710\n",
      "Epoch 10/500\n",
      "10/10 [==============================] - 0s 17ms/step - loss: 0.0648 - val_loss: 0.0644\n",
      "Epoch 11/500\n",
      "10/10 [==============================] - 0s 16ms/step - loss: 0.0596 - val_loss: 0.0597\n",
      "Epoch 12/500\n",
      "10/10 [==============================] - 0s 18ms/step - loss: 0.0559 - val_loss: 0.0563\n",
      "Epoch 13/500\n",
      "10/10 [==============================] - 0s 19ms/step - loss: 0.0532 - val_loss: 0.0537\n",
      "Epoch 14/500\n",
      "10/10 [==============================] - 0s 16ms/step - loss: 0.0511 - val_loss: 0.0516\n",
      "Epoch 15/500\n",
      "10/10 [==============================] - 0s 18ms/step - loss: 0.0494 - val_loss: 0.0499\n",
      "Epoch 16/500\n",
      "10/10 [==============================] - 0s 18ms/step - loss: 0.0480 - val_loss: 0.0486\n",
      "Epoch 17/500\n",
      "10/10 [==============================] - 0s 16ms/step - loss: 0.0469 - val_loss: 0.0474\n",
      "Epoch 18/500\n",
      "10/10 [==============================] - 0s 16ms/step - loss: 0.0459 - val_loss: 0.0464\n",
      "Epoch 19/500\n",
      "10/10 [==============================] - 0s 17ms/step - loss: 0.0450 - val_loss: 0.0455\n",
      "Epoch 20/500\n",
      "10/10 [==============================] - 0s 18ms/step - loss: 0.0442 - val_loss: 0.0446\n",
      "Epoch 21/500\n",
      "10/10 [==============================] - 0s 18ms/step - loss: 0.0435 - val_loss: 0.0439\n",
      "Epoch 22/500\n",
      "10/10 [==============================] - 0s 17ms/step - loss: 0.0429 - val_loss: 0.0432\n",
      "Epoch 23/500\n",
      "10/10 [==============================] - 0s 17ms/step - loss: 0.0423 - val_loss: 0.0426\n",
      "Epoch 24/500\n",
      "10/10 [==============================] - 0s 17ms/step - loss: 0.0417 - val_loss: 0.0420\n",
      "Epoch 25/500\n",
      "10/10 [==============================] - 0s 16ms/step - loss: 0.0411 - val_loss: 0.0414\n",
      "Epoch 26/500\n",
      "10/10 [==============================] - 0s 18ms/step - loss: 0.0406 - val_loss: 0.0409\n",
      "Epoch 27/500\n",
      "10/10 [==============================] - 0s 20ms/step - loss: 0.0400 - val_loss: 0.0403\n",
      "Epoch 28/500\n",
      "10/10 [==============================] - 0s 16ms/step - loss: 0.0395 - val_loss: 0.0398\n",
      "Epoch 29/500\n",
      "10/10 [==============================] - 0s 18ms/step - loss: 0.0390 - val_loss: 0.0392\n",
      "Epoch 30/500\n",
      "10/10 [==============================] - 0s 20ms/step - loss: 0.0384 - val_loss: 0.0387\n",
      "Epoch 31/500\n",
      "10/10 [==============================] - 0s 16ms/step - loss: 0.0379 - val_loss: 0.0382\n",
      "Epoch 32/500\n",
      "10/10 [==============================] - 0s 18ms/step - loss: 0.0373 - val_loss: 0.0376\n",
      "Epoch 33/500\n",
      "10/10 [==============================] - 0s 16ms/step - loss: 0.0368 - val_loss: 0.0370\n",
      "Epoch 34/500\n",
      "10/10 [==============================] - 0s 19ms/step - loss: 0.0362 - val_loss: 0.0365\n",
      "Epoch 35/500\n",
      "10/10 [==============================] - 0s 19ms/step - loss: 0.0356 - val_loss: 0.0359\n",
      "Epoch 36/500\n",
      "10/10 [==============================] - 0s 17ms/step - loss: 0.0350 - val_loss: 0.0354\n",
      "Epoch 37/500\n",
      "10/10 [==============================] - 0s 16ms/step - loss: 0.0344 - val_loss: 0.0348\n",
      "Epoch 38/500\n",
      "10/10 [==============================] - 0s 16ms/step - loss: 0.0338 - val_loss: 0.0342\n",
      "Epoch 39/500\n",
      "10/10 [==============================] - 0s 16ms/step - loss: 0.0332 - val_loss: 0.0336\n",
      "Epoch 40/500\n",
      "10/10 [==============================] - 0s 17ms/step - loss: 0.0325 - val_loss: 0.0330\n",
      "Epoch 41/500\n",
      "10/10 [==============================] - 0s 16ms/step - loss: 0.0319 - val_loss: 0.0324\n",
      "Epoch 42/500\n",
      "10/10 [==============================] - 0s 16ms/step - loss: 0.0313 - val_loss: 0.0318\n",
      "Epoch 43/500\n",
      "10/10 [==============================] - 0s 16ms/step - loss: 0.0307 - val_loss: 0.0313\n",
      "Epoch 44/500\n",
      "10/10 [==============================] - 0s 21ms/step - loss: 0.0301 - val_loss: 0.0307\n",
      "Epoch 45/500\n",
      "10/10 [==============================] - 0s 17ms/step - loss: 0.0294 - val_loss: 0.0301\n",
      "Epoch 46/500\n",
      "10/10 [==============================] - 0s 18ms/step - loss: 0.0288 - val_loss: 0.0296\n",
      "Epoch 47/500\n",
      "10/10 [==============================] - 0s 16ms/step - loss: 0.0282 - val_loss: 0.0290\n",
      "Epoch 48/500\n",
      "10/10 [==============================] - 0s 17ms/step - loss: 0.0277 - val_loss: 0.0285\n",
      "Epoch 49/500\n",
      "10/10 [==============================] - 0s 17ms/step - loss: 0.0271 - val_loss: 0.0280\n",
      "Epoch 50/500\n",
      "10/10 [==============================] - 0s 20ms/step - loss: 0.0265 - val_loss: 0.0275\n",
      "Epoch 51/500\n",
      "10/10 [==============================] - 0s 19ms/step - loss: 0.0260 - val_loss: 0.0270\n",
      "Epoch 52/500\n",
      "10/10 [==============================] - 0s 20ms/step - loss: 0.0255 - val_loss: 0.0265\n",
      "Epoch 53/500\n",
      "10/10 [==============================] - 0s 19ms/step - loss: 0.0250 - val_loss: 0.0261\n",
      "Epoch 54/500\n",
      "10/10 [==============================] - 0s 19ms/step - loss: 0.0245 - val_loss: 0.0257\n",
      "Epoch 55/500\n",
      "10/10 [==============================] - 0s 19ms/step - loss: 0.0240 - val_loss: 0.0252\n",
      "Epoch 56/500\n",
      "10/10 [==============================] - 0s 22ms/step - loss: 0.0236 - val_loss: 0.0248\n",
      "Epoch 57/500\n",
      "10/10 [==============================] - 0s 18ms/step - loss: 0.0232 - val_loss: 0.0244\n",
      "Epoch 58/500\n",
      "10/10 [==============================] - 0s 17ms/step - loss: 0.0228 - val_loss: 0.0241\n",
      "Epoch 59/500\n",
      "10/10 [==============================] - 0s 17ms/step - loss: 0.0224 - val_loss: 0.0237\n",
      "Epoch 60/500\n",
      "10/10 [==============================] - 0s 16ms/step - loss: 0.0220 - val_loss: 0.0234\n",
      "Epoch 61/500\n",
      "10/10 [==============================] - 0s 16ms/step - loss: 0.0216 - val_loss: 0.0231\n",
      "Epoch 62/500\n",
      "10/10 [==============================] - 0s 17ms/step - loss: 0.0213 - val_loss: 0.0228\n",
      "Epoch 63/500\n",
      "10/10 [==============================] - 0s 17ms/step - loss: 0.0209 - val_loss: 0.0225\n",
      "Epoch 64/500\n",
      "10/10 [==============================] - 0s 16ms/step - loss: 0.0206 - val_loss: 0.0222\n",
      "Epoch 65/500\n",
      "10/10 [==============================] - 0s 19ms/step - loss: 0.0203 - val_loss: 0.0219\n",
      "Epoch 66/500\n",
      "10/10 [==============================] - 0s 16ms/step - loss: 0.0200 - val_loss: 0.0216\n",
      "Epoch 67/500\n",
      "10/10 [==============================] - 0s 16ms/step - loss: 0.0197 - val_loss: 0.0214\n",
      "Epoch 68/500\n",
      "10/10 [==============================] - 0s 16ms/step - loss: 0.0194 - val_loss: 0.0212\n",
      "Epoch 69/500\n",
      "10/10 [==============================] - 0s 18ms/step - loss: 0.0192 - val_loss: 0.0209\n",
      "Epoch 70/500\n",
      "10/10 [==============================] - 0s 20ms/step - loss: 0.0189 - val_loss: 0.0207\n",
      "Epoch 71/500\n",
      "10/10 [==============================] - 0s 16ms/step - loss: 0.0187 - val_loss: 0.0205\n",
      "Epoch 72/500\n",
      "10/10 [==============================] - 0s 17ms/step - loss: 0.0184 - val_loss: 0.0203\n",
      "Epoch 73/500\n",
      "10/10 [==============================] - 0s 16ms/step - loss: 0.0182 - val_loss: 0.0201\n",
      "Epoch 74/500\n",
      "10/10 [==============================] - 0s 16ms/step - loss: 0.0180 - val_loss: 0.0199\n",
      "Epoch 75/500\n",
      "10/10 [==============================] - 0s 18ms/step - loss: 0.0178 - val_loss: 0.0197\n",
      "Epoch 76/500\n",
      "10/10 [==============================] - 0s 18ms/step - loss: 0.0176 - val_loss: 0.0195\n",
      "Epoch 77/500\n",
      "10/10 [==============================] - 0s 16ms/step - loss: 0.0174 - val_loss: 0.0194\n",
      "Epoch 78/500\n",
      "10/10 [==============================] - 0s 17ms/step - loss: 0.0172 - val_loss: 0.0192\n",
      "Epoch 79/500\n",
      "10/10 [==============================] - 0s 17ms/step - loss: 0.0170 - val_loss: 0.0190\n",
      "Epoch 80/500\n",
      "10/10 [==============================] - 0s 24ms/step - loss: 0.0168 - val_loss: 0.0189\n",
      "Epoch 81/500\n",
      "10/10 [==============================] - 0s 16ms/step - loss: 0.0166 - val_loss: 0.0187\n",
      "Epoch 82/500\n",
      "10/10 [==============================] - 0s 16ms/step - loss: 0.0164 - val_loss: 0.0186\n",
      "Epoch 83/500\n",
      "10/10 [==============================] - 0s 18ms/step - loss: 0.0163 - val_loss: 0.0184\n",
      "Epoch 84/500\n",
      "10/10 [==============================] - 0s 17ms/step - loss: 0.0161 - val_loss: 0.0183\n",
      "Epoch 85/500\n",
      "10/10 [==============================] - 0s 16ms/step - loss: 0.0159 - val_loss: 0.0181\n",
      "Epoch 86/500\n",
      "10/10 [==============================] - 0s 19ms/step - loss: 0.0158 - val_loss: 0.0180\n",
      "Epoch 87/500\n",
      "10/10 [==============================] - 0s 20ms/step - loss: 0.0156 - val_loss: 0.0179\n",
      "Epoch 88/500\n",
      "10/10 [==============================] - 0s 16ms/step - loss: 0.0155 - val_loss: 0.0178\n",
      "Epoch 89/500\n",
      "10/10 [==============================] - 0s 16ms/step - loss: 0.0153 - val_loss: 0.0176\n",
      "Epoch 90/500\n",
      "10/10 [==============================] - 0s 17ms/step - loss: 0.0152 - val_loss: 0.0175\n",
      "Epoch 91/500\n",
      "10/10 [==============================] - 0s 17ms/step - loss: 0.0151 - val_loss: 0.0174\n",
      "Epoch 92/500\n",
      "10/10 [==============================] - 0s 16ms/step - loss: 0.0149 - val_loss: 0.0173\n",
      "Epoch 93/500\n",
      "10/10 [==============================] - 0s 18ms/step - loss: 0.0148 - val_loss: 0.0172\n",
      "Epoch 94/500\n",
      "10/10 [==============================] - 0s 21ms/step - loss: 0.0147 - val_loss: 0.0171\n",
      "Epoch 95/500\n",
      "10/10 [==============================] - 0s 17ms/step - loss: 0.0145 - val_loss: 0.0170\n",
      "Epoch 96/500\n",
      "10/10 [==============================] - 0s 17ms/step - loss: 0.0144 - val_loss: 0.0169\n",
      "Epoch 97/500\n",
      "10/10 [==============================] - 0s 18ms/step - loss: 0.0143 - val_loss: 0.0168\n",
      "Epoch 98/500\n",
      "10/10 [==============================] - 0s 16ms/step - loss: 0.0142 - val_loss: 0.0167\n",
      "Epoch 99/500\n",
      "10/10 [==============================] - 0s 17ms/step - loss: 0.0141 - val_loss: 0.0166\n",
      "Epoch 100/500\n",
      "10/10 [==============================] - 0s 18ms/step - loss: 0.0139 - val_loss: 0.0165\n",
      "Epoch 101/500\n",
      "10/10 [==============================] - 0s 21ms/step - loss: 0.0138 - val_loss: 0.0164\n",
      "Epoch 102/500\n",
      "10/10 [==============================] - 0s 18ms/step - loss: 0.0137 - val_loss: 0.0163\n",
      "Epoch 103/500\n",
      "10/10 [==============================] - 0s 16ms/step - loss: 0.0136 - val_loss: 0.0162\n",
      "Epoch 104/500\n",
      "10/10 [==============================] - 0s 16ms/step - loss: 0.0135 - val_loss: 0.0161\n",
      "Epoch 105/500\n",
      "10/10 [==============================] - 0s 17ms/step - loss: 0.0134 - val_loss: 0.0160\n",
      "Epoch 106/500\n",
      "10/10 [==============================] - 0s 17ms/step - loss: 0.0133 - val_loss: 0.0160\n",
      "Epoch 107/500\n",
      "10/10 [==============================] - 0s 17ms/step - loss: 0.0132 - val_loss: 0.0159\n",
      "Epoch 108/500\n",
      "10/10 [==============================] - 0s 18ms/step - loss: 0.0131 - val_loss: 0.0158\n",
      "Epoch 109/500\n",
      "10/10 [==============================] - 0s 16ms/step - loss: 0.0130 - val_loss: 0.0157\n",
      "Epoch 110/500\n",
      "10/10 [==============================] - 0s 18ms/step - loss: 0.0129 - val_loss: 0.0156\n",
      "Epoch 111/500\n",
      "10/10 [==============================] - 0s 17ms/step - loss: 0.0128 - val_loss: 0.0156\n",
      "Epoch 112/500\n",
      "10/10 [==============================] - 0s 19ms/step - loss: 0.0127 - val_loss: 0.0155\n",
      "Epoch 113/500\n",
      "10/10 [==============================] - 0s 16ms/step - loss: 0.0126 - val_loss: 0.0154\n",
      "Epoch 114/500\n",
      "10/10 [==============================] - 0s 18ms/step - loss: 0.0126 - val_loss: 0.0154\n",
      "Epoch 115/500\n",
      "10/10 [==============================] - 0s 16ms/step - loss: 0.0125 - val_loss: 0.0153\n",
      "Epoch 116/500\n",
      "10/10 [==============================] - 0s 17ms/step - loss: 0.0124 - val_loss: 0.0152\n",
      "Epoch 117/500\n",
      "10/10 [==============================] - 0s 15ms/step - loss: 0.0123 - val_loss: 0.0152\n",
      "Epoch 118/500\n",
      "10/10 [==============================] - 0s 16ms/step - loss: 0.0122 - val_loss: 0.0151\n",
      "Epoch 119/500\n",
      "10/10 [==============================] - 0s 18ms/step - loss: 0.0121 - val_loss: 0.0150\n",
      "Epoch 120/500\n",
      "10/10 [==============================] - 0s 15ms/step - loss: 0.0121 - val_loss: 0.0150\n",
      "Epoch 121/500\n",
      "10/10 [==============================] - 0s 16ms/step - loss: 0.0120 - val_loss: 0.0149\n",
      "Epoch 122/500\n",
      "10/10 [==============================] - 0s 16ms/step - loss: 0.0119 - val_loss: 0.0149\n",
      "Epoch 123/500\n",
      "10/10 [==============================] - 0s 20ms/step - loss: 0.0118 - val_loss: 0.0148\n",
      "Epoch 124/500\n",
      "10/10 [==============================] - 0s 16ms/step - loss: 0.0118 - val_loss: 0.0147\n",
      "Epoch 125/500\n",
      "10/10 [==============================] - 0s 17ms/step - loss: 0.0117 - val_loss: 0.0147\n",
      "Epoch 126/500\n",
      "10/10 [==============================] - 0s 17ms/step - loss: 0.0116 - val_loss: 0.0146\n",
      "Epoch 127/500\n",
      "10/10 [==============================] - 0s 17ms/step - loss: 0.0115 - val_loss: 0.0146\n",
      "Epoch 128/500\n",
      "10/10 [==============================] - 0s 17ms/step - loss: 0.0115 - val_loss: 0.0145\n",
      "Epoch 129/500\n",
      "10/10 [==============================] - 0s 18ms/step - loss: 0.0114 - val_loss: 0.0145\n",
      "Epoch 130/500\n",
      "10/10 [==============================] - 0s 17ms/step - loss: 0.0113 - val_loss: 0.0144\n",
      "Epoch 131/500\n",
      "10/10 [==============================] - 0s 18ms/step - loss: 0.0113 - val_loss: 0.0144\n",
      "Epoch 132/500\n",
      "10/10 [==============================] - 0s 16ms/step - loss: 0.0112 - val_loss: 0.0143\n",
      "Epoch 133/500\n",
      "10/10 [==============================] - 0s 18ms/step - loss: 0.0112 - val_loss: 0.0143\n",
      "Epoch 134/500\n",
      "10/10 [==============================] - 0s 15ms/step - loss: 0.0111 - val_loss: 0.0142\n",
      "Epoch 135/500\n",
      "10/10 [==============================] - 0s 16ms/step - loss: 0.0110 - val_loss: 0.0142\n",
      "Epoch 136/500\n",
      "10/10 [==============================] - 0s 16ms/step - loss: 0.0110 - val_loss: 0.0141\n",
      "Epoch 137/500\n",
      "10/10 [==============================] - 0s 19ms/step - loss: 0.0109 - val_loss: 0.0141\n",
      "Epoch 138/500\n",
      "10/10 [==============================] - 0s 16ms/step - loss: 0.0108 - val_loss: 0.0141\n",
      "Epoch 139/500\n",
      "10/10 [==============================] - 0s 18ms/step - loss: 0.0108 - val_loss: 0.0140\n",
      "Epoch 140/500\n",
      "10/10 [==============================] - 0s 16ms/step - loss: 0.0107 - val_loss: 0.0140\n",
      "Epoch 141/500\n",
      "10/10 [==============================] - 0s 16ms/step - loss: 0.0107 - val_loss: 0.0139\n",
      "Epoch 142/500\n",
      "10/10 [==============================] - 0s 18ms/step - loss: 0.0106 - val_loss: 0.0139\n",
      "Epoch 143/500\n",
      "10/10 [==============================] - 0s 17ms/step - loss: 0.0105 - val_loss: 0.0139\n",
      "Epoch 144/500\n",
      "10/10 [==============================] - 0s 17ms/step - loss: 0.0105 - val_loss: 0.0138\n",
      "Epoch 145/500\n",
      "10/10 [==============================] - 0s 19ms/step - loss: 0.0104 - val_loss: 0.0138\n",
      "Epoch 146/500\n",
      "10/10 [==============================] - 0s 16ms/step - loss: 0.0104 - val_loss: 0.0137\n",
      "Epoch 147/500\n",
      "10/10 [==============================] - 0s 16ms/step - loss: 0.0103 - val_loss: 0.0137\n",
      "Epoch 148/500\n",
      "10/10 [==============================] - 0s 18ms/step - loss: 0.0103 - val_loss: 0.0137\n",
      "Epoch 149/500\n",
      "10/10 [==============================] - 0s 16ms/step - loss: 0.0102 - val_loss: 0.0136\n",
      "Epoch 150/500\n",
      "10/10 [==============================] - 0s 17ms/step - loss: 0.0102 - val_loss: 0.0136\n",
      "Epoch 151/500\n",
      "10/10 [==============================] - 0s 18ms/step - loss: 0.0101 - val_loss: 0.0136\n",
      "Epoch 152/500\n",
      "10/10 [==============================] - 0s 16ms/step - loss: 0.0101 - val_loss: 0.0135\n",
      "Epoch 153/500\n",
      "10/10 [==============================] - 0s 18ms/step - loss: 0.0100 - val_loss: 0.0135\n",
      "Epoch 154/500\n",
      "10/10 [==============================] - 0s 16ms/step - loss: 0.0100 - val_loss: 0.0135\n",
      "Epoch 155/500\n",
      "10/10 [==============================] - 0s 17ms/step - loss: 0.0099 - val_loss: 0.0134\n",
      "Epoch 156/500\n",
      "10/10 [==============================] - 0s 16ms/step - loss: 0.0099 - val_loss: 0.0134\n",
      "Epoch 157/500\n",
      "10/10 [==============================] - 0s 18ms/step - loss: 0.0098 - val_loss: 0.0134\n",
      "Epoch 158/500\n",
      "10/10 [==============================] - 0s 17ms/step - loss: 0.0098 - val_loss: 0.0133\n",
      "Epoch 159/500\n",
      "10/10 [==============================] - 0s 16ms/step - loss: 0.0097 - val_loss: 0.0133\n",
      "Epoch 160/500\n",
      "10/10 [==============================] - 0s 18ms/step - loss: 0.0097 - val_loss: 0.0133\n",
      "Epoch 161/500\n",
      "10/10 [==============================] - 0s 16ms/step - loss: 0.0096 - val_loss: 0.0132\n",
      "Epoch 162/500\n",
      "10/10 [==============================] - 0s 16ms/step - loss: 0.0096 - val_loss: 0.0132\n",
      "Epoch 163/500\n",
      "10/10 [==============================] - 0s 16ms/step - loss: 0.0095 - val_loss: 0.0132\n",
      "Epoch 164/500\n",
      "10/10 [==============================] - 0s 18ms/step - loss: 0.0095 - val_loss: 0.0132\n",
      "Epoch 165/500\n",
      "10/10 [==============================] - 0s 16ms/step - loss: 0.0094 - val_loss: 0.0131\n",
      "Epoch 166/500\n",
      "10/10 [==============================] - 0s 17ms/step - loss: 0.0094 - val_loss: 0.0131\n",
      "Epoch 167/500\n",
      "10/10 [==============================] - 0s 19ms/step - loss: 0.0093 - val_loss: 0.0131\n",
      "Epoch 168/500\n",
      "10/10 [==============================] - 0s 18ms/step - loss: 0.0093 - val_loss: 0.0130\n",
      "Epoch 169/500\n",
      "10/10 [==============================] - 0s 18ms/step - loss: 0.0093 - val_loss: 0.0130\n",
      "Epoch 170/500\n",
      "10/10 [==============================] - 0s 18ms/step - loss: 0.0092 - val_loss: 0.0130\n",
      "Epoch 171/500\n",
      "10/10 [==============================] - 0s 16ms/step - loss: 0.0092 - val_loss: 0.0130\n",
      "Epoch 172/500\n",
      "10/10 [==============================] - 0s 17ms/step - loss: 0.0091 - val_loss: 0.0129\n",
      "Epoch 173/500\n",
      "10/10 [==============================] - 0s 16ms/step - loss: 0.0091 - val_loss: 0.0129\n",
      "Epoch 174/500\n",
      "10/10 [==============================] - 0s 18ms/step - loss: 0.0090 - val_loss: 0.0129\n",
      "Epoch 175/500\n",
      "10/10 [==============================] - 0s 16ms/step - loss: 0.0090 - val_loss: 0.0129\n",
      "Epoch 176/500\n",
      "10/10 [==============================] - 0s 16ms/step - loss: 0.0090 - val_loss: 0.0128\n",
      "Epoch 177/500\n",
      "10/10 [==============================] - 0s 18ms/step - loss: 0.0089 - val_loss: 0.0128\n",
      "Epoch 178/500\n",
      "10/10 [==============================] - 0s 16ms/step - loss: 0.0089 - val_loss: 0.0128\n",
      "Epoch 179/500\n",
      "10/10 [==============================] - 0s 19ms/step - loss: 0.0088 - val_loss: 0.0128\n",
      "Epoch 180/500\n",
      "10/10 [==============================] - 0s 16ms/step - loss: 0.0088 - val_loss: 0.0127\n",
      "Epoch 181/500\n",
      "10/10 [==============================] - 0s 16ms/step - loss: 0.0087 - val_loss: 0.0127\n",
      "Epoch 182/500\n",
      "10/10 [==============================] - 0s 17ms/step - loss: 0.0087 - val_loss: 0.0127\n",
      "Epoch 183/500\n",
      "10/10 [==============================] - 0s 17ms/step - loss: 0.0087 - val_loss: 0.0127\n",
      "Epoch 184/500\n",
      "10/10 [==============================] - 0s 16ms/step - loss: 0.0086 - val_loss: 0.0126\n",
      "Epoch 185/500\n",
      "10/10 [==============================] - 0s 17ms/step - loss: 0.0086 - val_loss: 0.0126\n",
      "Epoch 186/500\n",
      "10/10 [==============================] - 0s 19ms/step - loss: 0.0085 - val_loss: 0.0126\n",
      "Epoch 187/500\n",
      "10/10 [==============================] - 0s 19ms/step - loss: 0.0085 - val_loss: 0.0126\n",
      "Epoch 188/500\n",
      "10/10 [==============================] - 0s 16ms/step - loss: 0.0085 - val_loss: 0.0125\n",
      "Epoch 189/500\n",
      "10/10 [==============================] - 0s 17ms/step - loss: 0.0084 - val_loss: 0.0125\n",
      "Epoch 190/500\n",
      "10/10 [==============================] - 0s 16ms/step - loss: 0.0084 - val_loss: 0.0125\n",
      "Epoch 191/500\n",
      "10/10 [==============================] - 0s 16ms/step - loss: 0.0083 - val_loss: 0.0125\n",
      "Epoch 192/500\n",
      "10/10 [==============================] - 0s 17ms/step - loss: 0.0083 - val_loss: 0.0125\n",
      "Epoch 193/500\n",
      "10/10 [==============================] - 0s 16ms/step - loss: 0.0083 - val_loss: 0.0124\n",
      "Epoch 194/500\n",
      "10/10 [==============================] - 0s 18ms/step - loss: 0.0082 - val_loss: 0.0124\n",
      "Epoch 195/500\n",
      "10/10 [==============================] - 0s 17ms/step - loss: 0.0082 - val_loss: 0.0124\n",
      "Epoch 196/500\n",
      "10/10 [==============================] - 0s 17ms/step - loss: 0.0081 - val_loss: 0.0124\n",
      "Epoch 197/500\n",
      "10/10 [==============================] - 0s 17ms/step - loss: 0.0081 - val_loss: 0.0123\n",
      "Epoch 198/500\n",
      "10/10 [==============================] - 0s 17ms/step - loss: 0.0081 - val_loss: 0.0123\n",
      "Epoch 199/500\n",
      "10/10 [==============================] - 0s 17ms/step - loss: 0.0080 - val_loss: 0.0123\n",
      "Epoch 200/500\n",
      "10/10 [==============================] - 0s 16ms/step - loss: 0.0080 - val_loss: 0.0123\n",
      "Epoch 201/500\n",
      "10/10 [==============================] - 0s 20ms/step - loss: 0.0080 - val_loss: 0.0123\n",
      "Epoch 202/500\n",
      "10/10 [==============================] - 0s 17ms/step - loss: 0.0079 - val_loss: 0.0122\n",
      "Epoch 203/500\n",
      "10/10 [==============================] - 0s 17ms/step - loss: 0.0079 - val_loss: 0.0122\n",
      "Epoch 204/500\n",
      "10/10 [==============================] - 0s 17ms/step - loss: 0.0078 - val_loss: 0.0122\n",
      "Epoch 205/500\n",
      "10/10 [==============================] - 0s 16ms/step - loss: 0.0078 - val_loss: 0.0122\n",
      "Epoch 206/500\n",
      "10/10 [==============================] - 0s 17ms/step - loss: 0.0078 - val_loss: 0.0122\n",
      "Epoch 207/500\n",
      "10/10 [==============================] - 0s 17ms/step - loss: 0.0077 - val_loss: 0.0121\n",
      "Epoch 208/500\n",
      "10/10 [==============================] - 0s 18ms/step - loss: 0.0077 - val_loss: 0.0121\n",
      "Epoch 209/500\n",
      "10/10 [==============================] - 0s 16ms/step - loss: 0.0077 - val_loss: 0.0121\n",
      "Epoch 210/500\n",
      "10/10 [==============================] - 0s 16ms/step - loss: 0.0076 - val_loss: 0.0121\n",
      "Epoch 211/500\n",
      "10/10 [==============================] - 0s 17ms/step - loss: 0.0076 - val_loss: 0.0121\n",
      "Epoch 212/500\n",
      "10/10 [==============================] - 0s 17ms/step - loss: 0.0075 - val_loss: 0.0120\n",
      "Epoch 213/500\n",
      "10/10 [==============================] - 0s 16ms/step - loss: 0.0075 - val_loss: 0.0120\n",
      "Epoch 214/500\n",
      "10/10 [==============================] - 0s 18ms/step - loss: 0.0075 - val_loss: 0.0120\n",
      "Epoch 215/500\n",
      "10/10 [==============================] - 0s 18ms/step - loss: 0.0074 - val_loss: 0.0120\n",
      "Epoch 216/500\n",
      "10/10 [==============================] - 0s 17ms/step - loss: 0.0074 - val_loss: 0.0120\n",
      "Epoch 217/500\n",
      "10/10 [==============================] - 0s 16ms/step - loss: 0.0074 - val_loss: 0.0119\n",
      "Epoch 218/500\n",
      "10/10 [==============================] - 0s 17ms/step - loss: 0.0073 - val_loss: 0.0119\n",
      "Epoch 219/500\n",
      "10/10 [==============================] - 0s 17ms/step - loss: 0.0073 - val_loss: 0.0119\n",
      "Epoch 220/500\n",
      "10/10 [==============================] - 0s 16ms/step - loss: 0.0072 - val_loss: 0.0119\n",
      "Epoch 221/500\n",
      "10/10 [==============================] - 0s 18ms/step - loss: 0.0072 - val_loss: 0.0119\n",
      "Epoch 222/500\n",
      "10/10 [==============================] - 0s 17ms/step - loss: 0.0072 - val_loss: 0.0118\n",
      "Epoch 223/500\n",
      "10/10 [==============================] - 0s 17ms/step - loss: 0.0071 - val_loss: 0.0118\n",
      "Epoch 224/500\n",
      "10/10 [==============================] - 0s 16ms/step - loss: 0.0071 - val_loss: 0.0118\n",
      "Epoch 225/500\n",
      "10/10 [==============================] - 0s 18ms/step - loss: 0.0071 - val_loss: 0.0118\n",
      "Epoch 226/500\n",
      "10/10 [==============================] - 0s 19ms/step - loss: 0.0070 - val_loss: 0.0118\n",
      "Epoch 227/500\n",
      "10/10 [==============================] - 0s 16ms/step - loss: 0.0070 - val_loss: 0.0117\n",
      "Epoch 228/500\n",
      "10/10 [==============================] - 0s 16ms/step - loss: 0.0070 - val_loss: 0.0117\n",
      "Epoch 229/500\n",
      "10/10 [==============================] - 0s 17ms/step - loss: 0.0069 - val_loss: 0.0117\n",
      "Epoch 230/500\n",
      "10/10 [==============================] - 0s 19ms/step - loss: 0.0069 - val_loss: 0.0117\n",
      "Epoch 231/500\n",
      "10/10 [==============================] - 0s 17ms/step - loss: 0.0068 - val_loss: 0.0117\n",
      "Epoch 232/500\n",
      "10/10 [==============================] - 0s 16ms/step - loss: 0.0068 - val_loss: 0.0116\n",
      "Epoch 233/500\n",
      "10/10 [==============================] - 0s 18ms/step - loss: 0.0068 - val_loss: 0.0116\n",
      "Epoch 234/500\n",
      "10/10 [==============================] - 0s 18ms/step - loss: 0.0067 - val_loss: 0.0116\n",
      "Epoch 235/500\n",
      "10/10 [==============================] - 0s 17ms/step - loss: 0.0067 - val_loss: 0.0116\n",
      "Epoch 236/500\n",
      "10/10 [==============================] - 0s 18ms/step - loss: 0.0067 - val_loss: 0.0116\n",
      "Epoch 237/500\n",
      "10/10 [==============================] - 0s 15ms/step - loss: 0.0066 - val_loss: 0.0116\n",
      "Epoch 238/500\n",
      "10/10 [==============================] - 0s 16ms/step - loss: 0.0066 - val_loss: 0.0115\n",
      "Epoch 239/500\n",
      "10/10 [==============================] - 0s 17ms/step - loss: 0.0066 - val_loss: 0.0115\n",
      "Epoch 240/500\n",
      "10/10 [==============================] - 0s 17ms/step - loss: 0.0065 - val_loss: 0.0115\n",
      "Epoch 241/500\n",
      "10/10 [==============================] - 0s 16ms/step - loss: 0.0065 - val_loss: 0.0115\n",
      "Epoch 242/500\n",
      "10/10 [==============================] - 0s 18ms/step - loss: 0.0065 - val_loss: 0.0115\n",
      "Epoch 243/500\n",
      "10/10 [==============================] - 0s 17ms/step - loss: 0.0064 - val_loss: 0.0114\n",
      "Epoch 244/500\n",
      "10/10 [==============================] - 0s 17ms/step - loss: 0.0064 - val_loss: 0.0114\n",
      "Epoch 245/500\n",
      "10/10 [==============================] - 0s 17ms/step - loss: 0.0063 - val_loss: 0.0114\n",
      "Epoch 246/500\n",
      "10/10 [==============================] - 0s 17ms/step - loss: 0.0063 - val_loss: 0.0114\n",
      "Epoch 247/500\n",
      "10/10 [==============================] - 0s 17ms/step - loss: 0.0063 - val_loss: 0.0114\n",
      "Epoch 248/500\n",
      "10/10 [==============================] - 0s 16ms/step - loss: 0.0062 - val_loss: 0.0113\n",
      "Epoch 249/500\n",
      "10/10 [==============================] - 0s 16ms/step - loss: 0.0062 - val_loss: 0.0113\n",
      "Epoch 250/500\n",
      "10/10 [==============================] - 0s 18ms/step - loss: 0.0062 - val_loss: 0.0113\n",
      "Epoch 251/500\n",
      "10/10 [==============================] - 0s 16ms/step - loss: 0.0061 - val_loss: 0.0113\n",
      "Epoch 252/500\n",
      "10/10 [==============================] - 0s 16ms/step - loss: 0.0061 - val_loss: 0.0113\n",
      "Epoch 253/500\n",
      "10/10 [==============================] - 0s 18ms/step - loss: 0.0061 - val_loss: 0.0113\n",
      "Epoch 254/500\n",
      "10/10 [==============================] - 0s 17ms/step - loss: 0.0060 - val_loss: 0.0112\n",
      "Epoch 255/500\n",
      "10/10 [==============================] - 0s 17ms/step - loss: 0.0060 - val_loss: 0.0112\n",
      "Epoch 256/500\n",
      "10/10 [==============================] - 0s 16ms/step - loss: 0.0060 - val_loss: 0.0112\n",
      "Epoch 257/500\n",
      "10/10 [==============================] - 0s 16ms/step - loss: 0.0059 - val_loss: 0.0112\n",
      "Epoch 258/500\n",
      "10/10 [==============================] - 0s 19ms/step - loss: 0.0059 - val_loss: 0.0112\n",
      "Epoch 259/500\n",
      "10/10 [==============================] - 0s 16ms/step - loss: 0.0059 - val_loss: 0.0111\n",
      "Epoch 260/500\n",
      "10/10 [==============================] - 0s 18ms/step - loss: 0.0058 - val_loss: 0.0111\n",
      "Epoch 261/500\n",
      "10/10 [==============================] - 0s 20ms/step - loss: 0.0058 - val_loss: 0.0111\n",
      "Epoch 262/500\n",
      "10/10 [==============================] - 0s 16ms/step - loss: 0.0058 - val_loss: 0.0111\n",
      "Epoch 263/500\n",
      "10/10 [==============================] - 0s 18ms/step - loss: 0.0057 - val_loss: 0.0111\n",
      "Epoch 264/500\n",
      "10/10 [==============================] - 0s 17ms/step - loss: 0.0057 - val_loss: 0.0111\n",
      "Epoch 265/500\n",
      "10/10 [==============================] - 0s 17ms/step - loss: 0.0057 - val_loss: 0.0110\n",
      "Epoch 266/500\n",
      "10/10 [==============================] - 0s 16ms/step - loss: 0.0056 - val_loss: 0.0110\n",
      "Epoch 267/500\n",
      "10/10 [==============================] - 0s 17ms/step - loss: 0.0056 - val_loss: 0.0110\n",
      "Epoch 268/500\n",
      "10/10 [==============================] - 0s 18ms/step - loss: 0.0056 - val_loss: 0.0110\n",
      "Epoch 269/500\n",
      "10/10 [==============================] - 0s 16ms/step - loss: 0.0055 - val_loss: 0.0110\n",
      "Epoch 270/500\n",
      "10/10 [==============================] - 0s 19ms/step - loss: 0.0055 - val_loss: 0.0109\n",
      "Epoch 271/500\n",
      "10/10 [==============================] - 0s 16ms/step - loss: 0.0055 - val_loss: 0.0109\n",
      "Epoch 272/500\n",
      "10/10 [==============================] - 0s 17ms/step - loss: 0.0054 - val_loss: 0.0109\n",
      "Epoch 273/500\n",
      "10/10 [==============================] - 0s 17ms/step - loss: 0.0054 - val_loss: 0.0109\n",
      "Epoch 274/500\n",
      "10/10 [==============================] - 0s 18ms/step - loss: 0.0054 - val_loss: 0.0109\n",
      "Epoch 275/500\n",
      "10/10 [==============================] - 0s 16ms/step - loss: 0.0053 - val_loss: 0.0109\n",
      "Epoch 276/500\n",
      "10/10 [==============================] - 0s 16ms/step - loss: 0.0053 - val_loss: 0.0108\n",
      "Epoch 277/500\n",
      "10/10 [==============================] - 0s 18ms/step - loss: 0.0053 - val_loss: 0.0108\n",
      "Epoch 278/500\n",
      "10/10 [==============================] - 0s 17ms/step - loss: 0.0052 - val_loss: 0.0108\n",
      "Epoch 279/500\n",
      "10/10 [==============================] - 0s 17ms/step - loss: 0.0052 - val_loss: 0.0108\n",
      "Epoch 280/500\n",
      "10/10 [==============================] - 0s 21ms/step - loss: 0.0052 - val_loss: 0.0108\n",
      "Epoch 281/500\n",
      "10/10 [==============================] - 0s 15ms/step - loss: 0.0051 - val_loss: 0.0108\n",
      "Epoch 282/500\n",
      "10/10 [==============================] - 0s 17ms/step - loss: 0.0051 - val_loss: 0.0107\n",
      "Epoch 283/500\n",
      "10/10 [==============================] - 0s 17ms/step - loss: 0.0051 - val_loss: 0.0107\n",
      "Epoch 284/500\n",
      "10/10 [==============================] - 0s 16ms/step - loss: 0.0051 - val_loss: 0.0107\n",
      "Epoch 285/500\n",
      "10/10 [==============================] - 0s 19ms/step - loss: 0.0050 - val_loss: 0.0107\n",
      "Epoch 286/500\n",
      "10/10 [==============================] - 0s 16ms/step - loss: 0.0050 - val_loss: 0.0107\n",
      "Epoch 287/500\n",
      "10/10 [==============================] - 0s 17ms/step - loss: 0.0050 - val_loss: 0.0107\n",
      "Epoch 288/500\n",
      "10/10 [==============================] - 0s 16ms/step - loss: 0.0049 - val_loss: 0.0106\n",
      "Epoch 289/500\n",
      "10/10 [==============================] - 0s 16ms/step - loss: 0.0049 - val_loss: 0.0106\n",
      "Epoch 290/500\n",
      "10/10 [==============================] - 0s 17ms/step - loss: 0.0049 - val_loss: 0.0106\n",
      "Epoch 291/500\n",
      "10/10 [==============================] - 0s 19ms/step - loss: 0.0048 - val_loss: 0.0106\n",
      "Epoch 292/500\n",
      "10/10 [==============================] - 0s 16ms/step - loss: 0.0048 - val_loss: 0.0106\n",
      "Epoch 293/500\n",
      "10/10 [==============================] - 0s 17ms/step - loss: 0.0048 - val_loss: 0.0106\n",
      "Epoch 294/500\n",
      "10/10 [==============================] - 0s 16ms/step - loss: 0.0047 - val_loss: 0.0105\n",
      "Epoch 295/500\n",
      "10/10 [==============================] - 0s 16ms/step - loss: 0.0047 - val_loss: 0.0105\n",
      "Epoch 296/500\n",
      "10/10 [==============================] - 0s 17ms/step - loss: 0.0047 - val_loss: 0.0105\n",
      "Epoch 297/500\n",
      "10/10 [==============================] - 0s 16ms/step - loss: 0.0046 - val_loss: 0.0105\n",
      "Epoch 298/500\n",
      "10/10 [==============================] - 0s 18ms/step - loss: 0.0046 - val_loss: 0.0105\n",
      "Epoch 299/500\n",
      "10/10 [==============================] - 0s 17ms/step - loss: 0.0046 - val_loss: 0.0105\n",
      "Epoch 300/500\n",
      "10/10 [==============================] - 0s 18ms/step - loss: 0.0046 - val_loss: 0.0104\n",
      "Epoch 301/500\n",
      "10/10 [==============================] - 0s 17ms/step - loss: 0.0045 - val_loss: 0.0104\n",
      "Epoch 302/500\n",
      "10/10 [==============================] - 0s 17ms/step - loss: 0.0045 - val_loss: 0.0104\n",
      "Epoch 303/500\n",
      "10/10 [==============================] - 0s 16ms/step - loss: 0.0045 - val_loss: 0.0104\n",
      "Epoch 304/500\n",
      "10/10 [==============================] - 0s 17ms/step - loss: 0.0044 - val_loss: 0.0104\n",
      "Epoch 305/500\n",
      "10/10 [==============================] - 0s 19ms/step - loss: 0.0044 - val_loss: 0.0104\n",
      "Epoch 306/500\n",
      "10/10 [==============================] - 0s 16ms/step - loss: 0.0044 - val_loss: 0.0104\n",
      "Epoch 307/500\n",
      "10/10 [==============================] - 0s 19ms/step - loss: 0.0043 - val_loss: 0.0103\n",
      "Epoch 308/500\n",
      "10/10 [==============================] - 0s 16ms/step - loss: 0.0043 - val_loss: 0.0103\n",
      "Epoch 309/500\n",
      "10/10 [==============================] - 0s 16ms/step - loss: 0.0043 - val_loss: 0.0103\n",
      "Epoch 310/500\n",
      "10/10 [==============================] - 0s 17ms/step - loss: 0.0043 - val_loss: 0.0103\n",
      "Epoch 311/500\n",
      "10/10 [==============================] - 0s 19ms/step - loss: 0.0042 - val_loss: 0.0103\n",
      "Epoch 312/500\n",
      "10/10 [==============================] - 0s 17ms/step - loss: 0.0042 - val_loss: 0.0103\n",
      "Epoch 313/500\n",
      "10/10 [==============================] - 0s 16ms/step - loss: 0.0042 - val_loss: 0.0102\n",
      "Epoch 314/500\n",
      "10/10 [==============================] - 0s 16ms/step - loss: 0.0041 - val_loss: 0.0102\n",
      "Epoch 315/500\n",
      "10/10 [==============================] - 0s 16ms/step - loss: 0.0041 - val_loss: 0.0102\n",
      "Epoch 316/500\n",
      "10/10 [==============================] - 0s 17ms/step - loss: 0.0041 - val_loss: 0.0102\n",
      "Epoch 317/500\n",
      "10/10 [==============================] - 0s 18ms/step - loss: 0.0041 - val_loss: 0.0102\n",
      "Epoch 318/500\n",
      "10/10 [==============================] - 0s 17ms/step - loss: 0.0040 - val_loss: 0.0102\n",
      "Epoch 319/500\n",
      "10/10 [==============================] - 0s 17ms/step - loss: 0.0040 - val_loss: 0.0102\n",
      "Epoch 320/500\n",
      "10/10 [==============================] - 0s 17ms/step - loss: 0.0040 - val_loss: 0.0101\n",
      "Epoch 321/500\n",
      "10/10 [==============================] - 0s 22ms/step - loss: 0.0039 - val_loss: 0.0101\n",
      "Epoch 322/500\n",
      "10/10 [==============================] - 0s 16ms/step - loss: 0.0039 - val_loss: 0.0101\n",
      "Epoch 323/500\n",
      "10/10 [==============================] - 0s 16ms/step - loss: 0.0039 - val_loss: 0.0101\n",
      "Epoch 324/500\n",
      "10/10 [==============================] - 0s 16ms/step - loss: 0.0039 - val_loss: 0.0101\n",
      "Epoch 325/500\n",
      "10/10 [==============================] - 0s 16ms/step - loss: 0.0038 - val_loss: 0.0101\n",
      "Epoch 326/500\n",
      "10/10 [==============================] - 0s 18ms/step - loss: 0.0038 - val_loss: 0.0100\n",
      "Epoch 327/500\n",
      "10/10 [==============================] - 0s 20ms/step - loss: 0.0038 - val_loss: 0.0100\n",
      "Epoch 328/500\n",
      "10/10 [==============================] - 0s 16ms/step - loss: 0.0038 - val_loss: 0.0100\n",
      "Epoch 329/500\n",
      "10/10 [==============================] - 0s 16ms/step - loss: 0.0037 - val_loss: 0.0100\n",
      "Epoch 330/500\n",
      "10/10 [==============================] - 0s 17ms/step - loss: 0.0037 - val_loss: 0.0100\n",
      "Epoch 331/500\n",
      "10/10 [==============================] - 0s 16ms/step - loss: 0.0037 - val_loss: 0.0100\n",
      "Epoch 332/500\n",
      "10/10 [==============================] - 0s 20ms/step - loss: 0.0036 - val_loss: 0.0100\n",
      "Epoch 333/500\n",
      "10/10 [==============================] - 0s 16ms/step - loss: 0.0036 - val_loss: 0.0100\n",
      "Epoch 334/500\n",
      "10/10 [==============================] - 0s 18ms/step - loss: 0.0036 - val_loss: 0.0099\n",
      "Epoch 335/500\n",
      "10/10 [==============================] - 0s 16ms/step - loss: 0.0036 - val_loss: 0.0099\n",
      "Epoch 336/500\n",
      "10/10 [==============================] - 0s 17ms/step - loss: 0.0035 - val_loss: 0.0099\n",
      "Epoch 337/500\n",
      "10/10 [==============================] - 0s 17ms/step - loss: 0.0035 - val_loss: 0.0099\n",
      "Epoch 338/500\n",
      "10/10 [==============================] - 0s 16ms/step - loss: 0.0035 - val_loss: 0.0099\n",
      "Epoch 339/500\n",
      "10/10 [==============================] - 0s 16ms/step - loss: 0.0035 - val_loss: 0.0099\n",
      "Epoch 340/500\n",
      "10/10 [==============================] - 0s 18ms/step - loss: 0.0034 - val_loss: 0.0099\n",
      "Epoch 341/500\n",
      "10/10 [==============================] - 0s 18ms/step - loss: 0.0034 - val_loss: 0.0099\n",
      "Epoch 342/500\n",
      "10/10 [==============================] - 0s 17ms/step - loss: 0.0034 - val_loss: 0.0098\n",
      "Epoch 343/500\n",
      "10/10 [==============================] - 0s 16ms/step - loss: 0.0034 - val_loss: 0.0098\n",
      "Epoch 344/500\n",
      "10/10 [==============================] - 0s 19ms/step - loss: 0.0033 - val_loss: 0.0098\n",
      "Epoch 345/500\n",
      "10/10 [==============================] - 0s 16ms/step - loss: 0.0033 - val_loss: 0.0098\n",
      "Epoch 346/500\n",
      "10/10 [==============================] - 0s 17ms/step - loss: 0.0033 - val_loss: 0.0098\n",
      "Epoch 347/500\n",
      "10/10 [==============================] - 0s 16ms/step - loss: 0.0033 - val_loss: 0.0098\n",
      "Epoch 348/500\n",
      "10/10 [==============================] - 0s 18ms/step - loss: 0.0032 - val_loss: 0.0098\n",
      "Epoch 349/500\n",
      "10/10 [==============================] - 0s 16ms/step - loss: 0.0032 - val_loss: 0.0098\n",
      "Epoch 350/500\n",
      "10/10 [==============================] - 0s 19ms/step - loss: 0.0032 - val_loss: 0.0097\n",
      "Epoch 351/500\n",
      "10/10 [==============================] - 0s 18ms/step - loss: 0.0032 - val_loss: 0.0097\n",
      "Epoch 352/500\n",
      "10/10 [==============================] - 0s 16ms/step - loss: 0.0031 - val_loss: 0.0097\n",
      "Epoch 353/500\n",
      "10/10 [==============================] - 0s 17ms/step - loss: 0.0031 - val_loss: 0.0097\n",
      "Epoch 354/500\n",
      "10/10 [==============================] - 0s 16ms/step - loss: 0.0031 - val_loss: 0.0097\n",
      "Epoch 355/500\n",
      "10/10 [==============================] - 0s 18ms/step - loss: 0.0031 - val_loss: 0.0097\n",
      "Epoch 356/500\n",
      "10/10 [==============================] - 0s 16ms/step - loss: 0.0031 - val_loss: 0.0097\n",
      "Epoch 357/500\n",
      "10/10 [==============================] - 0s 18ms/step - loss: 0.0030 - val_loss: 0.0096\n",
      "Epoch 358/500\n",
      "10/10 [==============================] - 0s 18ms/step - loss: 0.0030 - val_loss: 0.0096\n",
      "Epoch 359/500\n",
      "10/10 [==============================] - 0s 16ms/step - loss: 0.0030 - val_loss: 0.0096\n",
      "Epoch 360/500\n",
      "10/10 [==============================] - 0s 19ms/step - loss: 0.0030 - val_loss: 0.0096\n",
      "Epoch 361/500\n",
      "10/10 [==============================] - 0s 16ms/step - loss: 0.0029 - val_loss: 0.0096\n",
      "Epoch 362/500\n",
      "10/10 [==============================] - 0s 17ms/step - loss: 0.0029 - val_loss: 0.0096\n",
      "Epoch 363/500\n",
      "10/10 [==============================] - 0s 15ms/step - loss: 0.0029 - val_loss: 0.0096\n",
      "Epoch 364/500\n",
      "10/10 [==============================] - 0s 17ms/step - loss: 0.0029 - val_loss: 0.0096\n",
      "Epoch 365/500\n",
      "10/10 [==============================] - 0s 16ms/step - loss: 0.0029 - val_loss: 0.0096\n",
      "Epoch 366/500\n",
      "10/10 [==============================] - 0s 19ms/step - loss: 0.0028 - val_loss: 0.0096\n",
      "Epoch 367/500\n",
      "10/10 [==============================] - 0s 16ms/step - loss: 0.0028 - val_loss: 0.0095\n",
      "Epoch 368/500\n",
      "10/10 [==============================] - 0s 20ms/step - loss: 0.0028 - val_loss: 0.0095\n",
      "Epoch 369/500\n",
      "10/10 [==============================] - 0s 18ms/step - loss: 0.0028 - val_loss: 0.0095\n",
      "Epoch 370/500\n",
      "10/10 [==============================] - 0s 17ms/step - loss: 0.0027 - val_loss: 0.0095\n",
      "Epoch 371/500\n",
      "10/10 [==============================] - 0s 16ms/step - loss: 0.0027 - val_loss: 0.0095\n",
      "Epoch 372/500\n",
      "10/10 [==============================] - 0s 16ms/step - loss: 0.0027 - val_loss: 0.0095\n",
      "Epoch 373/500\n",
      "10/10 [==============================] - 0s 18ms/step - loss: 0.0027 - val_loss: 0.0095\n",
      "Epoch 374/500\n",
      "10/10 [==============================] - 0s 16ms/step - loss: 0.0027 - val_loss: 0.0095\n",
      "Epoch 375/500\n",
      "10/10 [==============================] - 0s 17ms/step - loss: 0.0026 - val_loss: 0.0095\n",
      "Epoch 376/500\n",
      "10/10 [==============================] - 0s 17ms/step - loss: 0.0026 - val_loss: 0.0094\n",
      "Epoch 377/500\n",
      "10/10 [==============================] - 0s 20ms/step - loss: 0.0026 - val_loss: 0.0094\n",
      "Epoch 378/500\n",
      "10/10 [==============================] - 0s 17ms/step - loss: 0.0026 - val_loss: 0.0094\n",
      "Epoch 379/500\n",
      "10/10 [==============================] - 0s 16ms/step - loss: 0.0026 - val_loss: 0.0094\n",
      "Epoch 380/500\n",
      "10/10 [==============================] - 0s 17ms/step - loss: 0.0025 - val_loss: 0.0094\n",
      "Epoch 381/500\n",
      "10/10 [==============================] - 0s 16ms/step - loss: 0.0025 - val_loss: 0.0094\n",
      "Epoch 382/500\n",
      "10/10 [==============================] - 0s 19ms/step - loss: 0.0025 - val_loss: 0.0094\n",
      "Epoch 383/500\n",
      "10/10 [==============================] - 0s 16ms/step - loss: 0.0025 - val_loss: 0.0094\n",
      "Epoch 384/500\n",
      "10/10 [==============================] - 0s 18ms/step - loss: 0.0025 - val_loss: 0.0094\n",
      "Epoch 385/500\n",
      "10/10 [==============================] - 0s 16ms/step - loss: 0.0024 - val_loss: 0.0094\n",
      "Epoch 386/500\n",
      "10/10 [==============================] - 0s 17ms/step - loss: 0.0024 - val_loss: 0.0094\n",
      "Epoch 387/500\n",
      "10/10 [==============================] - 0s 18ms/step - loss: 0.0024 - val_loss: 0.0093\n",
      "Epoch 388/500\n",
      "10/10 [==============================] - 0s 16ms/step - loss: 0.0024 - val_loss: 0.0093\n",
      "Epoch 389/500\n",
      "10/10 [==============================] - 0s 18ms/step - loss: 0.0024 - val_loss: 0.0093\n",
      "Epoch 390/500\n",
      "10/10 [==============================] - 0s 18ms/step - loss: 0.0023 - val_loss: 0.0093\n",
      "Epoch 391/500\n",
      "10/10 [==============================] - 0s 16ms/step - loss: 0.0023 - val_loss: 0.0093\n",
      "Epoch 392/500\n",
      "10/10 [==============================] - 0s 18ms/step - loss: 0.0023 - val_loss: 0.0093\n",
      "Epoch 393/500\n",
      "10/10 [==============================] - 0s 16ms/step - loss: 0.0023 - val_loss: 0.0093\n",
      "Epoch 394/500\n",
      "10/10 [==============================] - 0s 16ms/step - loss: 0.0023 - val_loss: 0.0093\n",
      "Epoch 395/500\n",
      "10/10 [==============================] - 0s 19ms/step - loss: 0.0023 - val_loss: 0.0093\n",
      "Epoch 396/500\n",
      "10/10 [==============================] - 0s 16ms/step - loss: 0.0022 - val_loss: 0.0093\n",
      "Epoch 397/500\n",
      "10/10 [==============================] - 0s 16ms/step - loss: 0.0022 - val_loss: 0.0093\n",
      "Epoch 398/500\n",
      "10/10 [==============================] - 0s 17ms/step - loss: 0.0022 - val_loss: 0.0093\n",
      "Epoch 399/500\n",
      "10/10 [==============================] - 0s 17ms/step - loss: 0.0022 - val_loss: 0.0092\n",
      "Epoch 400/500\n",
      "10/10 [==============================] - 0s 16ms/step - loss: 0.0022 - val_loss: 0.0092\n",
      "Epoch 401/500\n",
      "10/10 [==============================] - 0s 18ms/step - loss: 0.0021 - val_loss: 0.0092\n",
      "Epoch 402/500\n",
      "10/10 [==============================] - 0s 17ms/step - loss: 0.0021 - val_loss: 0.0092\n",
      "Epoch 403/500\n",
      "10/10 [==============================] - 0s 17ms/step - loss: 0.0021 - val_loss: 0.0092\n",
      "Epoch 404/500\n",
      "10/10 [==============================] - 0s 16ms/step - loss: 0.0021 - val_loss: 0.0092\n",
      "Epoch 405/500\n",
      "10/10 [==============================] - 0s 17ms/step - loss: 0.0021 - val_loss: 0.0092\n",
      "Epoch 406/500\n",
      "10/10 [==============================] - 0s 16ms/step - loss: 0.0021 - val_loss: 0.0092\n",
      "Epoch 407/500\n",
      "10/10 [==============================] - 0s 18ms/step - loss: 0.0020 - val_loss: 0.0092\n",
      "Epoch 408/500\n",
      "10/10 [==============================] - 0s 18ms/step - loss: 0.0020 - val_loss: 0.0092\n",
      "Epoch 409/500\n",
      "10/10 [==============================] - 0s 17ms/step - loss: 0.0020 - val_loss: 0.0092\n",
      "Epoch 410/500\n",
      "10/10 [==============================] - 0s 16ms/step - loss: 0.0020 - val_loss: 0.0092\n",
      "Epoch 411/500\n",
      "10/10 [==============================] - 0s 20ms/step - loss: 0.0020 - val_loss: 0.0092\n",
      "Epoch 412/500\n",
      "10/10 [==============================] - 0s 16ms/step - loss: 0.0020 - val_loss: 0.0092\n",
      "Epoch 413/500\n",
      "10/10 [==============================] - 0s 17ms/step - loss: 0.0019 - val_loss: 0.0092\n",
      "Epoch 414/500\n",
      "10/10 [==============================] - 0s 16ms/step - loss: 0.0019 - val_loss: 0.0091\n",
      "Epoch 415/500\n",
      "10/10 [==============================] - 0s 16ms/step - loss: 0.0019 - val_loss: 0.0091\n",
      "Epoch 416/500\n",
      "10/10 [==============================] - 0s 17ms/step - loss: 0.0019 - val_loss: 0.0091\n",
      "Epoch 417/500\n",
      "10/10 [==============================] - 0s 20ms/step - loss: 0.0019 - val_loss: 0.0091\n",
      "Epoch 418/500\n",
      "10/10 [==============================] - 0s 17ms/step - loss: 0.0019 - val_loss: 0.0091\n",
      "Epoch 419/500\n",
      "10/10 [==============================] - 0s 17ms/step - loss: 0.0018 - val_loss: 0.0091\n",
      "Epoch 420/500\n",
      "10/10 [==============================] - 0s 17ms/step - loss: 0.0018 - val_loss: 0.0091\n",
      "Epoch 421/500\n",
      "10/10 [==============================] - 0s 18ms/step - loss: 0.0018 - val_loss: 0.0091\n",
      "Epoch 422/500\n",
      "10/10 [==============================] - 0s 17ms/step - loss: 0.0018 - val_loss: 0.0091\n",
      "Epoch 423/500\n",
      "10/10 [==============================] - 0s 20ms/step - loss: 0.0018 - val_loss: 0.0091\n",
      "Epoch 424/500\n",
      "10/10 [==============================] - 0s 16ms/step - loss: 0.0018 - val_loss: 0.0091\n",
      "Epoch 425/500\n",
      "10/10 [==============================] - 0s 16ms/step - loss: 0.0018 - val_loss: 0.0091\n",
      "Epoch 426/500\n",
      "10/10 [==============================] - 0s 17ms/step - loss: 0.0017 - val_loss: 0.0091\n",
      "Epoch 427/500\n",
      "10/10 [==============================] - 0s 20ms/step - loss: 0.0017 - val_loss: 0.0091\n",
      "Epoch 428/500\n",
      "10/10 [==============================] - 0s 17ms/step - loss: 0.0017 - val_loss: 0.0091\n",
      "Epoch 429/500\n",
      "10/10 [==============================] - 0s 17ms/step - loss: 0.0017 - val_loss: 0.0091\n",
      "Epoch 430/500\n",
      "10/10 [==============================] - 0s 16ms/step - loss: 0.0017 - val_loss: 0.0091\n",
      "Epoch 431/500\n",
      "10/10 [==============================] - 0s 18ms/step - loss: 0.0017 - val_loss: 0.0090\n",
      "Epoch 432/500\n",
      "10/10 [==============================] - 0s 19ms/step - loss: 0.0017 - val_loss: 0.0090\n",
      "Epoch 433/500\n",
      "10/10 [==============================] - 0s 18ms/step - loss: 0.0016 - val_loss: 0.0090\n",
      "Epoch 434/500\n",
      "10/10 [==============================] - 0s 17ms/step - loss: 0.0016 - val_loss: 0.0090\n",
      "Epoch 435/500\n",
      "10/10 [==============================] - 0s 16ms/step - loss: 0.0016 - val_loss: 0.0090\n",
      "Epoch 436/500\n",
      "10/10 [==============================] - 0s 18ms/step - loss: 0.0016 - val_loss: 0.0090\n",
      "Epoch 437/500\n",
      "10/10 [==============================] - 0s 22ms/step - loss: 0.0016 - val_loss: 0.0090\n",
      "Epoch 438/500\n",
      "10/10 [==============================] - 0s 16ms/step - loss: 0.0016 - val_loss: 0.0090\n",
      "Epoch 439/500\n",
      "10/10 [==============================] - 0s 16ms/step - loss: 0.0016 - val_loss: 0.0090\n",
      "Epoch 440/500\n",
      "10/10 [==============================] - 0s 18ms/step - loss: 0.0015 - val_loss: 0.0090\n",
      "Epoch 441/500\n",
      "10/10 [==============================] - 0s 17ms/step - loss: 0.0015 - val_loss: 0.0090\n",
      "Epoch 442/500\n",
      "10/10 [==============================] - 0s 19ms/step - loss: 0.0015 - val_loss: 0.0090\n",
      "Epoch 443/500\n",
      "10/10 [==============================] - 0s 15ms/step - loss: 0.0015 - val_loss: 0.0090\n",
      "Epoch 444/500\n",
      "10/10 [==============================] - 0s 16ms/step - loss: 0.0015 - val_loss: 0.0090\n",
      "Epoch 445/500\n",
      "10/10 [==============================] - 0s 21ms/step - loss: 0.0015 - val_loss: 0.0090\n",
      "Epoch 446/500\n",
      "10/10 [==============================] - 0s 16ms/step - loss: 0.0015 - val_loss: 0.0090\n",
      "Epoch 447/500\n",
      "10/10 [==============================] - 0s 16ms/step - loss: 0.0015 - val_loss: 0.0090\n",
      "Epoch 448/500\n",
      "10/10 [==============================] - 0s 17ms/step - loss: 0.0014 - val_loss: 0.0090\n",
      "Epoch 449/500\n",
      "10/10 [==============================] - 0s 17ms/step - loss: 0.0014 - val_loss: 0.0090\n",
      "Epoch 450/500\n",
      "10/10 [==============================] - 0s 17ms/step - loss: 0.0014 - val_loss: 0.0090\n",
      "Epoch 451/500\n",
      "10/10 [==============================] - 0s 19ms/step - loss: 0.0014 - val_loss: 0.0090\n",
      "Epoch 452/500\n",
      "10/10 [==============================] - 0s 17ms/step - loss: 0.0014 - val_loss: 0.0090\n",
      "Epoch 453/500\n",
      "10/10 [==============================] - 0s 17ms/step - loss: 0.0014 - val_loss: 0.0090\n",
      "Epoch 454/500\n",
      "10/10 [==============================] - 0s 16ms/step - loss: 0.0014 - val_loss: 0.0090\n",
      "Epoch 455/500\n",
      "10/10 [==============================] - 0s 23ms/step - loss: 0.0014 - val_loss: 0.0090\n",
      "Epoch 456/500\n",
      "10/10 [==============================] - 0s 16ms/step - loss: 0.0014 - val_loss: 0.0090\n",
      "Epoch 457/500\n",
      "10/10 [==============================] - 0s 19ms/step - loss: 0.0013 - val_loss: 0.0090\n",
      "Epoch 458/500\n",
      "10/10 [==============================] - 0s 17ms/step - loss: 0.0013 - val_loss: 0.0090\n",
      "Epoch 459/500\n",
      "10/10 [==============================] - 0s 17ms/step - loss: 0.0013 - val_loss: 0.0089\n",
      "Epoch 460/500\n",
      "10/10 [==============================] - 0s 18ms/step - loss: 0.0013 - val_loss: 0.0089\n",
      "Epoch 461/500\n",
      "10/10 [==============================] - 0s 16ms/step - loss: 0.0013 - val_loss: 0.0089\n",
      "Epoch 462/500\n",
      "10/10 [==============================] - 0s 16ms/step - loss: 0.0013 - val_loss: 0.0089\n",
      "Epoch 463/500\n",
      "10/10 [==============================] - 0s 16ms/step - loss: 0.0013 - val_loss: 0.0089\n",
      "Epoch 464/500\n",
      "10/10 [==============================] - 0s 17ms/step - loss: 0.0013 - val_loss: 0.0089\n",
      "Epoch 465/500\n",
      "10/10 [==============================] - 0s 17ms/step - loss: 0.0013 - val_loss: 0.0089\n",
      "Epoch 466/500\n",
      "10/10 [==============================] - 0s 18ms/step - loss: 0.0012 - val_loss: 0.0089\n",
      "Epoch 467/500\n",
      "10/10 [==============================] - 0s 17ms/step - loss: 0.0012 - val_loss: 0.0089\n",
      "Epoch 468/500\n",
      "10/10 [==============================] - 0s 19ms/step - loss: 0.0012 - val_loss: 0.0089\n",
      "Epoch 469/500\n",
      "10/10 [==============================] - 0s 16ms/step - loss: 0.0012 - val_loss: 0.0089\n",
      "Epoch 470/500\n",
      "10/10 [==============================] - 0s 18ms/step - loss: 0.0012 - val_loss: 0.0089\n",
      "Epoch 471/500\n",
      "10/10 [==============================] - 0s 16ms/step - loss: 0.0012 - val_loss: 0.0089\n",
      "Epoch 472/500\n",
      "10/10 [==============================] - 0s 19ms/step - loss: 0.0012 - val_loss: 0.0089\n",
      "Epoch 473/500\n",
      "10/10 [==============================] - 0s 16ms/step - loss: 0.0012 - val_loss: 0.0089\n",
      "Epoch 474/500\n",
      "10/10 [==============================] - 0s 16ms/step - loss: 0.0012 - val_loss: 0.0089\n",
      "Epoch 475/500\n",
      "10/10 [==============================] - 0s 18ms/step - loss: 0.0012 - val_loss: 0.0089\n",
      "Epoch 476/500\n",
      "10/10 [==============================] - 0s 16ms/step - loss: 0.0011 - val_loss: 0.0089\n",
      "Epoch 477/500\n",
      "10/10 [==============================] - 0s 17ms/step - loss: 0.0011 - val_loss: 0.0089\n",
      "Epoch 478/500\n",
      "10/10 [==============================] - 0s 19ms/step - loss: 0.0011 - val_loss: 0.0089\n",
      "Epoch 479/500\n",
      "10/10 [==============================] - 0s 16ms/step - loss: 0.0011 - val_loss: 0.0089\n",
      "Epoch 480/500\n",
      "10/10 [==============================] - 0s 18ms/step - loss: 0.0011 - val_loss: 0.0089\n",
      "Epoch 481/500\n",
      "10/10 [==============================] - 0s 16ms/step - loss: 0.0011 - val_loss: 0.0089\n",
      "Epoch 482/500\n",
      "10/10 [==============================] - 0s 17ms/step - loss: 0.0011 - val_loss: 0.0089\n",
      "Epoch 483/500\n",
      "10/10 [==============================] - 0s 16ms/step - loss: 0.0011 - val_loss: 0.0089\n",
      "Epoch 484/500\n",
      "10/10 [==============================] - 0s 17ms/step - loss: 0.0011 - val_loss: 0.0089\n",
      "Epoch 485/500\n",
      "10/10 [==============================] - 0s 19ms/step - loss: 0.0011 - val_loss: 0.0089\n",
      "Epoch 486/500\n",
      "10/10 [==============================] - 0s 15ms/step - loss: 0.0010 - val_loss: 0.0089\n",
      "Epoch 487/500\n",
      "10/10 [==============================] - 0s 17ms/step - loss: 0.0010 - val_loss: 0.0089\n",
      "Epoch 488/500\n",
      "10/10 [==============================] - 0s 17ms/step - loss: 0.0010 - val_loss: 0.0089\n",
      "Epoch 489/500\n",
      "10/10 [==============================] - 0s 19ms/step - loss: 0.0010 - val_loss: 0.0089\n",
      "Epoch 490/500\n",
      "10/10 [==============================] - 0s 19ms/step - loss: 0.0010 - val_loss: 0.0089\n",
      "Epoch 491/500\n",
      "10/10 [==============================] - 0s 17ms/step - loss: 0.0010 - val_loss: 0.0089\n",
      "Epoch 492/500\n",
      "10/10 [==============================] - 0s 16ms/step - loss: 9.9519e-04 - val_loss: 0.0089\n",
      "Epoch 493/500\n",
      "10/10 [==============================] - 0s 18ms/step - loss: 9.8776e-04 - val_loss: 0.0089\n",
      "Epoch 494/500\n",
      "10/10 [==============================] - 0s 16ms/step - loss: 9.7890e-04 - val_loss: 0.0089\n",
      "Epoch 495/500\n",
      "10/10 [==============================] - 0s 20ms/step - loss: 9.7053e-04 - val_loss: 0.0089\n",
      "Epoch 496/500\n",
      "10/10 [==============================] - 0s 15ms/step - loss: 9.6248e-04 - val_loss: 0.0089\n",
      "Epoch 497/500\n",
      "10/10 [==============================] - 0s 17ms/step - loss: 9.5461e-04 - val_loss: 0.0089\n",
      "Epoch 498/500\n",
      "10/10 [==============================] - 0s 18ms/step - loss: 9.4684e-04 - val_loss: 0.0089\n",
      "Epoch 499/500\n",
      "10/10 [==============================] - 0s 18ms/step - loss: 9.3821e-04 - val_loss: 0.0089\n",
      "Epoch 500/500\n",
      "10/10 [==============================] - 0s 15ms/step - loss: 9.2991e-04 - val_loss: 0.0089\n"
     ]
    },
    {
     "data": {
      "text/plain": [
       "<keras.callbacks.History at 0x138802d3b88>"
      ]
     },
     "execution_count": 10,
     "metadata": {},
     "output_type": "execute_result"
    }
   ],
   "source": [
    "autoencoder.fit(normalized_ds,\n",
    "                epochs=500,\n",
    "                batch_size=256,\n",
    "                validation_data=normalized_val_ds)"
   ]
  },
  {
   "cell_type": "code",
   "execution_count": 53,
   "metadata": {},
   "outputs": [
    {
     "name": "stdout",
     "output_type": "stream",
     "text": [
      "Epoch 1/500\n",
      "10/10 [==============================] - 1s 50ms/step - loss: 0.6249 - val_loss: 0.4322\n",
      "Epoch 2/500\n",
      "10/10 [==============================] - 0s 22ms/step - loss: 0.2283 - val_loss: 0.0694\n",
      "Epoch 3/500\n",
      "10/10 [==============================] - 0s 22ms/step - loss: 0.0556 - val_loss: 0.0490\n",
      "Epoch 4/500\n",
      "10/10 [==============================] - 0s 25ms/step - loss: 0.0490 - val_loss: 0.0480\n",
      "Epoch 5/500\n",
      "10/10 [==============================] - 0s 23ms/step - loss: 0.0461 - val_loss: 0.0443\n",
      "Epoch 6/500\n",
      "10/10 [==============================] - 0s 23ms/step - loss: 0.0425 - val_loss: 0.0411\n",
      "Epoch 7/500\n",
      "10/10 [==============================] - 0s 23ms/step - loss: 0.0398 - val_loss: 0.0392\n",
      "Epoch 8/500\n",
      "10/10 [==============================] - 0s 23ms/step - loss: 0.0384 - val_loss: 0.0382\n",
      "Epoch 9/500\n",
      "10/10 [==============================] - 0s 25ms/step - loss: 0.0377 - val_loss: 0.0375\n",
      "Epoch 10/500\n",
      "10/10 [==============================] - 0s 23ms/step - loss: 0.0372 - val_loss: 0.0371\n",
      "Epoch 11/500\n",
      "10/10 [==============================] - 0s 23ms/step - loss: 0.0369 - val_loss: 0.0368\n",
      "Epoch 12/500\n",
      "10/10 [==============================] - 0s 23ms/step - loss: 0.0367 - val_loss: 0.0365\n",
      "Epoch 13/500\n",
      "10/10 [==============================] - 0s 24ms/step - loss: 0.0364 - val_loss: 0.0363\n",
      "Epoch 14/500\n",
      "10/10 [==============================] - 0s 25ms/step - loss: 0.0362 - val_loss: 0.0361\n",
      "Epoch 15/500\n",
      "10/10 [==============================] - 0s 27ms/step - loss: 0.0360 - val_loss: 0.0358\n",
      "Epoch 16/500\n",
      "10/10 [==============================] - 0s 27ms/step - loss: 0.0358 - val_loss: 0.0357\n",
      "Epoch 17/500\n",
      "10/10 [==============================] - 0s 26ms/step - loss: 0.0355 - val_loss: 0.0354\n",
      "Epoch 18/500\n",
      "10/10 [==============================] - 0s 27ms/step - loss: 0.0353 - val_loss: 0.0352\n",
      "Epoch 19/500\n",
      "10/10 [==============================] - 0s 22ms/step - loss: 0.0352 - val_loss: 0.0350\n",
      "Epoch 20/500\n",
      "10/10 [==============================] - 0s 22ms/step - loss: 0.0349 - val_loss: 0.0348\n",
      "Epoch 21/500\n",
      "10/10 [==============================] - 0s 24ms/step - loss: 0.0347 - val_loss: 0.0346\n",
      "Epoch 22/500\n",
      "10/10 [==============================] - 0s 24ms/step - loss: 0.0345 - val_loss: 0.0344\n",
      "Epoch 23/500\n",
      "10/10 [==============================] - 0s 23ms/step - loss: 0.0343 - val_loss: 0.0342\n",
      "Epoch 24/500\n",
      "10/10 [==============================] - 0s 22ms/step - loss: 0.0341 - val_loss: 0.0339\n",
      "Epoch 25/500\n",
      "10/10 [==============================] - 0s 21ms/step - loss: 0.0337 - val_loss: 0.0336\n",
      "Epoch 26/500\n",
      "10/10 [==============================] - 0s 23ms/step - loss: 0.0332 - val_loss: 0.0328\n",
      "Epoch 27/500\n",
      "10/10 [==============================] - 0s 24ms/step - loss: 0.0322 - val_loss: 0.0316\n",
      "Epoch 28/500\n",
      "10/10 [==============================] - 0s 22ms/step - loss: 0.0309 - val_loss: 0.0304\n",
      "Epoch 29/500\n",
      "10/10 [==============================] - 0s 23ms/step - loss: 0.0299 - val_loss: 0.0297\n",
      "Epoch 30/500\n",
      "10/10 [==============================] - 0s 22ms/step - loss: 0.0292 - val_loss: 0.0292\n",
      "Epoch 31/500\n",
      "10/10 [==============================] - 0s 22ms/step - loss: 0.0286 - val_loss: 0.0285\n",
      "Epoch 32/500\n",
      "10/10 [==============================] - 0s 22ms/step - loss: 0.0279 - val_loss: 0.0277\n",
      "Epoch 33/500\n",
      "10/10 [==============================] - 0s 23ms/step - loss: 0.0271 - val_loss: 0.0269\n",
      "Epoch 34/500\n",
      "10/10 [==============================] - 0s 23ms/step - loss: 0.0265 - val_loss: 0.0264\n",
      "Epoch 35/500\n",
      "10/10 [==============================] - 0s 22ms/step - loss: 0.0257 - val_loss: 0.0259\n",
      "Epoch 36/500\n",
      "10/10 [==============================] - 0s 22ms/step - loss: 0.0253 - val_loss: 0.0254\n",
      "Epoch 37/500\n",
      "10/10 [==============================] - 0s 31ms/step - loss: 0.0248 - val_loss: 0.0251\n",
      "Epoch 38/500\n",
      "10/10 [==============================] - 0s 23ms/step - loss: 0.0243 - val_loss: 0.0247\n",
      "Epoch 39/500\n",
      "10/10 [==============================] - 0s 22ms/step - loss: 0.0240 - val_loss: 0.0244\n",
      "Epoch 40/500\n",
      "10/10 [==============================] - 0s 25ms/step - loss: 0.0235 - val_loss: 0.0241\n",
      "Epoch 41/500\n",
      "10/10 [==============================] - 0s 21ms/step - loss: 0.0233 - val_loss: 0.0240\n",
      "Epoch 42/500\n",
      "10/10 [==============================] - 0s 22ms/step - loss: 0.0230 - val_loss: 0.0237\n",
      "Epoch 43/500\n",
      "10/10 [==============================] - 0s 22ms/step - loss: 0.0228 - val_loss: 0.0236\n",
      "Epoch 44/500\n",
      "10/10 [==============================] - 0s 22ms/step - loss: 0.0225 - val_loss: 0.0234\n",
      "Epoch 45/500\n",
      "10/10 [==============================] - 0s 23ms/step - loss: 0.0223 - val_loss: 0.0232\n",
      "Epoch 46/500\n",
      "10/10 [==============================] - 0s 24ms/step - loss: 0.0222 - val_loss: 0.0231\n",
      "Epoch 47/500\n",
      "10/10 [==============================] - 0s 22ms/step - loss: 0.0220 - val_loss: 0.0229\n",
      "Epoch 48/500\n",
      "10/10 [==============================] - 0s 21ms/step - loss: 0.0218 - val_loss: 0.0228\n",
      "Epoch 49/500\n",
      "10/10 [==============================] - 0s 23ms/step - loss: 0.0216 - val_loss: 0.0226\n",
      "Epoch 50/500\n",
      "10/10 [==============================] - 0s 23ms/step - loss: 0.0214 - val_loss: 0.0225\n",
      "Epoch 51/500\n",
      "10/10 [==============================] - 0s 23ms/step - loss: 0.0213 - val_loss: 0.0226\n",
      "Epoch 52/500\n",
      "10/10 [==============================] - 0s 22ms/step - loss: 0.0211 - val_loss: 0.0222\n",
      "Epoch 53/500\n",
      "10/10 [==============================] - 0s 24ms/step - loss: 0.0209 - val_loss: 0.0221\n",
      "Epoch 54/500\n",
      "10/10 [==============================] - 0s 22ms/step - loss: 0.0207 - val_loss: 0.0220\n",
      "Epoch 55/500\n",
      "10/10 [==============================] - 0s 22ms/step - loss: 0.0206 - val_loss: 0.0219\n",
      "Epoch 56/500\n",
      "10/10 [==============================] - 0s 22ms/step - loss: 0.0204 - val_loss: 0.0218\n",
      "Epoch 57/500\n",
      "10/10 [==============================] - 0s 23ms/step - loss: 0.0202 - val_loss: 0.0216\n",
      "Epoch 58/500\n",
      "10/10 [==============================] - 0s 23ms/step - loss: 0.0201 - val_loss: 0.0215\n",
      "Epoch 59/500\n",
      "10/10 [==============================] - 0s 24ms/step - loss: 0.0199 - val_loss: 0.0214\n",
      "Epoch 60/500\n",
      "10/10 [==============================] - 0s 22ms/step - loss: 0.0198 - val_loss: 0.0213\n",
      "Epoch 61/500\n",
      "10/10 [==============================] - 0s 23ms/step - loss: 0.0197 - val_loss: 0.0211\n",
      "Epoch 62/500\n",
      "10/10 [==============================] - 0s 22ms/step - loss: 0.0195 - val_loss: 0.0211\n",
      "Epoch 63/500\n",
      "10/10 [==============================] - 0s 22ms/step - loss: 0.0194 - val_loss: 0.0210\n",
      "Epoch 64/500\n",
      "10/10 [==============================] - 0s 22ms/step - loss: 0.0193 - val_loss: 0.0208\n",
      "Epoch 65/500\n",
      "10/10 [==============================] - 0s 24ms/step - loss: 0.0192 - val_loss: 0.0208\n",
      "Epoch 66/500\n",
      "10/10 [==============================] - 0s 22ms/step - loss: 0.0190 - val_loss: 0.0207\n",
      "Epoch 67/500\n",
      "10/10 [==============================] - 0s 23ms/step - loss: 0.0189 - val_loss: 0.0205\n",
      "Epoch 68/500\n",
      "10/10 [==============================] - 0s 22ms/step - loss: 0.0187 - val_loss: 0.0204\n",
      "Epoch 69/500\n",
      "10/10 [==============================] - 0s 24ms/step - loss: 0.0186 - val_loss: 0.0203\n",
      "Epoch 70/500\n",
      "10/10 [==============================] - 0s 22ms/step - loss: 0.0185 - val_loss: 0.0202\n",
      "Epoch 71/500\n",
      "10/10 [==============================] - 0s 22ms/step - loss: 0.0184 - val_loss: 0.0201\n",
      "Epoch 72/500\n",
      "10/10 [==============================] - 0s 22ms/step - loss: 0.0183 - val_loss: 0.0200\n",
      "Epoch 73/500\n",
      "10/10 [==============================] - 0s 22ms/step - loss: 0.0182 - val_loss: 0.0199\n",
      "Epoch 74/500\n",
      "10/10 [==============================] - 0s 22ms/step - loss: 0.0181 - val_loss: 0.0199\n",
      "Epoch 75/500\n",
      "10/10 [==============================] - 0s 22ms/step - loss: 0.0180 - val_loss: 0.0198\n",
      "Epoch 76/500\n",
      "10/10 [==============================] - 0s 22ms/step - loss: 0.0179 - val_loss: 0.0197\n",
      "Epoch 77/500\n",
      "10/10 [==============================] - 0s 22ms/step - loss: 0.0178 - val_loss: 0.0196\n",
      "Epoch 78/500\n",
      "10/10 [==============================] - 0s 23ms/step - loss: 0.0177 - val_loss: 0.0195\n",
      "Epoch 79/500\n",
      "10/10 [==============================] - 0s 21ms/step - loss: 0.0176 - val_loss: 0.0194\n",
      "Epoch 80/500\n",
      "10/10 [==============================] - 0s 21ms/step - loss: 0.0175 - val_loss: 0.0193\n",
      "Epoch 81/500\n",
      "10/10 [==============================] - 0s 25ms/step - loss: 0.0175 - val_loss: 0.0193\n",
      "Epoch 82/500\n",
      "10/10 [==============================] - 0s 22ms/step - loss: 0.0174 - val_loss: 0.0192\n",
      "Epoch 83/500\n",
      "10/10 [==============================] - 0s 22ms/step - loss: 0.0173 - val_loss: 0.0191\n",
      "Epoch 84/500\n",
      "10/10 [==============================] - 0s 22ms/step - loss: 0.0173 - val_loss: 0.0191\n",
      "Epoch 85/500\n",
      "10/10 [==============================] - 0s 22ms/step - loss: 0.0172 - val_loss: 0.0190\n",
      "Epoch 86/500\n",
      "10/10 [==============================] - 0s 23ms/step - loss: 0.0171 - val_loss: 0.0189\n",
      "Epoch 87/500\n",
      "10/10 [==============================] - 0s 22ms/step - loss: 0.0170 - val_loss: 0.0189\n",
      "Epoch 88/500\n",
      "10/10 [==============================] - 0s 22ms/step - loss: 0.0169 - val_loss: 0.0188\n",
      "Epoch 89/500\n",
      "10/10 [==============================] - 0s 22ms/step - loss: 0.0169 - val_loss: 0.0188\n",
      "Epoch 90/500\n",
      "10/10 [==============================] - 0s 23ms/step - loss: 0.0168 - val_loss: 0.0187\n",
      "Epoch 91/500\n",
      "10/10 [==============================] - 0s 23ms/step - loss: 0.0168 - val_loss: 0.0186\n",
      "Epoch 92/500\n",
      "10/10 [==============================] - 0s 22ms/step - loss: 0.0167 - val_loss: 0.0185\n",
      "Epoch 93/500\n",
      "10/10 [==============================] - 0s 22ms/step - loss: 0.0166 - val_loss: 0.0185\n",
      "Epoch 94/500\n",
      "10/10 [==============================] - 0s 25ms/step - loss: 0.0166 - val_loss: 0.0185\n",
      "Epoch 95/500\n",
      "10/10 [==============================] - 0s 21ms/step - loss: 0.0165 - val_loss: 0.0184\n",
      "Epoch 96/500\n",
      "10/10 [==============================] - 0s 22ms/step - loss: 0.0164 - val_loss: 0.0183\n",
      "Epoch 97/500\n",
      "10/10 [==============================] - 0s 23ms/step - loss: 0.0164 - val_loss: 0.0183\n",
      "Epoch 98/500\n",
      "10/10 [==============================] - 0s 22ms/step - loss: 0.0163 - val_loss: 0.0183\n",
      "Epoch 99/500\n",
      "10/10 [==============================] - 0s 23ms/step - loss: 0.0163 - val_loss: 0.0182\n",
      "Epoch 100/500\n",
      "10/10 [==============================] - 0s 21ms/step - loss: 0.0162 - val_loss: 0.0181\n",
      "Epoch 101/500\n",
      "10/10 [==============================] - 0s 22ms/step - loss: 0.0161 - val_loss: 0.0180\n",
      "Epoch 102/500\n",
      "10/10 [==============================] - 0s 22ms/step - loss: 0.0161 - val_loss: 0.0180\n",
      "Epoch 103/500\n",
      "10/10 [==============================] - 0s 23ms/step - loss: 0.0161 - val_loss: 0.0180\n",
      "Epoch 104/500\n",
      "10/10 [==============================] - 0s 24ms/step - loss: 0.0160 - val_loss: 0.0179\n",
      "Epoch 105/500\n",
      "10/10 [==============================] - 0s 23ms/step - loss: 0.0160 - val_loss: 0.0179\n",
      "Epoch 106/500\n",
      "10/10 [==============================] - 0s 21ms/step - loss: 0.0159 - val_loss: 0.0178\n",
      "Epoch 107/500\n",
      "10/10 [==============================] - 0s 23ms/step - loss: 0.0158 - val_loss: 0.0178\n",
      "Epoch 108/500\n",
      "10/10 [==============================] - 0s 22ms/step - loss: 0.0158 - val_loss: 0.0177\n",
      "Epoch 109/500\n",
      "10/10 [==============================] - 0s 22ms/step - loss: 0.0158 - val_loss: 0.0176\n",
      "Epoch 110/500\n",
      "10/10 [==============================] - 0s 24ms/step - loss: 0.0157 - val_loss: 0.0176\n",
      "Epoch 111/500\n",
      "10/10 [==============================] - 0s 24ms/step - loss: 0.0156 - val_loss: 0.0176\n",
      "Epoch 112/500\n",
      "10/10 [==============================] - 0s 22ms/step - loss: 0.0156 - val_loss: 0.0175\n",
      "Epoch 113/500\n",
      "10/10 [==============================] - 0s 21ms/step - loss: 0.0155 - val_loss: 0.0175\n",
      "Epoch 114/500\n",
      "10/10 [==============================] - 0s 23ms/step - loss: 0.0155 - val_loss: 0.0175\n",
      "Epoch 115/500\n",
      "10/10 [==============================] - 0s 22ms/step - loss: 0.0154 - val_loss: 0.0174\n",
      "Epoch 116/500\n",
      "10/10 [==============================] - 0s 22ms/step - loss: 0.0154 - val_loss: 0.0174\n",
      "Epoch 117/500\n",
      "10/10 [==============================] - 0s 23ms/step - loss: 0.0154 - val_loss: 0.0173\n",
      "Epoch 118/500\n",
      "10/10 [==============================] - 0s 22ms/step - loss: 0.0154 - val_loss: 0.0173\n",
      "Epoch 119/500\n",
      "10/10 [==============================] - 0s 22ms/step - loss: 0.0153 - val_loss: 0.0173\n",
      "Epoch 120/500\n",
      "10/10 [==============================] - 0s 22ms/step - loss: 0.0153 - val_loss: 0.0172\n",
      "Epoch 121/500\n",
      "10/10 [==============================] - 0s 22ms/step - loss: 0.0152 - val_loss: 0.0172\n",
      "Epoch 122/500\n",
      "10/10 [==============================] - 0s 22ms/step - loss: 0.0152 - val_loss: 0.0171\n",
      "Epoch 123/500\n",
      "10/10 [==============================] - 0s 22ms/step - loss: 0.0151 - val_loss: 0.0171\n",
      "Epoch 124/500\n",
      "10/10 [==============================] - 0s 22ms/step - loss: 0.0151 - val_loss: 0.0171\n",
      "Epoch 125/500\n",
      "10/10 [==============================] - 0s 22ms/step - loss: 0.0151 - val_loss: 0.0171\n",
      "Epoch 126/500\n",
      "10/10 [==============================] - 0s 22ms/step - loss: 0.0150 - val_loss: 0.0171\n",
      "Epoch 127/500\n",
      "10/10 [==============================] - 0s 22ms/step - loss: 0.0151 - val_loss: 0.0170\n",
      "Epoch 128/500\n",
      "10/10 [==============================] - 0s 22ms/step - loss: 0.0150 - val_loss: 0.0170\n",
      "Epoch 129/500\n",
      "10/10 [==============================] - 0s 21ms/step - loss: 0.0150 - val_loss: 0.0170\n",
      "Epoch 130/500\n",
      "10/10 [==============================] - 0s 25ms/step - loss: 0.0149 - val_loss: 0.0169\n",
      "Epoch 131/500\n",
      "10/10 [==============================] - 0s 22ms/step - loss: 0.0149 - val_loss: 0.0169\n",
      "Epoch 132/500\n",
      "10/10 [==============================] - 0s 22ms/step - loss: 0.0149 - val_loss: 0.0169\n",
      "Epoch 133/500\n",
      "10/10 [==============================] - 0s 22ms/step - loss: 0.0148 - val_loss: 0.0169\n",
      "Epoch 134/500\n",
      "10/10 [==============================] - 0s 23ms/step - loss: 0.0148 - val_loss: 0.0168\n",
      "Epoch 135/500\n",
      "10/10 [==============================] - 0s 22ms/step - loss: 0.0148 - val_loss: 0.0168\n",
      "Epoch 136/500\n",
      "10/10 [==============================] - 0s 22ms/step - loss: 0.0147 - val_loss: 0.0167\n",
      "Epoch 137/500\n",
      "10/10 [==============================] - 0s 22ms/step - loss: 0.0147 - val_loss: 0.0167\n",
      "Epoch 138/500\n",
      "10/10 [==============================] - 0s 23ms/step - loss: 0.0147 - val_loss: 0.0167\n",
      "Epoch 139/500\n",
      "10/10 [==============================] - 0s 22ms/step - loss: 0.0146 - val_loss: 0.0167\n",
      "Epoch 140/500\n",
      "10/10 [==============================] - 0s 22ms/step - loss: 0.0146 - val_loss: 0.0166\n",
      "Epoch 141/500\n",
      "10/10 [==============================] - 0s 21ms/step - loss: 0.0146 - val_loss: 0.0166\n",
      "Epoch 142/500\n",
      "10/10 [==============================] - 0s 22ms/step - loss: 0.0145 - val_loss: 0.0166\n",
      "Epoch 143/500\n",
      "10/10 [==============================] - 0s 23ms/step - loss: 0.0145 - val_loss: 0.0165\n",
      "Epoch 144/500\n",
      "10/10 [==============================] - 0s 23ms/step - loss: 0.0145 - val_loss: 0.0166\n",
      "Epoch 145/500\n",
      "10/10 [==============================] - 0s 21ms/step - loss: 0.0145 - val_loss: 0.0165\n",
      "Epoch 146/500\n",
      "10/10 [==============================] - 0s 22ms/step - loss: 0.0144 - val_loss: 0.0165\n",
      "Epoch 147/500\n",
      "10/10 [==============================] - 0s 22ms/step - loss: 0.0144 - val_loss: 0.0165\n",
      "Epoch 148/500\n",
      "10/10 [==============================] - 0s 24ms/step - loss: 0.0144 - val_loss: 0.0164\n",
      "Epoch 149/500\n",
      "10/10 [==============================] - 0s 25ms/step - loss: 0.0144 - val_loss: 0.0164\n",
      "Epoch 150/500\n",
      "10/10 [==============================] - 0s 22ms/step - loss: 0.0143 - val_loss: 0.0164\n",
      "Epoch 151/500\n",
      "10/10 [==============================] - 0s 22ms/step - loss: 0.0143 - val_loss: 0.0164\n",
      "Epoch 152/500\n",
      "10/10 [==============================] - 0s 23ms/step - loss: 0.0143 - val_loss: 0.0164\n",
      "Epoch 153/500\n",
      "10/10 [==============================] - 0s 22ms/step - loss: 0.0142 - val_loss: 0.0163\n",
      "Epoch 154/500\n",
      "10/10 [==============================] - 0s 23ms/step - loss: 0.0142 - val_loss: 0.0163\n",
      "Epoch 155/500\n",
      "10/10 [==============================] - 0s 22ms/step - loss: 0.0142 - val_loss: 0.0163\n",
      "Epoch 156/500\n",
      "10/10 [==============================] - 0s 23ms/step - loss: 0.0142 - val_loss: 0.0163\n",
      "Epoch 157/500\n",
      "10/10 [==============================] - 0s 23ms/step - loss: 0.0141 - val_loss: 0.0162\n",
      "Epoch 158/500\n",
      "10/10 [==============================] - 0s 23ms/step - loss: 0.0141 - val_loss: 0.0162\n",
      "Epoch 159/500\n",
      "10/10 [==============================] - 0s 22ms/step - loss: 0.0141 - val_loss: 0.0162\n",
      "Epoch 160/500\n",
      "10/10 [==============================] - 0s 25ms/step - loss: 0.0141 - val_loss: 0.0161\n",
      "Epoch 161/500\n",
      "10/10 [==============================] - 0s 21ms/step - loss: 0.0140 - val_loss: 0.0161\n",
      "Epoch 162/500\n",
      "10/10 [==============================] - 0s 22ms/step - loss: 0.0140 - val_loss: 0.0161\n",
      "Epoch 163/500\n",
      "10/10 [==============================] - 0s 22ms/step - loss: 0.0140 - val_loss: 0.0161\n",
      "Epoch 164/500\n",
      "10/10 [==============================] - 0s 23ms/step - loss: 0.0140 - val_loss: 0.0161\n",
      "Epoch 165/500\n",
      "10/10 [==============================] - 0s 22ms/step - loss: 0.0139 - val_loss: 0.0160\n",
      "Epoch 166/500\n",
      "10/10 [==============================] - 0s 23ms/step - loss: 0.0139 - val_loss: 0.0160\n",
      "Epoch 167/500\n",
      "10/10 [==============================] - 0s 22ms/step - loss: 0.0139 - val_loss: 0.0160\n",
      "Epoch 168/500\n",
      "10/10 [==============================] - 0s 22ms/step - loss: 0.0139 - val_loss: 0.0160\n",
      "Epoch 169/500\n",
      "10/10 [==============================] - 0s 25ms/step - loss: 0.0139 - val_loss: 0.0160\n",
      "Epoch 170/500\n",
      "10/10 [==============================] - 0s 22ms/step - loss: 0.0139 - val_loss: 0.0159\n",
      "Epoch 171/500\n",
      "10/10 [==============================] - 0s 22ms/step - loss: 0.0139 - val_loss: 0.0160\n",
      "Epoch 172/500\n",
      "10/10 [==============================] - 0s 23ms/step - loss: 0.0138 - val_loss: 0.0159\n",
      "Epoch 173/500\n",
      "10/10 [==============================] - 0s 23ms/step - loss: 0.0138 - val_loss: 0.0159\n",
      "Epoch 174/500\n",
      "10/10 [==============================] - 0s 22ms/step - loss: 0.0138 - val_loss: 0.0159\n",
      "Epoch 175/500\n",
      "10/10 [==============================] - 0s 21ms/step - loss: 0.0138 - val_loss: 0.0159\n",
      "Epoch 176/500\n",
      "10/10 [==============================] - 0s 21ms/step - loss: 0.0137 - val_loss: 0.0158\n",
      "Epoch 177/500\n",
      "10/10 [==============================] - 0s 21ms/step - loss: 0.0137 - val_loss: 0.0158\n",
      "Epoch 178/500\n",
      "10/10 [==============================] - 0s 23ms/step - loss: 0.0137 - val_loss: 0.0158\n",
      "Epoch 179/500\n",
      "10/10 [==============================] - 0s 21ms/step - loss: 0.0137 - val_loss: 0.0159\n",
      "Epoch 180/500\n",
      "10/10 [==============================] - 0s 22ms/step - loss: 0.0137 - val_loss: 0.0158\n",
      "Epoch 181/500\n",
      "10/10 [==============================] - 0s 23ms/step - loss: 0.0136 - val_loss: 0.0157\n",
      "Epoch 182/500\n",
      "10/10 [==============================] - 0s 21ms/step - loss: 0.0136 - val_loss: 0.0157\n",
      "Epoch 183/500\n",
      "10/10 [==============================] - 0s 22ms/step - loss: 0.0136 - val_loss: 0.0158\n",
      "Epoch 184/500\n",
      "10/10 [==============================] - 0s 24ms/step - loss: 0.0136 - val_loss: 0.0157\n",
      "Epoch 185/500\n",
      "10/10 [==============================] - 0s 21ms/step - loss: 0.0136 - val_loss: 0.0157\n",
      "Epoch 186/500\n",
      "10/10 [==============================] - 0s 23ms/step - loss: 0.0136 - val_loss: 0.0157\n",
      "Epoch 187/500\n",
      "10/10 [==============================] - 0s 23ms/step - loss: 0.0136 - val_loss: 0.0158\n",
      "Epoch 188/500\n",
      "10/10 [==============================] - 0s 23ms/step - loss: 0.0135 - val_loss: 0.0157\n",
      "Epoch 189/500\n",
      "10/10 [==============================] - 0s 22ms/step - loss: 0.0135 - val_loss: 0.0156\n",
      "Epoch 190/500\n",
      "10/10 [==============================] - 0s 21ms/step - loss: 0.0135 - val_loss: 0.0156\n",
      "Epoch 191/500\n",
      "10/10 [==============================] - 0s 22ms/step - loss: 0.0135 - val_loss: 0.0156\n",
      "Epoch 192/500\n",
      "10/10 [==============================] - 0s 22ms/step - loss: 0.0135 - val_loss: 0.0156\n",
      "Epoch 193/500\n",
      "10/10 [==============================] - 0s 24ms/step - loss: 0.0134 - val_loss: 0.0156\n",
      "Epoch 194/500\n",
      "10/10 [==============================] - 0s 22ms/step - loss: 0.0134 - val_loss: 0.0155\n",
      "Epoch 195/500\n",
      "10/10 [==============================] - 0s 22ms/step - loss: 0.0134 - val_loss: 0.0156\n",
      "Epoch 196/500\n",
      "10/10 [==============================] - 0s 22ms/step - loss: 0.0134 - val_loss: 0.0155\n",
      "Epoch 197/500\n",
      "10/10 [==============================] - 0s 22ms/step - loss: 0.0133 - val_loss: 0.0155\n",
      "Epoch 198/500\n",
      "10/10 [==============================] - 0s 23ms/step - loss: 0.0133 - val_loss: 0.0155\n",
      "Epoch 199/500\n",
      "10/10 [==============================] - 0s 23ms/step - loss: 0.0133 - val_loss: 0.0155\n",
      "Epoch 200/500\n",
      "10/10 [==============================] - 0s 22ms/step - loss: 0.0133 - val_loss: 0.0154\n",
      "Epoch 201/500\n",
      "10/10 [==============================] - 0s 22ms/step - loss: 0.0133 - val_loss: 0.0154\n",
      "Epoch 202/500\n",
      "10/10 [==============================] - 0s 23ms/step - loss: 0.0133 - val_loss: 0.0155\n",
      "Epoch 203/500\n",
      "10/10 [==============================] - 0s 22ms/step - loss: 0.0133 - val_loss: 0.0154\n",
      "Epoch 204/500\n",
      "10/10 [==============================] - 0s 22ms/step - loss: 0.0132 - val_loss: 0.0154\n",
      "Epoch 205/500\n",
      "10/10 [==============================] - 0s 25ms/step - loss: 0.0132 - val_loss: 0.0154\n",
      "Epoch 206/500\n",
      "10/10 [==============================] - 0s 22ms/step - loss: 0.0132 - val_loss: 0.0153\n",
      "Epoch 207/500\n",
      "10/10 [==============================] - 0s 22ms/step - loss: 0.0132 - val_loss: 0.0153\n",
      "Epoch 208/500\n",
      "10/10 [==============================] - 0s 23ms/step - loss: 0.0132 - val_loss: 0.0153\n",
      "Epoch 209/500\n",
      "10/10 [==============================] - 0s 23ms/step - loss: 0.0131 - val_loss: 0.0153\n",
      "Epoch 210/500\n",
      "10/10 [==============================] - 0s 22ms/step - loss: 0.0131 - val_loss: 0.0153\n",
      "Epoch 211/500\n",
      "10/10 [==============================] - 0s 22ms/step - loss: 0.0131 - val_loss: 0.0154\n",
      "Epoch 212/500\n",
      "10/10 [==============================] - 0s 21ms/step - loss: 0.0131 - val_loss: 0.0153\n",
      "Epoch 213/500\n",
      "10/10 [==============================] - 0s 22ms/step - loss: 0.0131 - val_loss: 0.0154\n",
      "Epoch 214/500\n",
      "10/10 [==============================] - 0s 22ms/step - loss: 0.0131 - val_loss: 0.0153\n",
      "Epoch 215/500\n",
      "10/10 [==============================] - 0s 23ms/step - loss: 0.0131 - val_loss: 0.0153\n",
      "Epoch 216/500\n",
      "10/10 [==============================] - 0s 22ms/step - loss: 0.0131 - val_loss: 0.0153\n",
      "Epoch 217/500\n",
      "10/10 [==============================] - 0s 25ms/step - loss: 0.0130 - val_loss: 0.0153\n",
      "Epoch 218/500\n",
      "10/10 [==============================] - 0s 22ms/step - loss: 0.0130 - val_loss: 0.0152\n",
      "Epoch 219/500\n",
      "10/10 [==============================] - 0s 22ms/step - loss: 0.0130 - val_loss: 0.0152\n",
      "Epoch 220/500\n",
      "10/10 [==============================] - 0s 23ms/step - loss: 0.0130 - val_loss: 0.0152\n",
      "Epoch 221/500\n",
      "10/10 [==============================] - 0s 22ms/step - loss: 0.0130 - val_loss: 0.0152\n",
      "Epoch 222/500\n",
      "10/10 [==============================] - 0s 22ms/step - loss: 0.0130 - val_loss: 0.0152\n",
      "Epoch 223/500\n",
      "10/10 [==============================] - 0s 22ms/step - loss: 0.0129 - val_loss: 0.0151\n",
      "Epoch 224/500\n",
      "10/10 [==============================] - 0s 22ms/step - loss: 0.0129 - val_loss: 0.0151\n",
      "Epoch 225/500\n",
      "10/10 [==============================] - 0s 23ms/step - loss: 0.0129 - val_loss: 0.0151\n",
      "Epoch 226/500\n",
      "10/10 [==============================] - 0s 22ms/step - loss: 0.0129 - val_loss: 0.0151\n",
      "Epoch 227/500\n",
      "10/10 [==============================] - 0s 24ms/step - loss: 0.0129 - val_loss: 0.0151\n",
      "Epoch 228/500\n",
      "10/10 [==============================] - 0s 22ms/step - loss: 0.0129 - val_loss: 0.0151\n",
      "Epoch 229/500\n",
      "10/10 [==============================] - 0s 22ms/step - loss: 0.0129 - val_loss: 0.0151\n",
      "Epoch 230/500\n",
      "10/10 [==============================] - 0s 22ms/step - loss: 0.0128 - val_loss: 0.0151\n",
      "Epoch 231/500\n",
      "10/10 [==============================] - 0s 22ms/step - loss: 0.0129 - val_loss: 0.0151\n",
      "Epoch 232/500\n",
      "10/10 [==============================] - 0s 22ms/step - loss: 0.0128 - val_loss: 0.0151\n",
      "Epoch 233/500\n",
      "10/10 [==============================] - 0s 22ms/step - loss: 0.0128 - val_loss: 0.0151\n",
      "Epoch 234/500\n",
      "10/10 [==============================] - 0s 24ms/step - loss: 0.0128 - val_loss: 0.0150\n",
      "Epoch 235/500\n",
      "10/10 [==============================] - 0s 22ms/step - loss: 0.0128 - val_loss: 0.0151\n",
      "Epoch 236/500\n",
      "10/10 [==============================] - 0s 22ms/step - loss: 0.0128 - val_loss: 0.0150\n",
      "Epoch 237/500\n",
      "10/10 [==============================] - 0s 22ms/step - loss: 0.0128 - val_loss: 0.0150\n",
      "Epoch 238/500\n",
      "10/10 [==============================] - 0s 23ms/step - loss: 0.0128 - val_loss: 0.0151\n",
      "Epoch 239/500\n",
      "10/10 [==============================] - 0s 21ms/step - loss: 0.0128 - val_loss: 0.0150\n",
      "Epoch 240/500\n",
      "10/10 [==============================] - 0s 22ms/step - loss: 0.0127 - val_loss: 0.0150\n",
      "Epoch 241/500\n",
      "10/10 [==============================] - 0s 25ms/step - loss: 0.0127 - val_loss: 0.0150\n",
      "Epoch 242/500\n",
      "10/10 [==============================] - 0s 25ms/step - loss: 0.0127 - val_loss: 0.0150\n",
      "Epoch 243/500\n",
      "10/10 [==============================] - 0s 22ms/step - loss: 0.0127 - val_loss: 0.0149\n",
      "Epoch 244/500\n",
      "10/10 [==============================] - 0s 22ms/step - loss: 0.0127 - val_loss: 0.0149\n",
      "Epoch 245/500\n",
      "10/10 [==============================] - 0s 22ms/step - loss: 0.0127 - val_loss: 0.0149\n",
      "Epoch 246/500\n",
      "10/10 [==============================] - 0s 23ms/step - loss: 0.0127 - val_loss: 0.0149\n",
      "Epoch 247/500\n",
      "10/10 [==============================] - 0s 27ms/step - loss: 0.0126 - val_loss: 0.0149\n",
      "Epoch 248/500\n",
      "10/10 [==============================] - 0s 22ms/step - loss: 0.0126 - val_loss: 0.0149\n",
      "Epoch 249/500\n",
      "10/10 [==============================] - 0s 22ms/step - loss: 0.0126 - val_loss: 0.0149\n",
      "Epoch 250/500\n",
      "10/10 [==============================] - 0s 23ms/step - loss: 0.0126 - val_loss: 0.0149\n",
      "Epoch 251/500\n",
      "10/10 [==============================] - 0s 23ms/step - loss: 0.0126 - val_loss: 0.0148\n",
      "Epoch 252/500\n",
      "10/10 [==============================] - 0s 24ms/step - loss: 0.0126 - val_loss: 0.0149\n",
      "Epoch 253/500\n",
      "10/10 [==============================] - 0s 22ms/step - loss: 0.0126 - val_loss: 0.0149\n",
      "Epoch 254/500\n",
      "10/10 [==============================] - 0s 24ms/step - loss: 0.0126 - val_loss: 0.0149\n",
      "Epoch 255/500\n",
      "10/10 [==============================] - 0s 22ms/step - loss: 0.0126 - val_loss: 0.0148\n",
      "Epoch 256/500\n",
      "10/10 [==============================] - 0s 25ms/step - loss: 0.0126 - val_loss: 0.0148\n",
      "Epoch 257/500\n",
      "10/10 [==============================] - 0s 22ms/step - loss: 0.0125 - val_loss: 0.0148\n",
      "Epoch 258/500\n",
      "10/10 [==============================] - 0s 23ms/step - loss: 0.0126 - val_loss: 0.0148\n",
      "Epoch 259/500\n",
      "10/10 [==============================] - 0s 22ms/step - loss: 0.0125 - val_loss: 0.0148\n",
      "Epoch 260/500\n",
      "10/10 [==============================] - 0s 23ms/step - loss: 0.0125 - val_loss: 0.0148\n",
      "Epoch 261/500\n",
      "10/10 [==============================] - 0s 21ms/step - loss: 0.0125 - val_loss: 0.0149\n",
      "Epoch 262/500\n",
      "10/10 [==============================] - 0s 22ms/step - loss: 0.0125 - val_loss: 0.0148\n",
      "Epoch 263/500\n",
      "10/10 [==============================] - 0s 22ms/step - loss: 0.0125 - val_loss: 0.0148\n",
      "Epoch 264/500\n",
      "10/10 [==============================] - 0s 22ms/step - loss: 0.0125 - val_loss: 0.0148\n",
      "Epoch 265/500\n",
      "10/10 [==============================] - 0s 24ms/step - loss: 0.0125 - val_loss: 0.0148\n",
      "Epoch 266/500\n",
      "10/10 [==============================] - 0s 22ms/step - loss: 0.0125 - val_loss: 0.0148\n",
      "Epoch 267/500\n",
      "10/10 [==============================] - 0s 22ms/step - loss: 0.0125 - val_loss: 0.0148\n",
      "Epoch 268/500\n",
      "10/10 [==============================] - 0s 24ms/step - loss: 0.0124 - val_loss: 0.0148\n",
      "Epoch 269/500\n",
      "10/10 [==============================] - 0s 21ms/step - loss: 0.0125 - val_loss: 0.0148\n",
      "Epoch 270/500\n",
      "10/10 [==============================] - 0s 22ms/step - loss: 0.0125 - val_loss: 0.0148\n",
      "Epoch 271/500\n",
      "10/10 [==============================] - 0s 22ms/step - loss: 0.0125 - val_loss: 0.0148\n",
      "Epoch 272/500\n",
      "10/10 [==============================] - 0s 23ms/step - loss: 0.0124 - val_loss: 0.0147\n",
      "Epoch 273/500\n",
      "10/10 [==============================] - 0s 21ms/step - loss: 0.0124 - val_loss: 0.0147\n",
      "Epoch 274/500\n",
      "10/10 [==============================] - 0s 22ms/step - loss: 0.0124 - val_loss: 0.0147\n",
      "Epoch 275/500\n",
      "10/10 [==============================] - 0s 21ms/step - loss: 0.0124 - val_loss: 0.0147\n",
      "Epoch 276/500\n",
      "10/10 [==============================] - 0s 22ms/step - loss: 0.0124 - val_loss: 0.0147\n",
      "Epoch 277/500\n",
      "10/10 [==============================] - 0s 23ms/step - loss: 0.0124 - val_loss: 0.0147\n",
      "Epoch 278/500\n",
      "10/10 [==============================] - 0s 23ms/step - loss: 0.0124 - val_loss: 0.0147\n",
      "Epoch 279/500\n",
      "10/10 [==============================] - 0s 23ms/step - loss: 0.0123 - val_loss: 0.0147\n",
      "Epoch 280/500\n",
      "10/10 [==============================] - 0s 22ms/step - loss: 0.0123 - val_loss: 0.0146\n",
      "Epoch 281/500\n",
      "10/10 [==============================] - 0s 22ms/step - loss: 0.0123 - val_loss: 0.0147\n",
      "Epoch 282/500\n",
      "10/10 [==============================] - 0s 24ms/step - loss: 0.0123 - val_loss: 0.0147\n",
      "Epoch 283/500\n",
      "10/10 [==============================] - 0s 24ms/step - loss: 0.0123 - val_loss: 0.0147\n",
      "Epoch 284/500\n",
      "10/10 [==============================] - 0s 21ms/step - loss: 0.0123 - val_loss: 0.0146\n",
      "Epoch 285/500\n",
      "10/10 [==============================] - 0s 23ms/step - loss: 0.0123 - val_loss: 0.0146\n",
      "Epoch 286/500\n",
      "10/10 [==============================] - 0s 23ms/step - loss: 0.0123 - val_loss: 0.0146\n",
      "Epoch 287/500\n",
      "10/10 [==============================] - 0s 23ms/step - loss: 0.0123 - val_loss: 0.0147\n",
      "Epoch 288/500\n",
      "10/10 [==============================] - 0s 22ms/step - loss: 0.0123 - val_loss: 0.0146\n",
      "Epoch 289/500\n",
      "10/10 [==============================] - 0s 22ms/step - loss: 0.0123 - val_loss: 0.0147\n",
      "Epoch 290/500\n",
      "10/10 [==============================] - 0s 24ms/step - loss: 0.0123 - val_loss: 0.0147\n",
      "Epoch 291/500\n",
      "10/10 [==============================] - 0s 24ms/step - loss: 0.0123 - val_loss: 0.0146\n",
      "Epoch 292/500\n",
      "10/10 [==============================] - 0s 22ms/step - loss: 0.0123 - val_loss: 0.0147\n",
      "Epoch 293/500\n",
      "10/10 [==============================] - 0s 21ms/step - loss: 0.0123 - val_loss: 0.0146\n",
      "Epoch 294/500\n",
      "10/10 [==============================] - 0s 24ms/step - loss: 0.0123 - val_loss: 0.0147\n",
      "Epoch 295/500\n",
      "10/10 [==============================] - 0s 23ms/step - loss: 0.0123 - val_loss: 0.0146\n",
      "Epoch 296/500\n",
      "10/10 [==============================] - 0s 23ms/step - loss: 0.0123 - val_loss: 0.0147\n",
      "Epoch 297/500\n",
      "10/10 [==============================] - 0s 23ms/step - loss: 0.0123 - val_loss: 0.0146\n",
      "Epoch 298/500\n",
      "10/10 [==============================] - 0s 22ms/step - loss: 0.0122 - val_loss: 0.0146\n",
      "Epoch 299/500\n",
      "10/10 [==============================] - 0s 22ms/step - loss: 0.0122 - val_loss: 0.0146\n",
      "Epoch 300/500\n",
      "10/10 [==============================] - 0s 22ms/step - loss: 0.0122 - val_loss: 0.0146\n",
      "Epoch 301/500\n",
      "10/10 [==============================] - 0s 23ms/step - loss: 0.0122 - val_loss: 0.0146\n",
      "Epoch 302/500\n",
      "10/10 [==============================] - 0s 23ms/step - loss: 0.0122 - val_loss: 0.0146\n",
      "Epoch 303/500\n",
      "10/10 [==============================] - 0s 23ms/step - loss: 0.0122 - val_loss: 0.0146\n",
      "Epoch 304/500\n",
      "10/10 [==============================] - 0s 22ms/step - loss: 0.0122 - val_loss: 0.0146\n",
      "Epoch 305/500\n",
      "10/10 [==============================] - 0s 23ms/step - loss: 0.0123 - val_loss: 0.0146\n",
      "Epoch 306/500\n",
      "10/10 [==============================] - 0s 23ms/step - loss: 0.0122 - val_loss: 0.0147\n",
      "Epoch 307/500\n",
      "10/10 [==============================] - 0s 22ms/step - loss: 0.0122 - val_loss: 0.0146\n",
      "Epoch 308/500\n",
      "10/10 [==============================] - 0s 22ms/step - loss: 0.0122 - val_loss: 0.0146\n",
      "Epoch 309/500\n",
      "10/10 [==============================] - 0s 23ms/step - loss: 0.0122 - val_loss: 0.0146\n",
      "Epoch 310/500\n",
      "10/10 [==============================] - 0s 24ms/step - loss: 0.0121 - val_loss: 0.0145\n",
      "Epoch 311/500\n",
      "10/10 [==============================] - 0s 24ms/step - loss: 0.0121 - val_loss: 0.0145\n",
      "Epoch 312/500\n",
      "10/10 [==============================] - 0s 21ms/step - loss: 0.0121 - val_loss: 0.0145\n",
      "Epoch 313/500\n",
      "10/10 [==============================] - 0s 25ms/step - loss: 0.0121 - val_loss: 0.0145\n",
      "Epoch 314/500\n",
      "10/10 [==============================] - 0s 23ms/step - loss: 0.0121 - val_loss: 0.0145\n",
      "Epoch 315/500\n",
      "10/10 [==============================] - 0s 23ms/step - loss: 0.0121 - val_loss: 0.0145\n",
      "Epoch 316/500\n",
      "10/10 [==============================] - 0s 22ms/step - loss: 0.0121 - val_loss: 0.0145\n",
      "Epoch 317/500\n",
      "10/10 [==============================] - 0s 22ms/step - loss: 0.0121 - val_loss: 0.0145\n",
      "Epoch 318/500\n",
      "10/10 [==============================] - 0s 25ms/step - loss: 0.0121 - val_loss: 0.0145\n",
      "Epoch 319/500\n",
      "10/10 [==============================] - 0s 25ms/step - loss: 0.0121 - val_loss: 0.0145\n",
      "Epoch 320/500\n",
      "10/10 [==============================] - 0s 26ms/step - loss: 0.0121 - val_loss: 0.0145\n",
      "Epoch 321/500\n",
      "10/10 [==============================] - 0s 25ms/step - loss: 0.0121 - val_loss: 0.0145\n",
      "Epoch 322/500\n",
      "10/10 [==============================] - 0s 26ms/step - loss: 0.0121 - val_loss: 0.0144\n",
      "Epoch 323/500\n",
      "10/10 [==============================] - 0s 24ms/step - loss: 0.0121 - val_loss: 0.0144\n",
      "Epoch 324/500\n",
      "10/10 [==============================] - 0s 23ms/step - loss: 0.0121 - val_loss: 0.0145\n",
      "Epoch 325/500\n",
      "10/10 [==============================] - 0s 21ms/step - loss: 0.0121 - val_loss: 0.0145\n",
      "Epoch 326/500\n",
      "10/10 [==============================] - 0s 22ms/step - loss: 0.0120 - val_loss: 0.0145\n",
      "Epoch 327/500\n",
      "10/10 [==============================] - 0s 23ms/step - loss: 0.0121 - val_loss: 0.0145\n",
      "Epoch 328/500\n",
      "10/10 [==============================] - 0s 32ms/step - loss: 0.0120 - val_loss: 0.0145\n",
      "Epoch 329/500\n",
      "10/10 [==============================] - 0s 25ms/step - loss: 0.0120 - val_loss: 0.0145\n",
      "Epoch 330/500\n",
      "10/10 [==============================] - 0s 27ms/step - loss: 0.0120 - val_loss: 0.0144\n",
      "Epoch 331/500\n",
      "10/10 [==============================] - 0s 27ms/step - loss: 0.0120 - val_loss: 0.0144\n",
      "Epoch 332/500\n",
      "10/10 [==============================] - 0s 35ms/step - loss: 0.0120 - val_loss: 0.0144\n",
      "Epoch 333/500\n",
      "10/10 [==============================] - 0s 27ms/step - loss: 0.0120 - val_loss: 0.0144\n",
      "Epoch 334/500\n",
      "10/10 [==============================] - 0s 21ms/step - loss: 0.0120 - val_loss: 0.0144\n",
      "Epoch 335/500\n",
      "10/10 [==============================] - 0s 23ms/step - loss: 0.0120 - val_loss: 0.0145\n",
      "Epoch 336/500\n",
      "10/10 [==============================] - 0s 22ms/step - loss: 0.0120 - val_loss: 0.0145\n",
      "Epoch 337/500\n",
      "10/10 [==============================] - 0s 23ms/step - loss: 0.0120 - val_loss: 0.0144\n",
      "Epoch 338/500\n",
      "10/10 [==============================] - 0s 22ms/step - loss: 0.0120 - val_loss: 0.0144\n",
      "Epoch 339/500\n",
      "10/10 [==============================] - 0s 21ms/step - loss: 0.0120 - val_loss: 0.0144\n",
      "Epoch 340/500\n",
      "10/10 [==============================] - 0s 23ms/step - loss: 0.0120 - val_loss: 0.0144\n",
      "Epoch 341/500\n",
      "10/10 [==============================] - 0s 22ms/step - loss: 0.0120 - val_loss: 0.0144\n",
      "Epoch 342/500\n",
      "10/10 [==============================] - 0s 21ms/step - loss: 0.0120 - val_loss: 0.0144\n",
      "Epoch 343/500\n",
      "10/10 [==============================] - 0s 22ms/step - loss: 0.0120 - val_loss: 0.0144\n",
      "Epoch 344/500\n",
      "10/10 [==============================] - 0s 22ms/step - loss: 0.0120 - val_loss: 0.0145\n",
      "Epoch 345/500\n",
      "10/10 [==============================] - 0s 22ms/step - loss: 0.0120 - val_loss: 0.0144\n",
      "Epoch 346/500\n",
      "10/10 [==============================] - 0s 22ms/step - loss: 0.0120 - val_loss: 0.0144\n",
      "Epoch 347/500\n",
      "10/10 [==============================] - 0s 22ms/step - loss: 0.0120 - val_loss: 0.0144\n",
      "Epoch 348/500\n",
      "10/10 [==============================] - 0s 24ms/step - loss: 0.0120 - val_loss: 0.0144\n",
      "Epoch 349/500\n",
      "10/10 [==============================] - 0s 24ms/step - loss: 0.0120 - val_loss: 0.0144\n",
      "Epoch 350/500\n",
      "10/10 [==============================] - 0s 24ms/step - loss: 0.0120 - val_loss: 0.0144\n",
      "Epoch 351/500\n",
      "10/10 [==============================] - 0s 24ms/step - loss: 0.0120 - val_loss: 0.0144\n",
      "Epoch 352/500\n",
      "10/10 [==============================] - 0s 23ms/step - loss: 0.0119 - val_loss: 0.0144\n",
      "Epoch 353/500\n",
      "10/10 [==============================] - 0s 23ms/step - loss: 0.0120 - val_loss: 0.0144\n",
      "Epoch 354/500\n",
      "10/10 [==============================] - 0s 22ms/step - loss: 0.0120 - val_loss: 0.0144\n",
      "Epoch 355/500\n",
      "10/10 [==============================] - 0s 23ms/step - loss: 0.0119 - val_loss: 0.0144\n",
      "Epoch 356/500\n",
      "10/10 [==============================] - 0s 23ms/step - loss: 0.0119 - val_loss: 0.0144\n",
      "Epoch 357/500\n",
      "10/10 [==============================] - 0s 21ms/step - loss: 0.0119 - val_loss: 0.0144\n",
      "Epoch 358/500\n",
      "10/10 [==============================] - 0s 21ms/step - loss: 0.0119 - val_loss: 0.0144\n",
      "Epoch 359/500\n",
      "10/10 [==============================] - 0s 23ms/step - loss: 0.0119 - val_loss: 0.0144\n",
      "Epoch 360/500\n",
      "10/10 [==============================] - 0s 24ms/step - loss: 0.0119 - val_loss: 0.0144\n",
      "Epoch 361/500\n",
      "10/10 [==============================] - 0s 22ms/step - loss: 0.0119 - val_loss: 0.0144\n",
      "Epoch 362/500\n",
      "10/10 [==============================] - 0s 22ms/step - loss: 0.0119 - val_loss: 0.0143\n",
      "Epoch 363/500\n",
      "10/10 [==============================] - 0s 23ms/step - loss: 0.0119 - val_loss: 0.0144\n",
      "Epoch 364/500\n",
      "10/10 [==============================] - 0s 21ms/step - loss: 0.0119 - val_loss: 0.0144\n",
      "Epoch 365/500\n",
      "10/10 [==============================] - 0s 21ms/step - loss: 0.0119 - val_loss: 0.0144\n",
      "Epoch 366/500\n",
      "10/10 [==============================] - 0s 22ms/step - loss: 0.0119 - val_loss: 0.0143\n",
      "Epoch 367/500\n",
      "10/10 [==============================] - 0s 22ms/step - loss: 0.0119 - val_loss: 0.0143\n",
      "Epoch 368/500\n",
      "10/10 [==============================] - 0s 22ms/step - loss: 0.0119 - val_loss: 0.0144\n",
      "Epoch 369/500\n",
      "10/10 [==============================] - 0s 22ms/step - loss: 0.0119 - val_loss: 0.0144\n",
      "Epoch 370/500\n",
      "10/10 [==============================] - 0s 22ms/step - loss: 0.0119 - val_loss: 0.0144\n",
      "Epoch 371/500\n",
      "10/10 [==============================] - 0s 22ms/step - loss: 0.0119 - val_loss: 0.0143\n",
      "Epoch 372/500\n",
      "10/10 [==============================] - 0s 22ms/step - loss: 0.0119 - val_loss: 0.0144\n",
      "Epoch 373/500\n",
      "10/10 [==============================] - 0s 21ms/step - loss: 0.0119 - val_loss: 0.0144\n",
      "Epoch 374/500\n",
      "10/10 [==============================] - 0s 24ms/step - loss: 0.0119 - val_loss: 0.0143\n",
      "Epoch 375/500\n",
      "10/10 [==============================] - 0s 22ms/step - loss: 0.0119 - val_loss: 0.0144\n",
      "Epoch 376/500\n",
      "10/10 [==============================] - 0s 21ms/step - loss: 0.0118 - val_loss: 0.0144\n",
      "Epoch 377/500\n",
      "10/10 [==============================] - 0s 22ms/step - loss: 0.0118 - val_loss: 0.0143\n",
      "Epoch 378/500\n",
      "10/10 [==============================] - 0s 21ms/step - loss: 0.0119 - val_loss: 0.0143\n",
      "Epoch 379/500\n",
      "10/10 [==============================] - 0s 22ms/step - loss: 0.0118 - val_loss: 0.0143\n",
      "Epoch 380/500\n",
      "10/10 [==============================] - 0s 22ms/step - loss: 0.0118 - val_loss: 0.0143\n",
      "Epoch 381/500\n",
      "10/10 [==============================] - 0s 24ms/step - loss: 0.0118 - val_loss: 0.0143\n",
      "Epoch 382/500\n",
      "10/10 [==============================] - 0s 22ms/step - loss: 0.0118 - val_loss: 0.0143\n",
      "Epoch 383/500\n",
      "10/10 [==============================] - 0s 21ms/step - loss: 0.0118 - val_loss: 0.0143\n",
      "Epoch 384/500\n",
      "10/10 [==============================] - 0s 23ms/step - loss: 0.0118 - val_loss: 0.0143\n",
      "Epoch 385/500\n",
      "10/10 [==============================] - 0s 23ms/step - loss: 0.0118 - val_loss: 0.0143\n",
      "Epoch 386/500\n",
      "10/10 [==============================] - 0s 23ms/step - loss: 0.0118 - val_loss: 0.0143\n",
      "Epoch 387/500\n",
      "10/10 [==============================] - 0s 24ms/step - loss: 0.0118 - val_loss: 0.0143\n",
      "Epoch 388/500\n",
      "10/10 [==============================] - 0s 23ms/step - loss: 0.0118 - val_loss: 0.0143\n",
      "Epoch 389/500\n",
      "10/10 [==============================] - 0s 23ms/step - loss: 0.0118 - val_loss: 0.0143\n",
      "Epoch 390/500\n",
      "10/10 [==============================] - 0s 26ms/step - loss: 0.0118 - val_loss: 0.0143\n",
      "Epoch 391/500\n",
      "10/10 [==============================] - 0s 23ms/step - loss: 0.0118 - val_loss: 0.0143\n",
      "Epoch 392/500\n",
      "10/10 [==============================] - 0s 25ms/step - loss: 0.0118 - val_loss: 0.0143\n",
      "Epoch 393/500\n",
      "10/10 [==============================] - 0s 24ms/step - loss: 0.0118 - val_loss: 0.0143\n",
      "Epoch 394/500\n",
      "10/10 [==============================] - 0s 23ms/step - loss: 0.0118 - val_loss: 0.0143\n",
      "Epoch 395/500\n",
      "10/10 [==============================] - 0s 26ms/step - loss: 0.0118 - val_loss: 0.0143\n",
      "Epoch 396/500\n",
      "10/10 [==============================] - 0s 25ms/step - loss: 0.0118 - val_loss: 0.0143\n",
      "Epoch 397/500\n",
      "10/10 [==============================] - 0s 23ms/step - loss: 0.0118 - val_loss: 0.0144\n",
      "Epoch 398/500\n",
      "10/10 [==============================] - 0s 23ms/step - loss: 0.0118 - val_loss: 0.0144\n",
      "Epoch 399/500\n",
      "10/10 [==============================] - 0s 23ms/step - loss: 0.0118 - val_loss: 0.0143\n",
      "Epoch 400/500\n",
      "10/10 [==============================] - 0s 23ms/step - loss: 0.0118 - val_loss: 0.0143\n",
      "Epoch 401/500\n",
      "10/10 [==============================] - 0s 24ms/step - loss: 0.0118 - val_loss: 0.0143\n",
      "Epoch 402/500\n",
      "10/10 [==============================] - 0s 24ms/step - loss: 0.0117 - val_loss: 0.0143\n",
      "Epoch 403/500\n",
      "10/10 [==============================] - 0s 23ms/step - loss: 0.0117 - val_loss: 0.0143\n",
      "Epoch 404/500\n",
      "10/10 [==============================] - 0s 24ms/step - loss: 0.0118 - val_loss: 0.0143\n",
      "Epoch 405/500\n",
      "10/10 [==============================] - 0s 22ms/step - loss: 0.0118 - val_loss: 0.0143\n",
      "Epoch 406/500\n",
      "10/10 [==============================] - 0s 21ms/step - loss: 0.0117 - val_loss: 0.0143\n",
      "Epoch 407/500\n",
      "10/10 [==============================] - 0s 23ms/step - loss: 0.0117 - val_loss: 0.0143\n",
      "Epoch 408/500\n",
      "10/10 [==============================] - 0s 23ms/step - loss: 0.0118 - val_loss: 0.0143\n",
      "Epoch 409/500\n",
      "10/10 [==============================] - 0s 23ms/step - loss: 0.0118 - val_loss: 0.0142\n",
      "Epoch 410/500\n",
      "10/10 [==============================] - 0s 23ms/step - loss: 0.0118 - val_loss: 0.0144\n",
      "Epoch 411/500\n",
      "10/10 [==============================] - 0s 25ms/step - loss: 0.0117 - val_loss: 0.0143\n",
      "Epoch 412/500\n",
      "10/10 [==============================] - 0s 23ms/step - loss: 0.0117 - val_loss: 0.0143\n",
      "Epoch 413/500\n",
      "10/10 [==============================] - 0s 22ms/step - loss: 0.0117 - val_loss: 0.0143\n",
      "Epoch 414/500\n",
      "10/10 [==============================] - 0s 22ms/step - loss: 0.0117 - val_loss: 0.0144\n",
      "Epoch 415/500\n",
      "10/10 [==============================] - 0s 22ms/step - loss: 0.0117 - val_loss: 0.0144\n",
      "Epoch 416/500\n",
      "10/10 [==============================] - 0s 22ms/step - loss: 0.0117 - val_loss: 0.0143\n",
      "Epoch 417/500\n",
      "10/10 [==============================] - 0s 23ms/step - loss: 0.0118 - val_loss: 0.0143\n",
      "Epoch 418/500\n",
      "10/10 [==============================] - 0s 25ms/step - loss: 0.0117 - val_loss: 0.0143\n",
      "Epoch 419/500\n",
      "10/10 [==============================] - 0s 23ms/step - loss: 0.0117 - val_loss: 0.0142\n",
      "Epoch 420/500\n",
      "10/10 [==============================] - 0s 24ms/step - loss: 0.0117 - val_loss: 0.0142\n",
      "Epoch 421/500\n",
      "10/10 [==============================] - 0s 24ms/step - loss: 0.0117 - val_loss: 0.0142\n",
      "Epoch 422/500\n",
      "10/10 [==============================] - 0s 23ms/step - loss: 0.0117 - val_loss: 0.0143\n",
      "Epoch 423/500\n",
      "10/10 [==============================] - 0s 22ms/step - loss: 0.0117 - val_loss: 0.0143\n",
      "Epoch 424/500\n",
      "10/10 [==============================] - 0s 22ms/step - loss: 0.0117 - val_loss: 0.0143\n",
      "Epoch 425/500\n",
      "10/10 [==============================] - 0s 21ms/step - loss: 0.0117 - val_loss: 0.0143\n",
      "Epoch 426/500\n",
      "10/10 [==============================] - 0s 23ms/step - loss: 0.0117 - val_loss: 0.0143\n",
      "Epoch 427/500\n",
      "10/10 [==============================] - 0s 26ms/step - loss: 0.0117 - val_loss: 0.0143\n",
      "Epoch 428/500\n",
      "10/10 [==============================] - 0s 21ms/step - loss: 0.0117 - val_loss: 0.0143\n",
      "Epoch 429/500\n",
      "10/10 [==============================] - 0s 21ms/step - loss: 0.0117 - val_loss: 0.0142\n",
      "Epoch 430/500\n",
      "10/10 [==============================] - 0s 22ms/step - loss: 0.0117 - val_loss: 0.0142\n",
      "Epoch 431/500\n",
      "10/10 [==============================] - 0s 24ms/step - loss: 0.0117 - val_loss: 0.0142\n",
      "Epoch 432/500\n",
      "10/10 [==============================] - 0s 24ms/step - loss: 0.0117 - val_loss: 0.0143\n",
      "Epoch 433/500\n",
      "10/10 [==============================] - 0s 23ms/step - loss: 0.0117 - val_loss: 0.0142\n",
      "Epoch 434/500\n",
      "10/10 [==============================] - 0s 22ms/step - loss: 0.0117 - val_loss: 0.0142\n",
      "Epoch 435/500\n",
      "10/10 [==============================] - 0s 23ms/step - loss: 0.0116 - val_loss: 0.0142\n",
      "Epoch 436/500\n",
      "10/10 [==============================] - 0s 22ms/step - loss: 0.0116 - val_loss: 0.0143\n",
      "Epoch 437/500\n",
      "10/10 [==============================] - 0s 21ms/step - loss: 0.0116 - val_loss: 0.0143\n",
      "Epoch 438/500\n",
      "10/10 [==============================] - 0s 23ms/step - loss: 0.0117 - val_loss: 0.0142\n",
      "Epoch 439/500\n",
      "10/10 [==============================] - 0s 22ms/step - loss: 0.0117 - val_loss: 0.0142\n",
      "Epoch 440/500\n",
      "10/10 [==============================] - 0s 24ms/step - loss: 0.0117 - val_loss: 0.0143\n",
      "Epoch 441/500\n",
      "10/10 [==============================] - 0s 24ms/step - loss: 0.0116 - val_loss: 0.0142\n",
      "Epoch 442/500\n",
      "10/10 [==============================] - 0s 23ms/step - loss: 0.0117 - val_loss: 0.0143\n",
      "Epoch 443/500\n",
      "10/10 [==============================] - 0s 23ms/step - loss: 0.0117 - val_loss: 0.0143\n",
      "Epoch 444/500\n",
      "10/10 [==============================] - 0s 23ms/step - loss: 0.0116 - val_loss: 0.0142\n",
      "Epoch 445/500\n",
      "10/10 [==============================] - 0s 21ms/step - loss: 0.0117 - val_loss: 0.0143\n",
      "Epoch 446/500\n",
      "10/10 [==============================] - 0s 22ms/step - loss: 0.0117 - val_loss: 0.0143\n",
      "Epoch 447/500\n",
      "10/10 [==============================] - 0s 22ms/step - loss: 0.0117 - val_loss: 0.0142\n",
      "Epoch 448/500\n",
      "10/10 [==============================] - 0s 22ms/step - loss: 0.0117 - val_loss: 0.0142\n",
      "Epoch 449/500\n",
      "10/10 [==============================] - 0s 21ms/step - loss: 0.0117 - val_loss: 0.0142\n",
      "Epoch 450/500\n",
      "10/10 [==============================] - 0s 22ms/step - loss: 0.0116 - val_loss: 0.0142\n",
      "Epoch 451/500\n",
      "10/10 [==============================] - 0s 21ms/step - loss: 0.0116 - val_loss: 0.0142\n",
      "Epoch 452/500\n",
      "10/10 [==============================] - 0s 21ms/step - loss: 0.0116 - val_loss: 0.0142\n",
      "Epoch 453/500\n",
      "10/10 [==============================] - 0s 22ms/step - loss: 0.0116 - val_loss: 0.0142\n",
      "Epoch 454/500\n",
      "10/10 [==============================] - 0s 21ms/step - loss: 0.0116 - val_loss: 0.0142\n",
      "Epoch 455/500\n",
      "10/10 [==============================] - 0s 24ms/step - loss: 0.0116 - val_loss: 0.0142\n",
      "Epoch 456/500\n",
      "10/10 [==============================] - 0s 21ms/step - loss: 0.0116 - val_loss: 0.0142\n",
      "Epoch 457/500\n",
      "10/10 [==============================] - 0s 23ms/step - loss: 0.0116 - val_loss: 0.0142\n",
      "Epoch 458/500\n",
      "10/10 [==============================] - 0s 21ms/step - loss: 0.0116 - val_loss: 0.0142\n",
      "Epoch 459/500\n",
      "10/10 [==============================] - 0s 22ms/step - loss: 0.0116 - val_loss: 0.0142\n",
      "Epoch 460/500\n",
      "10/10 [==============================] - 0s 26ms/step - loss: 0.0116 - val_loss: 0.0142\n",
      "Epoch 461/500\n",
      "10/10 [==============================] - 0s 23ms/step - loss: 0.0116 - val_loss: 0.0142\n",
      "Epoch 462/500\n",
      "10/10 [==============================] - 0s 24ms/step - loss: 0.0116 - val_loss: 0.0142\n",
      "Epoch 463/500\n",
      "10/10 [==============================] - 0s 23ms/step - loss: 0.0116 - val_loss: 0.0142\n",
      "Epoch 464/500\n",
      "10/10 [==============================] - 0s 22ms/step - loss: 0.0116 - val_loss: 0.0143\n",
      "Epoch 465/500\n",
      "10/10 [==============================] - 0s 22ms/step - loss: 0.0116 - val_loss: 0.0143\n",
      "Epoch 466/500\n",
      "10/10 [==============================] - 0s 21ms/step - loss: 0.0116 - val_loss: 0.0143\n",
      "Epoch 467/500\n",
      "10/10 [==============================] - 0s 23ms/step - loss: 0.0116 - val_loss: 0.0142\n",
      "Epoch 468/500\n",
      "10/10 [==============================] - 0s 23ms/step - loss: 0.0116 - val_loss: 0.0142\n",
      "Epoch 469/500\n",
      "10/10 [==============================] - 0s 22ms/step - loss: 0.0116 - val_loss: 0.0142\n",
      "Epoch 470/500\n",
      "10/10 [==============================] - 0s 23ms/step - loss: 0.0116 - val_loss: 0.0142\n",
      "Epoch 471/500\n",
      "10/10 [==============================] - 0s 25ms/step - loss: 0.0116 - val_loss: 0.0142\n",
      "Epoch 472/500\n",
      "10/10 [==============================] - 0s 25ms/step - loss: 0.0116 - val_loss: 0.0142\n",
      "Epoch 473/500\n",
      "10/10 [==============================] - 0s 26ms/step - loss: 0.0116 - val_loss: 0.0142\n",
      "Epoch 474/500\n",
      "10/10 [==============================] - 0s 24ms/step - loss: 0.0116 - val_loss: 0.0142\n",
      "Epoch 475/500\n",
      "10/10 [==============================] - 0s 23ms/step - loss: 0.0116 - val_loss: 0.0142\n",
      "Epoch 476/500\n",
      "10/10 [==============================] - 0s 22ms/step - loss: 0.0116 - val_loss: 0.0142\n",
      "Epoch 477/500\n",
      "10/10 [==============================] - 0s 23ms/step - loss: 0.0116 - val_loss: 0.0142\n",
      "Epoch 478/500\n",
      "10/10 [==============================] - 0s 22ms/step - loss: 0.0115 - val_loss: 0.0142\n",
      "Epoch 479/500\n",
      "10/10 [==============================] - 0s 21ms/step - loss: 0.0115 - val_loss: 0.0142\n",
      "Epoch 480/500\n",
      "10/10 [==============================] - 0s 23ms/step - loss: 0.0115 - val_loss: 0.0142\n",
      "Epoch 481/500\n",
      "10/10 [==============================] - 0s 24ms/step - loss: 0.0116 - val_loss: 0.0142\n",
      "Epoch 482/500\n",
      "10/10 [==============================] - 0s 23ms/step - loss: 0.0115 - val_loss: 0.0141\n",
      "Epoch 483/500\n",
      "10/10 [==============================] - 0s 24ms/step - loss: 0.0115 - val_loss: 0.0142\n",
      "Epoch 484/500\n",
      "10/10 [==============================] - 0s 25ms/step - loss: 0.0115 - val_loss: 0.0142\n",
      "Epoch 485/500\n",
      "10/10 [==============================] - 0s 29ms/step - loss: 0.0115 - val_loss: 0.0142\n",
      "Epoch 486/500\n",
      "10/10 [==============================] - 0s 23ms/step - loss: 0.0115 - val_loss: 0.0142\n",
      "Epoch 487/500\n",
      "10/10 [==============================] - 0s 21ms/step - loss: 0.0115 - val_loss: 0.0142\n",
      "Epoch 488/500\n",
      "10/10 [==============================] - 0s 22ms/step - loss: 0.0115 - val_loss: 0.0141\n",
      "Epoch 489/500\n",
      "10/10 [==============================] - 0s 23ms/step - loss: 0.0115 - val_loss: 0.0141\n",
      "Epoch 490/500\n",
      "10/10 [==============================] - 0s 24ms/step - loss: 0.0115 - val_loss: 0.0142\n",
      "Epoch 491/500\n",
      "10/10 [==============================] - 0s 23ms/step - loss: 0.0116 - val_loss: 0.0142\n",
      "Epoch 492/500\n",
      "10/10 [==============================] - 0s 22ms/step - loss: 0.0115 - val_loss: 0.0142\n",
      "Epoch 493/500\n",
      "10/10 [==============================] - 0s 21ms/step - loss: 0.0115 - val_loss: 0.0142\n",
      "Epoch 494/500\n",
      "10/10 [==============================] - 0s 21ms/step - loss: 0.0115 - val_loss: 0.0141\n",
      "Epoch 495/500\n",
      "10/10 [==============================] - 0s 24ms/step - loss: 0.0115 - val_loss: 0.0142\n",
      "Epoch 496/500\n",
      "10/10 [==============================] - 0s 21ms/step - loss: 0.0115 - val_loss: 0.0142\n",
      "Epoch 497/500\n",
      "10/10 [==============================] - 0s 22ms/step - loss: 0.0115 - val_loss: 0.0143\n",
      "Epoch 498/500\n",
      "10/10 [==============================] - 0s 21ms/step - loss: 0.0115 - val_loss: 0.0141\n",
      "Epoch 499/500\n",
      "10/10 [==============================] - 0s 22ms/step - loss: 0.0115 - val_loss: 0.0142\n",
      "Epoch 500/500\n",
      "10/10 [==============================] - 0s 24ms/step - loss: 0.0115 - val_loss: 0.0141\n"
     ]
    },
    {
     "data": {
      "text/plain": [
       "<keras.callbacks.History at 0x18b9b6511c8>"
      ]
     },
     "execution_count": 53,
     "metadata": {},
     "output_type": "execute_result"
    }
   ],
   "source": [
    "autoencoder.fit(normalized_ds,\n",
    "                epochs=500,\n",
    "                batch_size=256,\n",
    "                validation_data=normalized_val_ds)"
   ]
  },
  {
   "cell_type": "code",
   "execution_count": 14,
   "metadata": {},
   "outputs": [
    {
     "name": "stdout",
     "output_type": "stream",
     "text": [
      "INFO:tensorflow:Assets written to: logs/models/autoencoder_1\\assets\n"
     ]
    }
   ],
   "source": [
    "autoencoder.save(\"logs/models/autoencoder_1\")"
   ]
  },
  {
   "cell_type": "code",
   "execution_count": 60,
   "metadata": {},
   "outputs": [
    {
     "name": "stdout",
     "output_type": "stream",
     "text": [
      "0.0\n",
      "1.471508\n",
      "0.0\n",
      "2.258195\n",
      "0.000615067\n",
      "0.0\n",
      "0.70865893\n",
      "0.46880463\n",
      "0.0\n",
      "0.0\n",
      "0.0011120277\n",
      "0.0015176319\n",
      "0.0\n",
      "1.2290741\n",
      "4.8977304\n",
      "0.0\n",
      "1.3453879\n",
      "0.0014529423\n",
      "3.324025\n",
      "0.0\n",
      "2.1114442\n",
      "0.00023799244\n",
      "2.1275024\n",
      "6.7125835\n",
      "0.50608027\n",
      "9.836759\n",
      "0.0\n",
      "7.9714155\n",
      "0.0\n",
      "1.7963243\n",
      "0.0\n",
      "4.594007\n"
     ]
    }
   ],
   "source": [
    "for ee in e:\n",
    "    print(ee)"
   ]
  },
  {
   "cell_type": "code",
   "execution_count": 21,
   "metadata": {},
   "outputs": [
    {
     "name": "stdout",
     "output_type": "stream",
     "text": [
      "WARNING:tensorflow:5 out of the last 5 calls to <function Model.make_predict_function.<locals>.predict_function at 0x0000013A166214C8> triggered tf.function retracing. Tracing is expensive and the excessive number of tracings could be due to (1) creating @tf.function repeatedly in a loop, (2) passing tensors with different shapes, (3) passing Python objects instead of tensors. For (1), please define your @tf.function outside of the loop. For (2), @tf.function has reduce_retracing=True option that can avoid unnecessary retracing. For (3), please refer to https://www.tensorflow.org/guide/function#controlling_retracing and https://www.tensorflow.org/api_docs/python/tf/function for  more details.\n",
      "1/1 [==============================] - 0s 47ms/step\n",
      "WARNING:tensorflow:6 out of the last 6 calls to <function Model.make_predict_function.<locals>.predict_function at 0x0000013A0820CEE8> triggered tf.function retracing. Tracing is expensive and the excessive number of tracings could be due to (1) creating @tf.function repeatedly in a loop, (2) passing tensors with different shapes, (3) passing Python objects instead of tensors. For (1), please define your @tf.function outside of the loop. For (2), @tf.function has reduce_retracing=True option that can avoid unnecessary retracing. For (3), please refer to https://www.tensorflow.org/guide/function#controlling_retracing and https://www.tensorflow.org/api_docs/python/tf/function for  more details.\n",
      "1/1 [==============================] - 0s 44ms/step\n"
     ]
    },
    {
     "data": {
      "image/png": "[encoded data removed]",
      "text/plain": [
       "<Figure size 432x288 with 1 Axes>"
      ]
     },
     "metadata": {
      "needs_background": "light"
     },
     "output_type": "display_data"
    },
    {
     "data": {
      "image/png": "[encoded data removed]",
      "text/plain": [
       "<Figure size 432x288 with 1 Axes>"
      ]
     },
     "metadata": {
      "needs_background": "light"
     },
     "output_type": "display_data"
    },
    {
     "data": {
      "image/png": "[encoded data removed]",
      "text/plain": [
       "<Figure size 432x288 with 1 Axes>"
      ]
     },
     "metadata": {
      "needs_background": "light"
     },
     "output_type": "display_data"
    },
    {
     "data": {
      "image/png": "[encoded data removed]",
      "text/plain": [
       "<Figure size 432x288 with 1 Axes>"
      ]
     },
     "metadata": {
      "needs_background": "light"
     },
     "output_type": "display_data"
    },
    {
     "data": {
      "image/png": "[encoded data removed]",
      "text/plain": [
       "<Figure size 432x288 with 1 Axes>"
      ]
     },
     "metadata": {
      "needs_background": "light"
     },
     "output_type": "display_data"
    },
    {
     "data": {
      "image/png": "[encoded data removed]",
      "text/plain": [
       "<Figure size 432x288 with 1 Axes>"
      ]
     },
     "metadata": {
      "needs_background": "light"
     },
     "output_type": "display_data"
    },
    {
     "data": {
      "image/png": "[encoded data removed]",
      "text/plain": [
       "<Figure size 432x288 with 1 Axes>"
      ]
     },
     "metadata": {
      "needs_background": "light"
     },
     "output_type": "display_data"
    },
    {
     "data": {
      "image/png": "[encoded data removed]",
      "text/plain": [
       "<Figure size 432x288 with 1 Axes>"
      ]
     },
     "metadata": {
      "needs_background": "light"
     },
     "output_type": "display_data"
    },
    {
     "data": {
      "image/png": "[encoded data removed]",
      "text/plain": [
       "<Figure size 432x288 with 1 Axes>"
      ]
     },
     "metadata": {
      "needs_background": "light"
     },
     "output_type": "display_data"
    },
    {
     "data": {
      "image/png": "[encoded data removed]",
      "text/plain": [
       "<Figure size 432x288 with 1 Axes>"
      ]
     },
     "metadata": {
      "needs_background": "light"
     },
     "output_type": "display_data"
    },
    {
     "data": {
      "image/png": "[encoded data removed]",
      "text/plain": [
       "<Figure size 432x288 with 1 Axes>"
      ]
     },
     "metadata": {
      "needs_background": "light"
     },
     "output_type": "display_data"
    },
    {
     "data": {
      "image/png": "[encoded data removed]",
      "text/plain": [
       "<Figure size 432x288 with 1 Axes>"
      ]
     },
     "metadata": {
      "needs_background": "light"
     },
     "output_type": "display_data"
    },
    {
     "data": {
      "image/png": "[encoded data removed]",
      "text/plain": [
       "<Figure size 432x288 with 1 Axes>"
      ]
     },
     "metadata": {
      "needs_background": "light"
     },
     "output_type": "display_data"
    },
    {
     "data": {
      "image/png": "[encoded data removed]",
      "text/plain": [
       "<Figure size 432x288 with 1 Axes>"
      ]
     },
     "metadata": {
      "needs_background": "light"
     },
     "output_type": "display_data"
    },
    {
     "data": {
      "image/png": "[encoded data removed]",
      "text/plain": [
       "<Figure size 432x288 with 1 Axes>"
      ]
     },
     "metadata": {
      "needs_background": "light"
     },
     "output_type": "display_data"
    },
    {
     "data": {
      "image/png": "[encoded data removed]",
      "text/plain": [
       "<Figure size 432x288 with 1 Axes>"
      ]
     },
     "metadata": {
      "needs_background": "light"
     },
     "output_type": "display_data"
    },
    {
     "data": {
      "image/png": "[encoded data removed]",
      "text/plain": [
       "<Figure size 432x288 with 1 Axes>"
      ]
     },
     "metadata": {
      "needs_background": "light"
     },
     "output_type": "display_data"
    },
    {
     "data": {
      "image/png": "[encoded data removed]",
      "text/plain": [
       "<Figure size 432x288 with 1 Axes>"
      ]
     },
     "metadata": {
      "needs_background": "light"
     },
     "output_type": "display_data"
    },
    {
     "data": {
      "image/png": "[encoded data removed]",
      "text/plain": [
       "<Figure size 432x288 with 1 Axes>"
      ]
     },
     "metadata": {
      "needs_background": "light"
     },
     "output_type": "display_data"
    },
    {
     "data": {
      "image/png": "[encoded data removed]",
      "text/plain": [
       "<Figure size 432x288 with 1 Axes>"
      ]
     },
     "metadata": {
      "needs_background": "light"
     },
     "output_type": "display_data"
    },
    {
     "data": {
      "image/png": "[encoded data removed]",
      "text/plain": [
       "<Figure size 432x288 with 1 Axes>"
      ]
     },
     "metadata": {
      "needs_background": "light"
     },
     "output_type": "display_data"
    },
    {
     "data": {
      "image/png": "[encoded data removed]",
      "text/plain": [
       "<Figure size 432x288 with 1 Axes>"
      ]
     },
     "metadata": {
      "needs_background": "light"
     },
     "output_type": "display_data"
    },
    {
     "data": {
      "image/png": "[encoded data removed]",
      "text/plain": [
       "<Figure size 432x288 with 1 Axes>"
      ]
     },
     "metadata": {
      "needs_background": "light"
     },
     "output_type": "display_data"
    },
    {
     "data": {
      "image/png": "[encoded data removed]",
      "text/plain": [
       "<Figure size 432x288 with 1 Axes>"
      ]
     },
     "metadata": {
      "needs_background": "light"
     },
     "output_type": "display_data"
    },
    {
     "data": {
      "image/png": "[encoded data removed]",
      "text/plain": [
       "<Figure size 432x288 with 1 Axes>"
      ]
     },
     "metadata": {
      "needs_background": "light"
     },
     "output_type": "display_data"
    },
    {
     "data": {
      "image/png": "[encoded data removed]",
      "text/plain": [
       "<Figure size 432x288 with 1 Axes>"
      ]
     },
     "metadata": {
      "needs_background": "light"
     },
     "output_type": "display_data"
    },
    {
     "data": {
      "image/png": "[encoded data removed]",
      "text/plain": [
       "<Figure size 432x288 with 1 Axes>"
      ]
     },
     "metadata": {
      "needs_background": "light"
     },
     "output_type": "display_data"
    },
    {
     "data": {
      "image/png": "[encoded data removed]",
      "text/plain": [
       "<Figure size 432x288 with 1 Axes>"
      ]
     },
     "metadata": {
      "needs_background": "light"
     },
     "output_type": "display_data"
    },
    {
     "data": {
      "image/png": "[encoded data removed]",
      "text/plain": [
       "<Figure size 432x288 with 1 Axes>"
      ]
     },
     "metadata": {
      "needs_background": "light"
     },
     "output_type": "display_data"
    },
    {
     "data": {
      "image/png": "[encoded data removed]",
      "text/plain": [
       "<Figure size 432x288 with 1 Axes>"
      ]
     },
     "metadata": {
      "needs_background": "light"
     },
     "output_type": "display_data"
    },
    {
     "data": {
      "image/png": "[encoded data removed]",
      "text/plain": [
       "<Figure size 432x288 with 1 Axes>"
      ]
     },
     "metadata": {
      "needs_background": "light"
     },
     "output_type": "display_data"
    },
    {
     "data": {
      "image/png": "[encoded data removed]",
      "text/plain": [
       "<Figure size 432x288 with 1 Axes>"
      ]
     },
     "metadata": {
      "needs_background": "light"
     },
     "output_type": "display_data"
    }
   ],
   "source": [
    "# Crop - 2\n",
    "from IPython.display import display, clear_output\n",
    "for image in normalized_val_ds.take(1):\n",
    "    x_test,_ = image\n",
    "    encoded_img = encoder.predict(x_test)\n",
    "    decoded_img = decoder.predict(encoded_img)\n",
    "    for x, e, d in zip(x_test, encoded_img, decoded_img):\n",
    "        #print(x.shape)\n",
    "        x = np.reshape(x,(23,36,1))\n",
    "        #plt.imshow(x)\n",
    "        #print(x.shape)\n",
    "        #print(d.shape)\n",
    "        d = np.reshape(d,(23,36,1))\n",
    "        #print(d.shape)\n",
    "        #plt.imshow(d)\n",
    "        plt.imshow(np.hstack((x,d)))\n",
    "        plt.pause(1)\n",
    "plt.show()"
   ]
  },
  {
   "cell_type": "code",
   "execution_count": 11,
   "metadata": {},
   "outputs": [
    {
     "name": "stdout",
     "output_type": "stream",
     "text": [
      "1/1 [==============================] - 0s 62ms/step\n",
      "1/1 [==============================] - 0s 42ms/step\n"
     ]
    },
    {
     "data": {
      "image/png": "[encoded data removed]",
      "text/plain": [
       "<Figure size 432x288 with 1 Axes>"
      ]
     },
     "metadata": {
      "needs_background": "light"
     },
     "output_type": "display_data"
    },
    {
     "data": {
      "image/png": "[encoded data removed]",
      "text/plain": [
       "<Figure size 432x288 with 1 Axes>"
      ]
     },
     "metadata": {
      "needs_background": "light"
     },
     "output_type": "display_data"
    },
    {
     "data": {
      "image/png": "[encoded data removed]",
      "text/plain": [
       "<Figure size 432x288 with 1 Axes>"
      ]
     },
     "metadata": {
      "needs_background": "light"
     },
     "output_type": "display_data"
    },
    {
     "data": {
      "image/png": "[encoded data removed]",
      "text/plain": [
       "<Figure size 432x288 with 1 Axes>"
      ]
     },
     "metadata": {
      "needs_background": "light"
     },
     "output_type": "display_data"
    },
    {
     "data": {
      "image/png": "[encoded data removed]",
      "text/plain": [
       "<Figure size 432x288 with 1 Axes>"
      ]
     },
     "metadata": {
      "needs_background": "light"
     },
     "output_type": "display_data"
    },
    {
     "data": {
      "image/png": "[encoded data removed]",
      "text/plain": [
       "<Figure size 432x288 with 1 Axes>"
      ]
     },
     "metadata": {
      "needs_background": "light"
     },
     "output_type": "display_data"
    },
    {
     "data": {
      "image/png": "[encoded data removed]",
      "text/plain": [
       "<Figure size 432x288 with 1 Axes>"
      ]
     },
     "metadata": {
      "needs_background": "light"
     },
     "output_type": "display_data"
    },
    {
     "data": {
      "image/png": "[encoded data removed]",
      "text/plain": [
       "<Figure size 432x288 with 1 Axes>"
      ]
     },
     "metadata": {
      "needs_background": "light"
     },
     "output_type": "display_data"
    },
    {
     "data": {
      "image/png": "[encoded data removed]",
      "text/plain": [
       "<Figure size 432x288 with 1 Axes>"
      ]
     },
     "metadata": {
      "needs_background": "light"
     },
     "output_type": "display_data"
    },
    {
     "data": {
      "image/png": "[encoded data removed]",
      "text/plain": [
       "<Figure size 432x288 with 1 Axes>"
      ]
     },
     "metadata": {
      "needs_background": "light"
     },
     "output_type": "display_data"
    },
    {
     "data": {
      "image/png": "[encoded data removed]",
      "text/plain": [
       "<Figure size 432x288 with 1 Axes>"
      ]
     },
     "metadata": {
      "needs_background": "light"
     },
     "output_type": "display_data"
    },
    {
     "data": {
      "image/png": "[encoded data removed]",
      "text/plain": [
       "<Figure size 432x288 with 1 Axes>"
      ]
     },
     "metadata": {
      "needs_background": "light"
     },
     "output_type": "display_data"
    },
    {
     "data": {
      "image/png": "[encoded data removed]",
      "text/plain": [
       "<Figure size 432x288 with 1 Axes>"
      ]
     },
     "metadata": {
      "needs_background": "light"
     },
     "output_type": "display_data"
    },
    {
     "data": {
      "image/png": "[encoded data removed]",
      "text/plain": [
       "<Figure size 432x288 with 1 Axes>"
      ]
     },
     "metadata": {
      "needs_background": "light"
     },
     "output_type": "display_data"
    },
    {
     "data": {
      "image/png": "[encoded data removed]",
      "text/plain": [
       "<Figure size 432x288 with 1 Axes>"
      ]
     },
     "metadata": {
      "needs_background": "light"
     },
     "output_type": "display_data"
    },
    {
     "data": {
      "image/png": "[encoded data removed]",
      "text/plain": [
       "<Figure size 432x288 with 1 Axes>"
      ]
     },
     "metadata": {
      "needs_background": "light"
     },
     "output_type": "display_data"
    },
    {
     "data": {
      "image/png": "[encoded data removed]",
      "text/plain": [
       "<Figure size 432x288 with 1 Axes>"
      ]
     },
     "metadata": {
      "needs_background": "light"
     },
     "output_type": "display_data"
    },
    {
     "data": {
      "image/png": "[encoded data removed]",
      "text/plain": [
       "<Figure size 432x288 with 1 Axes>"
      ]
     },
     "metadata": {
      "needs_background": "light"
     },
     "output_type": "display_data"
    },
    {
     "data": {
      "image/png": "[encoded data removed]",
      "text/plain": [
       "<Figure size 432x288 with 1 Axes>"
      ]
     },
     "metadata": {
      "needs_background": "light"
     },
     "output_type": "display_data"
    },
    {
     "data": {
      "image/png": "[encoded data removed]",
      "text/plain": [
       "<Figure size 432x288 with 1 Axes>"
      ]
     },
     "metadata": {
      "needs_background": "light"
     },
     "output_type": "display_data"
    },
    {
     "data": {
      "image/png": "[encoded data removed]",
      "text/plain": [
       "<Figure size 432x288 with 1 Axes>"
      ]
     },
     "metadata": {
      "needs_background": "light"
     },
     "output_type": "display_data"
    },
    {
     "data": {
      "image/png": "[encoded data removed]",
      "text/plain": [
       "<Figure size 432x288 with 1 Axes>"
      ]
     },
     "metadata": {
      "needs_background": "light"
     },
     "output_type": "display_data"
    },
    {
     "data": {
      "image/png": "[encoded data removed]",
      "text/plain": [
       "<Figure size 432x288 with 1 Axes>"
      ]
     },
     "metadata": {
      "needs_background": "light"
     },
     "output_type": "display_data"
    },
    {
     "data": {
      "image/png": "[encoded data removed]",
      "text/plain": [
       "<Figure size 432x288 with 1 Axes>"
      ]
     },
     "metadata": {
      "needs_background": "light"
     },
     "output_type": "display_data"
    },
    {
     "data": {
      "image/png": "[encoded data removed]",
      "text/plain": [
       "<Figure size 432x288 with 1 Axes>"
      ]
     },
     "metadata": {
      "needs_background": "light"
     },
     "output_type": "display_data"
    },
    {
     "data": {
      "image/png": "[encoded data removed]",
      "text/plain": [
       "<Figure size 432x288 with 1 Axes>"
      ]
     },
     "metadata": {
      "needs_background": "light"
     },
     "output_type": "display_data"
    },
    {
     "data": {
      "image/png": "[encoded data removed]",
      "text/plain": [
       "<Figure size 432x288 with 1 Axes>"
      ]
     },
     "metadata": {
      "needs_background": "light"
     },
     "output_type": "display_data"
    },
    {
     "data": {
      "image/png": "[encoded data removed]",
      "text/plain": [
       "<Figure size 432x288 with 1 Axes>"
      ]
     },
     "metadata": {
      "needs_background": "light"
     },
     "output_type": "display_data"
    },
    {
     "data": {
      "image/png": "[encoded data removed]",
      "text/plain": [
       "<Figure size 432x288 with 1 Axes>"
      ]
     },
     "metadata": {
      "needs_background": "light"
     },
     "output_type": "display_data"
    },
    {
     "data": {
      "image/png": "[encoded data removed]",
      "text/plain": [
       "<Figure size 432x288 with 1 Axes>"
      ]
     },
     "metadata": {
      "needs_background": "light"
     },
     "output_type": "display_data"
    },
    {
     "data": {
      "image/png": "[encoded data removed]",
      "text/plain": [
       "<Figure size 432x288 with 1 Axes>"
      ]
     },
     "metadata": {
      "needs_background": "light"
     },
     "output_type": "display_data"
    },
    {
     "data": {
      "image/png": "[encoded data removed]",
      "text/plain": [
       "<Figure size 432x288 with 1 Axes>"
      ]
     },
     "metadata": {
      "needs_background": "light"
     },
     "output_type": "display_data"
    }
   ],
   "source": [
    "# Crop - 1\n",
    "from IPython.display import display, clear_output\n",
    "for image in normalized_val_ds.take(1):\n",
    "    x_test,_ = image\n",
    "    encoded_img = encoder.predict(x_test)\n",
    "    decoded_img = decoder.predict(encoded_img)\n",
    "    for x, e, d in zip(x_test, encoded_img, decoded_img):\n",
    "        #print(x.shape)\n",
    "        x = np.reshape(x,(25,36,1))\n",
    "        #plt.imshow(x)\n",
    "        #print(x.shape)\n",
    "        #print(d.shape)\n",
    "        d = np.reshape(d,(25,36,1))\n",
    "        #print(d.shape)\n",
    "        #plt.imshow(d)\n",
    "        plt.imshow(np.hstack((x,d)))\n",
    "        plt.pause(1)\n",
    "plt.show()"
   ]
  },
  {
   "cell_type": "code",
   "execution_count": 54,
   "metadata": {},
   "outputs": [
    {
     "name": "stdout",
     "output_type": "stream",
     "text": [
      "WARNING:tensorflow:5 out of the last 5 calls to <function Model.make_predict_function.<locals>.predict_function at 0x0000018BA378EF78> triggered tf.function retracing. Tracing is expensive and the excessive number of tracings could be due to (1) creating @tf.function repeatedly in a loop, (2) passing tensors with different shapes, (3) passing Python objects instead of tensors. For (1), please define your @tf.function outside of the loop. For (2), @tf.function has reduce_retracing=True option that can avoid unnecessary retracing. For (3), please refer to https://www.tensorflow.org/guide/function#controlling_retracing and https://www.tensorflow.org/api_docs/python/tf/function for  more details.\n",
      "1/1 [==============================] - 0s 53ms/step\n",
      "WARNING:tensorflow:6 out of the last 6 calls to <function Model.make_predict_function.<locals>.predict_function at 0x0000018BA47DCE58> triggered tf.function retracing. Tracing is expensive and the excessive number of tracings could be due to (1) creating @tf.function repeatedly in a loop, (2) passing tensors with different shapes, (3) passing Python objects instead of tensors. For (1), please define your @tf.function outside of the loop. For (2), @tf.function has reduce_retracing=True option that can avoid unnecessary retracing. For (3), please refer to https://www.tensorflow.org/guide/function#controlling_retracing and https://www.tensorflow.org/api_docs/python/tf/function for  more details.\n",
      "1/1 [==============================] - 0s 57ms/step\n"
     ]
    },
    {
     "data": {
      "image/png": "[encoded data removed]",
      "text/plain": [
       "<Figure size 432x288 with 1 Axes>"
      ]
     },
     "metadata": {
      "needs_background": "light"
     },
     "output_type": "display_data"
    },
    {
     "data": {
      "image/png": "[encoded data removed]",
      "text/plain": [
       "<Figure size 432x288 with 1 Axes>"
      ]
     },
     "metadata": {
      "needs_background": "light"
     },
     "output_type": "display_data"
    },
    {
     "data": {
      "image/png": "[encoded data removed]",
      "text/plain": [
       "<Figure size 432x288 with 1 Axes>"
      ]
     },
     "metadata": {
      "needs_background": "light"
     },
     "output_type": "display_data"
    },
    {
     "data": {
      "image/png": "[encoded data removed]",
      "text/plain": [
       "<Figure size 432x288 with 1 Axes>"
      ]
     },
     "metadata": {
      "needs_background": "light"
     },
     "output_type": "display_data"
    },
    {
     "data": {
      "image/png": "[encoded data removed]",
      "text/plain": [
       "<Figure size 432x288 with 1 Axes>"
      ]
     },
     "metadata": {
      "needs_background": "light"
     },
     "output_type": "display_data"
    },
    {
     "data": {
      "image/png": "[encoded data removed]",
      "text/plain": [
       "<Figure size 432x288 with 1 Axes>"
      ]
     },
     "metadata": {
      "needs_background": "light"
     },
     "output_type": "display_data"
    },
    {
     "data": {
      "image/png": "[encoded data removed]",
      "text/plain": [
       "<Figure size 432x288 with 1 Axes>"
      ]
     },
     "metadata": {
      "needs_background": "light"
     },
     "output_type": "display_data"
    },
    {
     "data": {
      "image/png": "[encoded data removed]",
      "text/plain": [
       "<Figure size 432x288 with 1 Axes>"
      ]
     },
     "metadata": {
      "needs_background": "light"
     },
     "output_type": "display_data"
    },
    {
     "data": {
      "image/png": "[encoded data removed]",
      "text/plain": [
       "<Figure size 432x288 with 1 Axes>"
      ]
     },
     "metadata": {
      "needs_background": "light"
     },
     "output_type": "display_data"
    },
    {
     "data": {
      "image/png": "[encoded data removed]",
      "text/plain": [
       "<Figure size 432x288 with 1 Axes>"
      ]
     },
     "metadata": {
      "needs_background": "light"
     },
     "output_type": "display_data"
    },
    {
     "data": {
      "image/png": "[encoded data removed]",
      "text/plain": [
       "<Figure size 432x288 with 1 Axes>"
      ]
     },
     "metadata": {
      "needs_background": "light"
     },
     "output_type": "display_data"
    },
    {
     "data": {
      "image/png": "[encoded data removed]",
      "text/plain": [
       "<Figure size 432x288 with 1 Axes>"
      ]
     },
     "metadata": {
      "needs_background": "light"
     },
     "output_type": "display_data"
    },
    {
     "data": {
      "image/png": "[encoded data removed]",
      "text/plain": [
       "<Figure size 432x288 with 1 Axes>"
      ]
     },
     "metadata": {
      "needs_background": "light"
     },
     "output_type": "display_data"
    },
    {
     "data": {
      "image/png": "[encoded data removed]",
      "text/plain": [
       "<Figure size 432x288 with 1 Axes>"
      ]
     },
     "metadata": {
      "needs_background": "light"
     },
     "output_type": "display_data"
    },
    {
     "data": {
      "image/png": "[encoded data removed]",
      "text/plain": [
       "<Figure size 432x288 with 1 Axes>"
      ]
     },
     "metadata": {
      "needs_background": "light"
     },
     "output_type": "display_data"
    },
    {
     "data": {
      "image/png": "[encoded data removed]",
      "text/plain": [
       "<Figure size 432x288 with 1 Axes>"
      ]
     },
     "metadata": {
      "needs_background": "light"
     },
     "output_type": "display_data"
    },
    {
     "data": {
      "image/png": "[encoded data removed]",
      "text/plain": [
       "<Figure size 432x288 with 1 Axes>"
      ]
     },
     "metadata": {
      "needs_background": "light"
     },
     "output_type": "display_data"
    },
    {
     "data": {
      "image/png": "[encoded data removed]",
      "text/plain": [
       "<Figure size 432x288 with 1 Axes>"
      ]
     },
     "metadata": {
      "needs_background": "light"
     },
     "output_type": "display_data"
    },
    {
     "data": {
      "image/png": "[encoded data removed]",
      "text/plain": [
       "<Figure size 432x288 with 1 Axes>"
      ]
     },
     "metadata": {
      "needs_background": "light"
     },
     "output_type": "display_data"
    },
    {
     "data": {
      "image/png": "[encoded data removed]",
      "text/plain": [
       "<Figure size 432x288 with 1 Axes>"
      ]
     },
     "metadata": {
      "needs_background": "light"
     },
     "output_type": "display_data"
    },
    {
     "data": {
      "image/png": "[encoded data removed]",
      "text/plain": [
       "<Figure size 432x288 with 1 Axes>"
      ]
     },
     "metadata": {
      "needs_background": "light"
     },
     "output_type": "display_data"
    },
    {
     "data": {
      "image/png": "[encoded data removed]",
      "text/plain": [
       "<Figure size 432x288 with 1 Axes>"
      ]
     },
     "metadata": {
      "needs_background": "light"
     },
     "output_type": "display_data"
    },
    {
     "data": {
      "image/png": "[encoded data removed]",
      "text/plain": [
       "<Figure size 432x288 with 1 Axes>"
      ]
     },
     "metadata": {
      "needs_background": "light"
     },
     "output_type": "display_data"
    },
    {
     "data": {
      "image/png": "[encoded data removed]",
      "text/plain": [
       "<Figure size 432x288 with 1 Axes>"
      ]
     },
     "metadata": {
      "needs_background": "light"
     },
     "output_type": "display_data"
    },
    {
     "data": {
      "image/png": "[encoded data removed]",
      "text/plain": [
       "<Figure size 432x288 with 1 Axes>"
      ]
     },
     "metadata": {
      "needs_background": "light"
     },
     "output_type": "display_data"
    },
    {
     "data": {
      "image/png": "[encoded data removed]",
      "text/plain": [
       "<Figure size 432x288 with 1 Axes>"
      ]
     },
     "metadata": {
      "needs_background": "light"
     },
     "output_type": "display_data"
    },
    {
     "data": {
      "image/png": "[encoded data removed]",
      "text/plain": [
       "<Figure size 432x288 with 1 Axes>"
      ]
     },
     "metadata": {
      "needs_background": "light"
     },
     "output_type": "display_data"
    },
    {
     "data": {
      "image/png": "[encoded data removed]",
      "text/plain": [
       "<Figure size 432x288 with 1 Axes>"
      ]
     },
     "metadata": {
      "needs_background": "light"
     },
     "output_type": "display_data"
    },
    {
     "data": {
      "image/png": "[encoded data removed]",
      "text/plain": [
       "<Figure size 432x288 with 1 Axes>"
      ]
     },
     "metadata": {
      "needs_background": "light"
     },
     "output_type": "display_data"
    },
    {
     "data": {
      "image/png": "[encoded data removed]",
      "text/plain": [
       "<Figure size 432x288 with 1 Axes>"
      ]
     },
     "metadata": {
      "needs_background": "light"
     },
     "output_type": "display_data"
    },
    {
     "data": {
      "image/png": "[encoded data removed]",
      "text/plain": [
       "<Figure size 432x288 with 1 Axes>"
      ]
     },
     "metadata": {
      "needs_background": "light"
     },
     "output_type": "display_data"
    },
    {
     "data": {
      "image/png": "[encoded data removed]",
      "text/plain": [
       "<Figure size 432x288 with 1 Axes>"
      ]
     },
     "metadata": {
      "needs_background": "light"
     },
     "output_type": "display_data"
    }
   ],
   "source": [
    "# Hidden Layer\n",
    "from IPython.display import display, clear_output\n",
    "for image in normalized_val_ds.take(1):\n",
    "    x_test,_ = image\n",
    "    encoded_img = encoder.predict(x_test)\n",
    "    decoded_img = decoder.predict(encoded_img)\n",
    "    for x, e, d in zip(x_test, encoded_img, decoded_img):\n",
    "        #print(x.shape)\n",
    "        x = np.reshape(x,(41,36,1))\n",
    "        #plt.imshow(x)\n",
    "        #print(x.shape)\n",
    "        #print(d.shape)\n",
    "        d = np.reshape(d,(41,36,1))\n",
    "        #print(d.shape)\n",
    "        #plt.imshow(d)\n",
    "        plt.imshow(np.hstack((x,d)))\n",
    "        plt.pause(1)\n",
    "plt.show()"
   ]
  },
  {
   "cell_type": "code",
   "execution_count": 15,
   "metadata": {},
   "outputs": [
    {
     "name": "stdout",
     "output_type": "stream",
     "text": [
      "1/1 [==============================] - 0s 78ms/step\n",
      "1/1 [==============================] - 0s 53ms/step\n"
     ]
    },
    {
     "data": {
      "image/png": "[encoded data removed]",
      "text/plain": [
       "<Figure size 432x288 with 1 Axes>"
      ]
     },
     "metadata": {
      "needs_background": "light"
     },
     "output_type": "display_data"
    },
    {
     "data": {
      "image/png": "[encoded data removed]",
      "text/plain": [
       "<Figure size 432x288 with 1 Axes>"
      ]
     },
     "metadata": {
      "needs_background": "light"
     },
     "output_type": "display_data"
    },
    {
     "data": {
      "image/png": "[encoded data removed]",
      "text/plain": [
       "<Figure size 432x288 with 1 Axes>"
      ]
     },
     "metadata": {
      "needs_background": "light"
     },
     "output_type": "display_data"
    },
    {
     "data": {
      "image/png": "[encoded data removed]",
      "text/plain": [
       "<Figure size 432x288 with 1 Axes>"
      ]
     },
     "metadata": {
      "needs_background": "light"
     },
     "output_type": "display_data"
    },
    {
     "data": {
      "image/png": "[encoded data removed]",
      "text/plain": [
       "<Figure size 432x288 with 1 Axes>"
      ]
     },
     "metadata": {
      "needs_background": "light"
     },
     "output_type": "display_data"
    },
    {
     "data": {
      "image/png": "[encoded data removed]",
      "text/plain": [
       "<Figure size 432x288 with 1 Axes>"
      ]
     },
     "metadata": {
      "needs_background": "light"
     },
     "output_type": "display_data"
    },
    {
     "data": {
      "image/png": "[encoded data removed]",
      "text/plain": [
       "<Figure size 432x288 with 1 Axes>"
      ]
     },
     "metadata": {
      "needs_background": "light"
     },
     "output_type": "display_data"
    },
    {
     "data": {
      "image/png": "[encoded data removed]",
      "text/plain": [
       "<Figure size 432x288 with 1 Axes>"
      ]
     },
     "metadata": {
      "needs_background": "light"
     },
     "output_type": "display_data"
    },
    {
     "data": {
      "image/png": "[encoded data removed]",
      "text/plain": [
       "<Figure size 432x288 with 1 Axes>"
      ]
     },
     "metadata": {
      "needs_background": "light"
     },
     "output_type": "display_data"
    },
    {
     "data": {
      "image/png": "[encoded data removed]",
      "text/plain": [
       "<Figure size 432x288 with 1 Axes>"
      ]
     },
     "metadata": {
      "needs_background": "light"
     },
     "output_type": "display_data"
    },
    {
     "data": {
      "image/png": "[encoded data removed]",
      "text/plain": [
       "<Figure size 432x288 with 1 Axes>"
      ]
     },
     "metadata": {
      "needs_background": "light"
     },
     "output_type": "display_data"
    },
    {
     "data": {
      "image/png": "[encoded data removed]",
      "text/plain": [
       "<Figure size 432x288 with 1 Axes>"
      ]
     },
     "metadata": {
      "needs_background": "light"
     },
     "output_type": "display_data"
    },
    {
     "data": {
      "image/png": "[encoded data removed]",
      "text/plain": [
       "<Figure size 432x288 with 1 Axes>"
      ]
     },
     "metadata": {
      "needs_background": "light"
     },
     "output_type": "display_data"
    },
    {
     "data": {
      "image/png": "[encoded data removed]",
      "text/plain": [
       "<Figure size 432x288 with 1 Axes>"
      ]
     },
     "metadata": {
      "needs_background": "light"
     },
     "output_type": "display_data"
    },
    {
     "data": {
      "image/png": "[encoded data removed]",
      "text/plain": [
       "<Figure size 432x288 with 1 Axes>"
      ]
     },
     "metadata": {
      "needs_background": "light"
     },
     "output_type": "display_data"
    },
    {
     "data": {
      "image/png": "[encoded data removed]",
      "text/plain": [
       "<Figure size 432x288 with 1 Axes>"
      ]
     },
     "metadata": {
      "needs_background": "light"
     },
     "output_type": "display_data"
    },
    {
     "data": {
      "image/png": "[encoded data removed]",
      "text/plain": [
       "<Figure size 432x288 with 1 Axes>"
      ]
     },
     "metadata": {
      "needs_background": "light"
     },
     "output_type": "display_data"
    },
    {
     "data": {
      "image/png": "[encoded data removed]",
      "text/plain": [
       "<Figure size 432x288 with 1 Axes>"
      ]
     },
     "metadata": {
      "needs_background": "light"
     },
     "output_type": "display_data"
    },
    {
     "data": {
      "image/png": "[encoded data removed]",
      "text/plain": [
       "<Figure size 432x288 with 1 Axes>"
      ]
     },
     "metadata": {
      "needs_background": "light"
     },
     "output_type": "display_data"
    },
    {
     "data": {
      "image/png": "[encoded data removed]",
      "text/plain": [
       "<Figure size 432x288 with 1 Axes>"
      ]
     },
     "metadata": {
      "needs_background": "light"
     },
     "output_type": "display_data"
    },
    {
     "data": {
      "image/png": "[encoded data removed]",
      "text/plain": [
       "<Figure size 432x288 with 1 Axes>"
      ]
     },
     "metadata": {
      "needs_background": "light"
     },
     "output_type": "display_data"
    },
    {
     "data": {
      "image/png": "[encoded data removed]",
      "text/plain": [
       "<Figure size 432x288 with 1 Axes>"
      ]
     },
     "metadata": {
      "needs_background": "light"
     },
     "output_type": "display_data"
    },
    {
     "data": {
      "image/png": "[encoded data removed]",
      "text/plain": [
       "<Figure size 432x288 with 1 Axes>"
      ]
     },
     "metadata": {
      "needs_background": "light"
     },
     "output_type": "display_data"
    },
    {
     "data": {
      "image/png": "[encoded data removed]",
      "text/plain": [
       "<Figure size 432x288 with 1 Axes>"
      ]
     },
     "metadata": {
      "needs_background": "light"
     },
     "output_type": "display_data"
    },
    {
     "data": {
      "image/png": "[encoded data removed]",
      "text/plain": [
       "<Figure size 432x288 with 1 Axes>"
      ]
     },
     "metadata": {
      "needs_background": "light"
     },
     "output_type": "display_data"
    },
    {
     "data": {
      "image/png": "[encoded data removed]",
      "text/plain": [
       "<Figure size 432x288 with 1 Axes>"
      ]
     },
     "metadata": {
      "needs_background": "light"
     },
     "output_type": "display_data"
    },
    {
     "data": {
      "image/png": "[encoded data removed]",
      "text/plain": [
       "<Figure size 432x288 with 1 Axes>"
      ]
     },
     "metadata": {
      "needs_background": "light"
     },
     "output_type": "display_data"
    },
    {
     "data": {
      "image/png": "[encoded data removed]",
      "text/plain": [
       "<Figure size 432x288 with 1 Axes>"
      ]
     },
     "metadata": {
      "needs_background": "light"
     },
     "output_type": "display_data"
    },
    {
     "data": {
      "image/png": "[encoded data removed]",
      "text/plain": [
       "<Figure size 432x288 with 1 Axes>"
      ]
     },
     "metadata": {
      "needs_background": "light"
     },
     "output_type": "display_data"
    },
    {
     "data": {
      "image/png": "[encoded data removed]",
      "text/plain": [
       "<Figure size 432x288 with 1 Axes>"
      ]
     },
     "metadata": {
      "needs_background": "light"
     },
     "output_type": "display_data"
    },
    {
     "data": {
      "image/png": "[encoded data removed]",
      "text/plain": [
       "<Figure size 432x288 with 1 Axes>"
      ]
     },
     "metadata": {
      "needs_background": "light"
     },
     "output_type": "display_data"
    },
    {
     "data": {
      "image/png": "[encoded data removed]",
      "text/plain": [
       "<Figure size 432x288 with 1 Axes>"
      ]
     },
     "metadata": {
      "needs_background": "light"
     },
     "output_type": "display_data"
    }
   ],
   "source": [
    "from IPython.display import display, clear_output\n",
    "for image in normalized_val_ds.take(1):\n",
    "    x_test,_ = image\n",
    "    encoded_img = encoder.predict(x_test)\n",
    "    decoded_img = decoder.predict(encoded_img)\n",
    "    for x, e, d in zip(x_test, encoded_img, decoded_img):\n",
    "        #print(x.shape)\n",
    "        x = np.reshape(x,(41,36,1))\n",
    "        #plt.imshow(x)\n",
    "        #print(x.shape)\n",
    "        #print(d.shape)\n",
    "        d = np.reshape(d,(41,36,1))\n",
    "        #print(d.shape)\n",
    "        #plt.imshow(d)\n",
    "        plt.imshow(np.hstack((x,d)))\n",
    "        plt.pause(1)\n",
    "plt.show()"
   ]
  },
  {
   "cell_type": "code",
   "execution_count": null,
   "metadata": {},
   "outputs": [],
   "source": []
  }
 ],
 "metadata": {
  "kernelspec": {
   "display_name": "Python 3.7.13 ('ai_project')",
   "language": "python",
   "name": "python3"
  },
  "language_info": {
   "codemirror_mode": {
    "name": "ipython",
    "version": 3
   },
   "file_extension": ".py",
   "mimetype": "text/x-python",
   "name": "python",
   "nbconvert_exporter": "python",
   "pygments_lexer": "ipython3",
   "version": "3.7.13"
  },
  "orig_nbformat": 4,
  "vscode": {
   "interpreter": {
    "hash": "98fd39865f2a79adb11522d8a414ce191c5839e274498aa4ac09723d5f348cf2"
   }
  }
 },
 "nbformat": 4,
 "nbformat_minor": 2
}
